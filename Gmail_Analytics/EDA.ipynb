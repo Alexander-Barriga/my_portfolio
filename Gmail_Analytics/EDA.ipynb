{
 "cells": [
  {
   "cell_type": "code",
   "execution_count": 1,
   "metadata": {},
   "outputs": [],
   "source": [
    "import pandas as pd \n",
    "import numpy as np\n",
    "import psycopg2\n",
    "import seaborn as sns\n",
    "import matplotlib.pyplot as plt\n",
    "import plotly.express as px"
   ]
  },
  {
   "cell_type": "code",
   "execution_count": 2,
   "metadata": {},
   "outputs": [
    {
     "data": {
      "text/plain": [
       "True"
      ]
     },
     "execution_count": 2,
     "metadata": {},
     "output_type": "execute_result"
    }
   ],
   "source": [
    "from dotenv import load_dotenv # used to load env variables\n",
    "load_dotenv()"
   ]
  },
  {
   "cell_type": "code",
   "execution_count": 3,
   "metadata": {},
   "outputs": [],
   "source": [
    "# DB Configuration (Assuming you already have this)\n",
    "DB_CONFIG = {\n",
    "    'dbname': 'emails_db',\n",
    "    'user': 'alexanderbarriga03',\n",
    "    'password': 'water03',\n",
    "    'host': 'localhost',\n",
    "    'port': '5432'\n",
    "}\n",
    "\n",
    "def get_emails_from_db():\n",
    "    # Retrieve vector from PostgreSQL and decode it\n",
    "    conn = psycopg2.connect(**DB_CONFIG)\n",
    "    cursor = conn.cursor()\n",
    "\n",
    "    cursor.execute(\"SELECT * FROM emails\")\n",
    "    emails = cursor.fetchall()\n",
    "\n",
    "    data = []\n",
    "    for email in emails:\n",
    "        emails_dict = {}\n",
    "        emails_dict['id'] = email[0]\n",
    "        emails_dict['sender'] = email[1]\n",
    "        emails_dict['subject'] = email[2]\n",
    "        emails_dict['timestamp'] = email[3]\n",
    "        emails_dict['body'] = email[4]\n",
    "        emails_dict['body_vector'] = np.frombuffer(email[5], dtype=np.float32)\n",
    "        data.append(emails_dict)\n",
    "\n",
    "    cursor.close()\n",
    "    conn.close()\n",
    "    \n",
    "    return data"
   ]
  },
  {
   "cell_type": "code",
   "execution_count": 4,
   "metadata": {},
   "outputs": [
    {
     "data": {
      "text/plain": [
       "1086"
      ]
     },
     "execution_count": 4,
     "metadata": {},
     "output_type": "execute_result"
    }
   ],
   "source": [
    "load_emails = get_emails_from_db() # load emails from db\n",
    "len(load_emails)"
   ]
  },
  {
   "cell_type": "code",
   "execution_count": 22,
   "metadata": {},
   "outputs": [
    {
     "data": {
      "text/html": [
       "<div>\n",
       "<style scoped>\n",
       "    .dataframe tbody tr th:only-of-type {\n",
       "        vertical-align: middle;\n",
       "    }\n",
       "\n",
       "    .dataframe tbody tr th {\n",
       "        vertical-align: top;\n",
       "    }\n",
       "\n",
       "    .dataframe thead th {\n",
       "        text-align: right;\n",
       "    }\n",
       "</style>\n",
       "<table border=\"1\" class=\"dataframe\">\n",
       "  <thead>\n",
       "    <tr style=\"text-align: right;\">\n",
       "      <th></th>\n",
       "      <th>id</th>\n",
       "      <th>sender</th>\n",
       "      <th>subject</th>\n",
       "      <th>timestamp</th>\n",
       "      <th>body</th>\n",
       "      <th>body_vector</th>\n",
       "      <th>date</th>\n",
       "    </tr>\n",
       "  </thead>\n",
       "  <tbody>\n",
       "    <tr>\n",
       "      <th>0</th>\n",
       "      <td>8</td>\n",
       "      <td>Meetup &lt;info@meetup.com&gt;</td>\n",
       "      <td>Amelia Mink posted in Data Science for Sustain...</td>\n",
       "      <td>2025-02-17 23:31:19-08:00</td>\n",
       "      <td>Amelia Mink posted in Data Science for Sustain...</td>\n",
       "      <td>[0.007864882, 0.021925885, 0.049149904, -0.010...</td>\n",
       "      <td>2025-02-17</td>\n",
       "    </tr>\n",
       "    <tr>\n",
       "      <th>1</th>\n",
       "      <td>9</td>\n",
       "      <td>Gargi K Kand &lt;gargikand@user.luma-mail.com&gt;</td>\n",
       "      <td>You are invited to Gen Z Founders Meetup 💃🎉</td>\n",
       "      <td>2025-02-17 23:00:46-08:00</td>\n",
       "      <td>You’re invited toGen Z Founders Meetup 💃🎉Tuesd...</td>\n",
       "      <td>[-0.027701547, 0.0310088, -0.010775029, 0.0235...</td>\n",
       "      <td>2025-02-17</td>\n",
       "    </tr>\n",
       "    <tr>\n",
       "      <th>2</th>\n",
       "      <td>10</td>\n",
       "      <td>LinkedIn Job Alerts &lt;jobalerts-noreply@linkedi...</td>\n",
       "      <td>“data scientist”: Jobot - Data Scientist and more</td>\n",
       "      <td>2025-02-17 22:57:28-08:00</td>\n",
       "      <td>Your job alert for data scientist in Berkeley6...</td>\n",
       "      <td>[-0.035555333, -0.022728117, 0.0257007, 0.0118...</td>\n",
       "      <td>2025-02-17</td>\n",
       "    </tr>\n",
       "    <tr>\n",
       "      <th>3</th>\n",
       "      <td>11</td>\n",
       "      <td>Gargi K Kand &lt;noreply@luma-mail.com&gt;</td>\n",
       "      <td>Vently's Wellness Block Party!</td>\n",
       "      <td>2025-02-17 21:54:53-08:00</td>\n",
       "      <td>[ Block Party (Vently x SF Social Club)Feb 23,...</td>\n",
       "      <td>[-0.02093746, -0.018726151, 0.0027641365, 0.03...</td>\n",
       "      <td>2025-02-17</td>\n",
       "    </tr>\n",
       "    <tr>\n",
       "      <th>4</th>\n",
       "      <td>12</td>\n",
       "      <td>LinkedIn Job Alerts &lt;jobalerts-noreply@linkedi...</td>\n",
       "      <td>“data scientist”: Eczacıbaşı Bilişim - DATA SC...</td>\n",
       "      <td>2025-02-17 20:57:26-08:00</td>\n",
       "      <td>Your job alert for data scientist30+ new jobs ...</td>\n",
       "      <td>[-0.035098318, -0.017927919, 0.027132906, 0.00...</td>\n",
       "      <td>2025-02-17</td>\n",
       "    </tr>\n",
       "  </tbody>\n",
       "</table>\n",
       "</div>"
      ],
      "text/plain": [
       "   id                                             sender  \\\n",
       "0   8                           Meetup <info@meetup.com>   \n",
       "1   9        Gargi K Kand <gargikand@user.luma-mail.com>   \n",
       "2  10  LinkedIn Job Alerts <jobalerts-noreply@linkedi...   \n",
       "3  11               Gargi K Kand <noreply@luma-mail.com>   \n",
       "4  12  LinkedIn Job Alerts <jobalerts-noreply@linkedi...   \n",
       "\n",
       "                                             subject  \\\n",
       "0  Amelia Mink posted in Data Science for Sustain...   \n",
       "1        You are invited to Gen Z Founders Meetup 💃🎉   \n",
       "2  “data scientist”: Jobot - Data Scientist and more   \n",
       "3                     Vently's Wellness Block Party!   \n",
       "4  “data scientist”: Eczacıbaşı Bilişim - DATA SC...   \n",
       "\n",
       "                  timestamp  \\\n",
       "0 2025-02-17 23:31:19-08:00   \n",
       "1 2025-02-17 23:00:46-08:00   \n",
       "2 2025-02-17 22:57:28-08:00   \n",
       "3 2025-02-17 21:54:53-08:00   \n",
       "4 2025-02-17 20:57:26-08:00   \n",
       "\n",
       "                                                body  \\\n",
       "0  Amelia Mink posted in Data Science for Sustain...   \n",
       "1  You’re invited toGen Z Founders Meetup 💃🎉Tuesd...   \n",
       "2  Your job alert for data scientist in Berkeley6...   \n",
       "3  [ Block Party (Vently x SF Social Club)Feb 23,...   \n",
       "4  Your job alert for data scientist30+ new jobs ...   \n",
       "\n",
       "                                         body_vector        date  \n",
       "0  [0.007864882, 0.021925885, 0.049149904, -0.010...  2025-02-17  \n",
       "1  [-0.027701547, 0.0310088, -0.010775029, 0.0235...  2025-02-17  \n",
       "2  [-0.035555333, -0.022728117, 0.0257007, 0.0118...  2025-02-17  \n",
       "3  [-0.02093746, -0.018726151, 0.0027641365, 0.03...  2025-02-17  \n",
       "4  [-0.035098318, -0.017927919, 0.027132906, 0.00...  2025-02-17  "
      ]
     },
     "execution_count": 22,
     "metadata": {},
     "output_type": "execute_result"
    }
   ],
   "source": [
    "df = pd.DataFrame(load_emails)\n",
    "df.timestamp = pd.to_datetime(df.timestamp)\n",
    "df[\"body\"] = df[\"body\"].astype(\"string\")  \n",
    "#df[\"body_vector\"] = df[\"body_vector\"].apply(lambda x: np.array(x))\n",
    "df[\"date\"] = df[\"timestamp\"].dt.date\n",
    "\n",
    "df.head()"
   ]
  },
  {
   "cell_type": "code",
   "execution_count": 23,
   "metadata": {},
   "outputs": [],
   "source": [
    "# agg emails received by day for plotting\n",
    "email_daily_count = df.groupby(\"date\").size().to_frame()\n",
    "email_daily_count.rename({0:'daily_email_count'}, axis=1, inplace=True)"
   ]
  },
  {
   "cell_type": "code",
   "execution_count": 24,
   "metadata": {},
   "outputs": [
    {
     "data": {
      "application/vnd.plotly.v1+json": {
       "config": {
        "plotlyServerURL": "https://plot.ly"
       },
       "data": [
        {
         "hovertemplate": "date=%{x}<br>daily_email_count=%{y}<extra></extra>",
         "legendgroup": "",
         "line": {
          "color": "#636efa",
          "dash": "solid"
         },
         "marker": {
          "symbol": "circle"
         },
         "mode": "lines+markers",
         "name": "",
         "orientation": "v",
         "showlegend": false,
         "type": "scatter",
         "x": [
          "2025-02-17",
          "2025-02-20",
          "2025-02-21",
          "2025-02-22",
          "2025-02-23",
          "2025-02-24",
          "2025-02-25",
          "2025-02-26",
          "2025-02-27",
          "2025-02-28",
          "2025-03-01",
          "2025-03-02",
          "2025-03-03",
          "2025-03-04"
         ],
         "xaxis": "x",
         "y": {
          "bdata": "EgBmAEoALwB2AJoAVABRAFgASAAvADAASABRAA==",
          "dtype": "i2"
         },
         "yaxis": "y"
        }
       ],
       "layout": {
        "legend": {
         "tracegroupgap": 0
        },
        "template": {
         "data": {
          "bar": [
           {
            "error_x": {
             "color": "#2a3f5f"
            },
            "error_y": {
             "color": "#2a3f5f"
            },
            "marker": {
             "line": {
              "color": "#E5ECF6",
              "width": 0.5
             },
             "pattern": {
              "fillmode": "overlay",
              "size": 10,
              "solidity": 0.2
             }
            },
            "type": "bar"
           }
          ],
          "barpolar": [
           {
            "marker": {
             "line": {
              "color": "#E5ECF6",
              "width": 0.5
             },
             "pattern": {
              "fillmode": "overlay",
              "size": 10,
              "solidity": 0.2
             }
            },
            "type": "barpolar"
           }
          ],
          "carpet": [
           {
            "aaxis": {
             "endlinecolor": "#2a3f5f",
             "gridcolor": "white",
             "linecolor": "white",
             "minorgridcolor": "white",
             "startlinecolor": "#2a3f5f"
            },
            "baxis": {
             "endlinecolor": "#2a3f5f",
             "gridcolor": "white",
             "linecolor": "white",
             "minorgridcolor": "white",
             "startlinecolor": "#2a3f5f"
            },
            "type": "carpet"
           }
          ],
          "choropleth": [
           {
            "colorbar": {
             "outlinewidth": 0,
             "ticks": ""
            },
            "type": "choropleth"
           }
          ],
          "contour": [
           {
            "colorbar": {
             "outlinewidth": 0,
             "ticks": ""
            },
            "colorscale": [
             [
              0,
              "#0d0887"
             ],
             [
              0.1111111111111111,
              "#46039f"
             ],
             [
              0.2222222222222222,
              "#7201a8"
             ],
             [
              0.3333333333333333,
              "#9c179e"
             ],
             [
              0.4444444444444444,
              "#bd3786"
             ],
             [
              0.5555555555555556,
              "#d8576b"
             ],
             [
              0.6666666666666666,
              "#ed7953"
             ],
             [
              0.7777777777777778,
              "#fb9f3a"
             ],
             [
              0.8888888888888888,
              "#fdca26"
             ],
             [
              1,
              "#f0f921"
             ]
            ],
            "type": "contour"
           }
          ],
          "contourcarpet": [
           {
            "colorbar": {
             "outlinewidth": 0,
             "ticks": ""
            },
            "type": "contourcarpet"
           }
          ],
          "heatmap": [
           {
            "colorbar": {
             "outlinewidth": 0,
             "ticks": ""
            },
            "colorscale": [
             [
              0,
              "#0d0887"
             ],
             [
              0.1111111111111111,
              "#46039f"
             ],
             [
              0.2222222222222222,
              "#7201a8"
             ],
             [
              0.3333333333333333,
              "#9c179e"
             ],
             [
              0.4444444444444444,
              "#bd3786"
             ],
             [
              0.5555555555555556,
              "#d8576b"
             ],
             [
              0.6666666666666666,
              "#ed7953"
             ],
             [
              0.7777777777777778,
              "#fb9f3a"
             ],
             [
              0.8888888888888888,
              "#fdca26"
             ],
             [
              1,
              "#f0f921"
             ]
            ],
            "type": "heatmap"
           }
          ],
          "histogram": [
           {
            "marker": {
             "pattern": {
              "fillmode": "overlay",
              "size": 10,
              "solidity": 0.2
             }
            },
            "type": "histogram"
           }
          ],
          "histogram2d": [
           {
            "colorbar": {
             "outlinewidth": 0,
             "ticks": ""
            },
            "colorscale": [
             [
              0,
              "#0d0887"
             ],
             [
              0.1111111111111111,
              "#46039f"
             ],
             [
              0.2222222222222222,
              "#7201a8"
             ],
             [
              0.3333333333333333,
              "#9c179e"
             ],
             [
              0.4444444444444444,
              "#bd3786"
             ],
             [
              0.5555555555555556,
              "#d8576b"
             ],
             [
              0.6666666666666666,
              "#ed7953"
             ],
             [
              0.7777777777777778,
              "#fb9f3a"
             ],
             [
              0.8888888888888888,
              "#fdca26"
             ],
             [
              1,
              "#f0f921"
             ]
            ],
            "type": "histogram2d"
           }
          ],
          "histogram2dcontour": [
           {
            "colorbar": {
             "outlinewidth": 0,
             "ticks": ""
            },
            "colorscale": [
             [
              0,
              "#0d0887"
             ],
             [
              0.1111111111111111,
              "#46039f"
             ],
             [
              0.2222222222222222,
              "#7201a8"
             ],
             [
              0.3333333333333333,
              "#9c179e"
             ],
             [
              0.4444444444444444,
              "#bd3786"
             ],
             [
              0.5555555555555556,
              "#d8576b"
             ],
             [
              0.6666666666666666,
              "#ed7953"
             ],
             [
              0.7777777777777778,
              "#fb9f3a"
             ],
             [
              0.8888888888888888,
              "#fdca26"
             ],
             [
              1,
              "#f0f921"
             ]
            ],
            "type": "histogram2dcontour"
           }
          ],
          "mesh3d": [
           {
            "colorbar": {
             "outlinewidth": 0,
             "ticks": ""
            },
            "type": "mesh3d"
           }
          ],
          "parcoords": [
           {
            "line": {
             "colorbar": {
              "outlinewidth": 0,
              "ticks": ""
             }
            },
            "type": "parcoords"
           }
          ],
          "pie": [
           {
            "automargin": true,
            "type": "pie"
           }
          ],
          "scatter": [
           {
            "fillpattern": {
             "fillmode": "overlay",
             "size": 10,
             "solidity": 0.2
            },
            "type": "scatter"
           }
          ],
          "scatter3d": [
           {
            "line": {
             "colorbar": {
              "outlinewidth": 0,
              "ticks": ""
             }
            },
            "marker": {
             "colorbar": {
              "outlinewidth": 0,
              "ticks": ""
             }
            },
            "type": "scatter3d"
           }
          ],
          "scattercarpet": [
           {
            "marker": {
             "colorbar": {
              "outlinewidth": 0,
              "ticks": ""
             }
            },
            "type": "scattercarpet"
           }
          ],
          "scattergeo": [
           {
            "marker": {
             "colorbar": {
              "outlinewidth": 0,
              "ticks": ""
             }
            },
            "type": "scattergeo"
           }
          ],
          "scattergl": [
           {
            "marker": {
             "colorbar": {
              "outlinewidth": 0,
              "ticks": ""
             }
            },
            "type": "scattergl"
           }
          ],
          "scattermap": [
           {
            "marker": {
             "colorbar": {
              "outlinewidth": 0,
              "ticks": ""
             }
            },
            "type": "scattermap"
           }
          ],
          "scattermapbox": [
           {
            "marker": {
             "colorbar": {
              "outlinewidth": 0,
              "ticks": ""
             }
            },
            "type": "scattermapbox"
           }
          ],
          "scatterpolar": [
           {
            "marker": {
             "colorbar": {
              "outlinewidth": 0,
              "ticks": ""
             }
            },
            "type": "scatterpolar"
           }
          ],
          "scatterpolargl": [
           {
            "marker": {
             "colorbar": {
              "outlinewidth": 0,
              "ticks": ""
             }
            },
            "type": "scatterpolargl"
           }
          ],
          "scatterternary": [
           {
            "marker": {
             "colorbar": {
              "outlinewidth": 0,
              "ticks": ""
             }
            },
            "type": "scatterternary"
           }
          ],
          "surface": [
           {
            "colorbar": {
             "outlinewidth": 0,
             "ticks": ""
            },
            "colorscale": [
             [
              0,
              "#0d0887"
             ],
             [
              0.1111111111111111,
              "#46039f"
             ],
             [
              0.2222222222222222,
              "#7201a8"
             ],
             [
              0.3333333333333333,
              "#9c179e"
             ],
             [
              0.4444444444444444,
              "#bd3786"
             ],
             [
              0.5555555555555556,
              "#d8576b"
             ],
             [
              0.6666666666666666,
              "#ed7953"
             ],
             [
              0.7777777777777778,
              "#fb9f3a"
             ],
             [
              0.8888888888888888,
              "#fdca26"
             ],
             [
              1,
              "#f0f921"
             ]
            ],
            "type": "surface"
           }
          ],
          "table": [
           {
            "cells": {
             "fill": {
              "color": "#EBF0F8"
             },
             "line": {
              "color": "white"
             }
            },
            "header": {
             "fill": {
              "color": "#C8D4E3"
             },
             "line": {
              "color": "white"
             }
            },
            "type": "table"
           }
          ]
         },
         "layout": {
          "annotationdefaults": {
           "arrowcolor": "#2a3f5f",
           "arrowhead": 0,
           "arrowwidth": 1
          },
          "autotypenumbers": "strict",
          "coloraxis": {
           "colorbar": {
            "outlinewidth": 0,
            "ticks": ""
           }
          },
          "colorscale": {
           "diverging": [
            [
             0,
             "#8e0152"
            ],
            [
             0.1,
             "#c51b7d"
            ],
            [
             0.2,
             "#de77ae"
            ],
            [
             0.3,
             "#f1b6da"
            ],
            [
             0.4,
             "#fde0ef"
            ],
            [
             0.5,
             "#f7f7f7"
            ],
            [
             0.6,
             "#e6f5d0"
            ],
            [
             0.7,
             "#b8e186"
            ],
            [
             0.8,
             "#7fbc41"
            ],
            [
             0.9,
             "#4d9221"
            ],
            [
             1,
             "#276419"
            ]
           ],
           "sequential": [
            [
             0,
             "#0d0887"
            ],
            [
             0.1111111111111111,
             "#46039f"
            ],
            [
             0.2222222222222222,
             "#7201a8"
            ],
            [
             0.3333333333333333,
             "#9c179e"
            ],
            [
             0.4444444444444444,
             "#bd3786"
            ],
            [
             0.5555555555555556,
             "#d8576b"
            ],
            [
             0.6666666666666666,
             "#ed7953"
            ],
            [
             0.7777777777777778,
             "#fb9f3a"
            ],
            [
             0.8888888888888888,
             "#fdca26"
            ],
            [
             1,
             "#f0f921"
            ]
           ],
           "sequentialminus": [
            [
             0,
             "#0d0887"
            ],
            [
             0.1111111111111111,
             "#46039f"
            ],
            [
             0.2222222222222222,
             "#7201a8"
            ],
            [
             0.3333333333333333,
             "#9c179e"
            ],
            [
             0.4444444444444444,
             "#bd3786"
            ],
            [
             0.5555555555555556,
             "#d8576b"
            ],
            [
             0.6666666666666666,
             "#ed7953"
            ],
            [
             0.7777777777777778,
             "#fb9f3a"
            ],
            [
             0.8888888888888888,
             "#fdca26"
            ],
            [
             1,
             "#f0f921"
            ]
           ]
          },
          "colorway": [
           "#636efa",
           "#EF553B",
           "#00cc96",
           "#ab63fa",
           "#FFA15A",
           "#19d3f3",
           "#FF6692",
           "#B6E880",
           "#FF97FF",
           "#FECB52"
          ],
          "font": {
           "color": "#2a3f5f"
          },
          "geo": {
           "bgcolor": "white",
           "lakecolor": "white",
           "landcolor": "#E5ECF6",
           "showlakes": true,
           "showland": true,
           "subunitcolor": "white"
          },
          "hoverlabel": {
           "align": "left"
          },
          "hovermode": "closest",
          "mapbox": {
           "style": "light"
          },
          "paper_bgcolor": "white",
          "plot_bgcolor": "#E5ECF6",
          "polar": {
           "angularaxis": {
            "gridcolor": "white",
            "linecolor": "white",
            "ticks": ""
           },
           "bgcolor": "#E5ECF6",
           "radialaxis": {
            "gridcolor": "white",
            "linecolor": "white",
            "ticks": ""
           }
          },
          "scene": {
           "xaxis": {
            "backgroundcolor": "#E5ECF6",
            "gridcolor": "white",
            "gridwidth": 2,
            "linecolor": "white",
            "showbackground": true,
            "ticks": "",
            "zerolinecolor": "white"
           },
           "yaxis": {
            "backgroundcolor": "#E5ECF6",
            "gridcolor": "white",
            "gridwidth": 2,
            "linecolor": "white",
            "showbackground": true,
            "ticks": "",
            "zerolinecolor": "white"
           },
           "zaxis": {
            "backgroundcolor": "#E5ECF6",
            "gridcolor": "white",
            "gridwidth": 2,
            "linecolor": "white",
            "showbackground": true,
            "ticks": "",
            "zerolinecolor": "white"
           }
          },
          "shapedefaults": {
           "line": {
            "color": "#2a3f5f"
           }
          },
          "ternary": {
           "aaxis": {
            "gridcolor": "white",
            "linecolor": "white",
            "ticks": ""
           },
           "baxis": {
            "gridcolor": "white",
            "linecolor": "white",
            "ticks": ""
           },
           "bgcolor": "#E5ECF6",
           "caxis": {
            "gridcolor": "white",
            "linecolor": "white",
            "ticks": ""
           }
          },
          "title": {
           "x": 0.05
          },
          "xaxis": {
           "automargin": true,
           "gridcolor": "white",
           "linecolor": "white",
           "ticks": "",
           "title": {
            "standoff": 15
           },
           "zerolinecolor": "white",
           "zerolinewidth": 2
          },
          "yaxis": {
           "automargin": true,
           "gridcolor": "white",
           "linecolor": "white",
           "ticks": "",
           "title": {
            "standoff": 15
           },
           "zerolinecolor": "white",
           "zerolinewidth": 2
          }
         }
        },
        "title": {
         "text": "Interactive Emails Per Day"
        },
        "xaxis": {
         "anchor": "y",
         "domain": [
          0,
          1
         ],
         "title": {
          "text": "Date"
         }
        },
        "yaxis": {
         "anchor": "x",
         "domain": [
          0,
          1
         ],
         "title": {
          "text": "Email Count"
         }
        }
       }
      }
     },
     "metadata": {},
     "output_type": "display_data"
    }
   ],
   "source": [
    "# Interactive Plotly plot\n",
    "fig = px.line(email_daily_count, \n",
    "              x=email_daily_count.index,\n",
    "              y=\"daily_email_count\", \n",
    "              markers=True, \n",
    "              title=\"Interactive Emails Per Day\", \n",
    "              labels={\"email_count\": \"Number of Emails\"})\n",
    "\n",
    "fig.update_layout(xaxis_title=\"Date\", \n",
    "                  yaxis_title=\"Email Count\")\n",
    "\n",
    "fig.show();"
   ]
  },
  {
   "cell_type": "code",
   "execution_count": 41,
   "metadata": {},
   "outputs": [
    {
     "data": {
      "application/vnd.plotly.v1+json": {
       "config": {
        "plotlyServerURL": "https://plot.ly"
       },
       "data": [
        {
         "hovertemplate": "Principal Component 1=%{x}<br>Principal Component 2=%{y}<br>Principal Component 3=%{z}<br>PC1_magnitude=%{marker.color}<extra></extra>",
         "legendgroup": "",
         "marker": {
          "color": {
           "bdata": "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",
           "dtype": "f4"
          },
          "coloraxis": "coloraxis",
          "opacity": 0.8,
          "symbol": "circle"
         },
         "mode": "markers",
         "name": "",
         "scene": "scene",
         "showlegend": false,
         "type": "scatter3d",
         "x": {
          "bdata": "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",
          "dtype": "f4"
         },
         "y": {
          "bdata": "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",
          "dtype": "f4"
         },
         "z": {
          "bdata": "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",
          "dtype": "f4"
         }
        }
       ],
       "layout": {
        "coloraxis": {
         "colorbar": {
          "title": {
           "text": "PC1_magnitude"
          }
         },
         "colorscale": [
          [
           0,
           "#0d0887"
          ],
          [
           0.1111111111111111,
           "#46039f"
          ],
          [
           0.2222222222222222,
           "#7201a8"
          ],
          [
           0.3333333333333333,
           "#9c179e"
          ],
          [
           0.4444444444444444,
           "#bd3786"
          ],
          [
           0.5555555555555556,
           "#d8576b"
          ],
          [
           0.6666666666666666,
           "#ed7953"
          ],
          [
           0.7777777777777778,
           "#fb9f3a"
          ],
          [
           0.8888888888888888,
           "#fdca26"
          ],
          [
           1,
           "#f0f921"
          ]
         ]
        },
        "legend": {
         "tracegroupgap": 0
        },
        "scene": {
         "domain": {
          "x": [
           0,
           1
          ],
          "y": [
           0,
           1
          ]
         },
         "xaxis": {
          "title": {
           "text": "Principal Component 1"
          }
         },
         "yaxis": {
          "title": {
           "text": "Principal Component 2"
          }
         },
         "zaxis": {
          "title": {
           "text": "Principal Component 3"
          }
         }
        },
        "template": {
         "data": {
          "bar": [
           {
            "error_x": {
             "color": "#2a3f5f"
            },
            "error_y": {
             "color": "#2a3f5f"
            },
            "marker": {
             "line": {
              "color": "#E5ECF6",
              "width": 0.5
             },
             "pattern": {
              "fillmode": "overlay",
              "size": 10,
              "solidity": 0.2
             }
            },
            "type": "bar"
           }
          ],
          "barpolar": [
           {
            "marker": {
             "line": {
              "color": "#E5ECF6",
              "width": 0.5
             },
             "pattern": {
              "fillmode": "overlay",
              "size": 10,
              "solidity": 0.2
             }
            },
            "type": "barpolar"
           }
          ],
          "carpet": [
           {
            "aaxis": {
             "endlinecolor": "#2a3f5f",
             "gridcolor": "white",
             "linecolor": "white",
             "minorgridcolor": "white",
             "startlinecolor": "#2a3f5f"
            },
            "baxis": {
             "endlinecolor": "#2a3f5f",
             "gridcolor": "white",
             "linecolor": "white",
             "minorgridcolor": "white",
             "startlinecolor": "#2a3f5f"
            },
            "type": "carpet"
           }
          ],
          "choropleth": [
           {
            "colorbar": {
             "outlinewidth": 0,
             "ticks": ""
            },
            "type": "choropleth"
           }
          ],
          "contour": [
           {
            "colorbar": {
             "outlinewidth": 0,
             "ticks": ""
            },
            "colorscale": [
             [
              0,
              "#0d0887"
             ],
             [
              0.1111111111111111,
              "#46039f"
             ],
             [
              0.2222222222222222,
              "#7201a8"
             ],
             [
              0.3333333333333333,
              "#9c179e"
             ],
             [
              0.4444444444444444,
              "#bd3786"
             ],
             [
              0.5555555555555556,
              "#d8576b"
             ],
             [
              0.6666666666666666,
              "#ed7953"
             ],
             [
              0.7777777777777778,
              "#fb9f3a"
             ],
             [
              0.8888888888888888,
              "#fdca26"
             ],
             [
              1,
              "#f0f921"
             ]
            ],
            "type": "contour"
           }
          ],
          "contourcarpet": [
           {
            "colorbar": {
             "outlinewidth": 0,
             "ticks": ""
            },
            "type": "contourcarpet"
           }
          ],
          "heatmap": [
           {
            "colorbar": {
             "outlinewidth": 0,
             "ticks": ""
            },
            "colorscale": [
             [
              0,
              "#0d0887"
             ],
             [
              0.1111111111111111,
              "#46039f"
             ],
             [
              0.2222222222222222,
              "#7201a8"
             ],
             [
              0.3333333333333333,
              "#9c179e"
             ],
             [
              0.4444444444444444,
              "#bd3786"
             ],
             [
              0.5555555555555556,
              "#d8576b"
             ],
             [
              0.6666666666666666,
              "#ed7953"
             ],
             [
              0.7777777777777778,
              "#fb9f3a"
             ],
             [
              0.8888888888888888,
              "#fdca26"
             ],
             [
              1,
              "#f0f921"
             ]
            ],
            "type": "heatmap"
           }
          ],
          "histogram": [
           {
            "marker": {
             "pattern": {
              "fillmode": "overlay",
              "size": 10,
              "solidity": 0.2
             }
            },
            "type": "histogram"
           }
          ],
          "histogram2d": [
           {
            "colorbar": {
             "outlinewidth": 0,
             "ticks": ""
            },
            "colorscale": [
             [
              0,
              "#0d0887"
             ],
             [
              0.1111111111111111,
              "#46039f"
             ],
             [
              0.2222222222222222,
              "#7201a8"
             ],
             [
              0.3333333333333333,
              "#9c179e"
             ],
             [
              0.4444444444444444,
              "#bd3786"
             ],
             [
              0.5555555555555556,
              "#d8576b"
             ],
             [
              0.6666666666666666,
              "#ed7953"
             ],
             [
              0.7777777777777778,
              "#fb9f3a"
             ],
             [
              0.8888888888888888,
              "#fdca26"
             ],
             [
              1,
              "#f0f921"
             ]
            ],
            "type": "histogram2d"
           }
          ],
          "histogram2dcontour": [
           {
            "colorbar": {
             "outlinewidth": 0,
             "ticks": ""
            },
            "colorscale": [
             [
              0,
              "#0d0887"
             ],
             [
              0.1111111111111111,
              "#46039f"
             ],
             [
              0.2222222222222222,
              "#7201a8"
             ],
             [
              0.3333333333333333,
              "#9c179e"
             ],
             [
              0.4444444444444444,
              "#bd3786"
             ],
             [
              0.5555555555555556,
              "#d8576b"
             ],
             [
              0.6666666666666666,
              "#ed7953"
             ],
             [
              0.7777777777777778,
              "#fb9f3a"
             ],
             [
              0.8888888888888888,
              "#fdca26"
             ],
             [
              1,
              "#f0f921"
             ]
            ],
            "type": "histogram2dcontour"
           }
          ],
          "mesh3d": [
           {
            "colorbar": {
             "outlinewidth": 0,
             "ticks": ""
            },
            "type": "mesh3d"
           }
          ],
          "parcoords": [
           {
            "line": {
             "colorbar": {
              "outlinewidth": 0,
              "ticks": ""
             }
            },
            "type": "parcoords"
           }
          ],
          "pie": [
           {
            "automargin": true,
            "type": "pie"
           }
          ],
          "scatter": [
           {
            "fillpattern": {
             "fillmode": "overlay",
             "size": 10,
             "solidity": 0.2
            },
            "type": "scatter"
           }
          ],
          "scatter3d": [
           {
            "line": {
             "colorbar": {
              "outlinewidth": 0,
              "ticks": ""
             }
            },
            "marker": {
             "colorbar": {
              "outlinewidth": 0,
              "ticks": ""
             }
            },
            "type": "scatter3d"
           }
          ],
          "scattercarpet": [
           {
            "marker": {
             "colorbar": {
              "outlinewidth": 0,
              "ticks": ""
             }
            },
            "type": "scattercarpet"
           }
          ],
          "scattergeo": [
           {
            "marker": {
             "colorbar": {
              "outlinewidth": 0,
              "ticks": ""
             }
            },
            "type": "scattergeo"
           }
          ],
          "scattergl": [
           {
            "marker": {
             "colorbar": {
              "outlinewidth": 0,
              "ticks": ""
             }
            },
            "type": "scattergl"
           }
          ],
          "scattermap": [
           {
            "marker": {
             "colorbar": {
              "outlinewidth": 0,
              "ticks": ""
             }
            },
            "type": "scattermap"
           }
          ],
          "scattermapbox": [
           {
            "marker": {
             "colorbar": {
              "outlinewidth": 0,
              "ticks": ""
             }
            },
            "type": "scattermapbox"
           }
          ],
          "scatterpolar": [
           {
            "marker": {
             "colorbar": {
              "outlinewidth": 0,
              "ticks": ""
             }
            },
            "type": "scatterpolar"
           }
          ],
          "scatterpolargl": [
           {
            "marker": {
             "colorbar": {
              "outlinewidth": 0,
              "ticks": ""
             }
            },
            "type": "scatterpolargl"
           }
          ],
          "scatterternary": [
           {
            "marker": {
             "colorbar": {
              "outlinewidth": 0,
              "ticks": ""
             }
            },
            "type": "scatterternary"
           }
          ],
          "surface": [
           {
            "colorbar": {
             "outlinewidth": 0,
             "ticks": ""
            },
            "colorscale": [
             [
              0,
              "#0d0887"
             ],
             [
              0.1111111111111111,
              "#46039f"
             ],
             [
              0.2222222222222222,
              "#7201a8"
             ],
             [
              0.3333333333333333,
              "#9c179e"
             ],
             [
              0.4444444444444444,
              "#bd3786"
             ],
             [
              0.5555555555555556,
              "#d8576b"
             ],
             [
              0.6666666666666666,
              "#ed7953"
             ],
             [
              0.7777777777777778,
              "#fb9f3a"
             ],
             [
              0.8888888888888888,
              "#fdca26"
             ],
             [
              1,
              "#f0f921"
             ]
            ],
            "type": "surface"
           }
          ],
          "table": [
           {
            "cells": {
             "fill": {
              "color": "#EBF0F8"
             },
             "line": {
              "color": "white"
             }
            },
            "header": {
             "fill": {
              "color": "#C8D4E3"
             },
             "line": {
              "color": "white"
             }
            },
            "type": "table"
           }
          ]
         },
         "layout": {
          "annotationdefaults": {
           "arrowcolor": "#2a3f5f",
           "arrowhead": 0,
           "arrowwidth": 1
          },
          "autotypenumbers": "strict",
          "coloraxis": {
           "colorbar": {
            "outlinewidth": 0,
            "ticks": ""
           }
          },
          "colorscale": {
           "diverging": [
            [
             0,
             "#8e0152"
            ],
            [
             0.1,
             "#c51b7d"
            ],
            [
             0.2,
             "#de77ae"
            ],
            [
             0.3,
             "#f1b6da"
            ],
            [
             0.4,
             "#fde0ef"
            ],
            [
             0.5,
             "#f7f7f7"
            ],
            [
             0.6,
             "#e6f5d0"
            ],
            [
             0.7,
             "#b8e186"
            ],
            [
             0.8,
             "#7fbc41"
            ],
            [
             0.9,
             "#4d9221"
            ],
            [
             1,
             "#276419"
            ]
           ],
           "sequential": [
            [
             0,
             "#0d0887"
            ],
            [
             0.1111111111111111,
             "#46039f"
            ],
            [
             0.2222222222222222,
             "#7201a8"
            ],
            [
             0.3333333333333333,
             "#9c179e"
            ],
            [
             0.4444444444444444,
             "#bd3786"
            ],
            [
             0.5555555555555556,
             "#d8576b"
            ],
            [
             0.6666666666666666,
             "#ed7953"
            ],
            [
             0.7777777777777778,
             "#fb9f3a"
            ],
            [
             0.8888888888888888,
             "#fdca26"
            ],
            [
             1,
             "#f0f921"
            ]
           ],
           "sequentialminus": [
            [
             0,
             "#0d0887"
            ],
            [
             0.1111111111111111,
             "#46039f"
            ],
            [
             0.2222222222222222,
             "#7201a8"
            ],
            [
             0.3333333333333333,
             "#9c179e"
            ],
            [
             0.4444444444444444,
             "#bd3786"
            ],
            [
             0.5555555555555556,
             "#d8576b"
            ],
            [
             0.6666666666666666,
             "#ed7953"
            ],
            [
             0.7777777777777778,
             "#fb9f3a"
            ],
            [
             0.8888888888888888,
             "#fdca26"
            ],
            [
             1,
             "#f0f921"
            ]
           ]
          },
          "colorway": [
           "#636efa",
           "#EF553B",
           "#00cc96",
           "#ab63fa",
           "#FFA15A",
           "#19d3f3",
           "#FF6692",
           "#B6E880",
           "#FF97FF",
           "#FECB52"
          ],
          "font": {
           "color": "#2a3f5f"
          },
          "geo": {
           "bgcolor": "white",
           "lakecolor": "white",
           "landcolor": "#E5ECF6",
           "showlakes": true,
           "showland": true,
           "subunitcolor": "white"
          },
          "hoverlabel": {
           "align": "left"
          },
          "hovermode": "closest",
          "mapbox": {
           "style": "light"
          },
          "paper_bgcolor": "white",
          "plot_bgcolor": "#E5ECF6",
          "polar": {
           "angularaxis": {
            "gridcolor": "white",
            "linecolor": "white",
            "ticks": ""
           },
           "bgcolor": "#E5ECF6",
           "radialaxis": {
            "gridcolor": "white",
            "linecolor": "white",
            "ticks": ""
           }
          },
          "scene": {
           "xaxis": {
            "backgroundcolor": "#E5ECF6",
            "gridcolor": "white",
            "gridwidth": 2,
            "linecolor": "white",
            "showbackground": true,
            "ticks": "",
            "zerolinecolor": "white"
           },
           "yaxis": {
            "backgroundcolor": "#E5ECF6",
            "gridcolor": "white",
            "gridwidth": 2,
            "linecolor": "white",
            "showbackground": true,
            "ticks": "",
            "zerolinecolor": "white"
           },
           "zaxis": {
            "backgroundcolor": "#E5ECF6",
            "gridcolor": "white",
            "gridwidth": 2,
            "linecolor": "white",
            "showbackground": true,
            "ticks": "",
            "zerolinecolor": "white"
           }
          },
          "shapedefaults": {
           "line": {
            "color": "#2a3f5f"
           }
          },
          "ternary": {
           "aaxis": {
            "gridcolor": "white",
            "linecolor": "white",
            "ticks": ""
           },
           "baxis": {
            "gridcolor": "white",
            "linecolor": "white",
            "ticks": ""
           },
           "bgcolor": "#E5ECF6",
           "caxis": {
            "gridcolor": "white",
            "linecolor": "white",
            "ticks": ""
           }
          },
          "title": {
           "x": 0.05
          },
          "xaxis": {
           "automargin": true,
           "gridcolor": "white",
           "linecolor": "white",
           "ticks": "",
           "title": {
            "standoff": 15
           },
           "zerolinecolor": "white",
           "zerolinewidth": 2
          },
          "yaxis": {
           "automargin": true,
           "gridcolor": "white",
           "linecolor": "white",
           "ticks": "",
           "title": {
            "standoff": 15
           },
           "zerolinecolor": "white",
           "zerolinewidth": 2
          }
         }
        },
        "title": {
         "text": "3D PCA of Email Embeddings"
        }
       }
      }
     },
     "metadata": {},
     "output_type": "display_data"
    }
   ],
   "source": [
    "import numpy as np\n",
    "import pandas as pd\n",
    "import plotly.express as px\n",
    "from sklearn.decomposition import PCA\n",
    "\n",
    "X = np.vstack(df.body_vector.values)\n",
    "\n",
    "# Apply PCA for dimensionality reduction\n",
    "pca = PCA(n_components=3)\n",
    "X_reduced = pca.fit_transform(X)\n",
    "\n",
    "# Create a new DataFrame for visualization\n",
    "df_pca = pd.DataFrame(X_reduced, columns=[\"PC1\", \"PC2\", \"PC3\"])\n",
    "df_pca[\"email_id\"] = df.index  # Assign unique IDs\n",
    "df_pca[\"PC1_magnitude\"] = df_pca[\"PC1\"].abs() \n",
    "\n",
    "# Plot 3D scatter using Plotly\n",
    "fig = px.scatter_3d(df_pca, x=\"PC1\", y=\"PC2\", z=\"PC3\", \n",
    "                     color=df_pca.PC1_magnitude,  # Color by email index\n",
    "                     title=\"3D PCA of Email Embeddings\",\n",
    "                     labels={\"PC1\": \"Principal Component 1\", \"PC2\": \"Principal Component 2\", \"PC3\": \"Principal Component 3\"},\n",
    "                     opacity=0.8)\n",
    "\n",
    "fig.show()"
   ]
  },
  {
   "cell_type": "code",
   "execution_count": 43,
   "metadata": {},
   "outputs": [
    {
     "data": {
      "application/vnd.plotly.v1+json": {
       "config": {
        "plotlyServerURL": "https://plot.ly"
       },
       "data": [
        {
         "hovertemplate": "Principal Component 1=%{x}<br>Principal Component 2=%{y}<extra></extra>",
         "legendgroup": "",
         "marker": {
          "color": "#636efa",
          "opacity": 0.8,
          "symbol": "circle"
         },
         "mode": "markers",
         "name": "",
         "showlegend": false,
         "type": "scattergl",
         "x": {
          "bdata": "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",
          "dtype": "f4"
         },
         "xaxis": "x",
         "y": {
          "bdata": "BjgUPhem/T2I1q4+d0VDvV2Whj7q7yy+q7BpPtQFTj6y5U4+cqSSOgg4FD4Apv09i9auPrSfWr53RUO9XZaGPurvLL7UBU4+suVOPnKkkjplmCq9OxSiPiOhzD12Dkq+rGJJPlFdYD6pYZU+3CivPmWYKr3fWw4+FmOKO71Ecj3s3DS+lzvAup9rbL4XWCI+v4pdPvmVo76i2Jq+gS+VvBXdED4qMMK+7lGVvo5dAT752Em+QCBtPlypY77G0Lq+bsY3PppcPD7wOjQ+NAIvvVt5NT558wc+90HLvmtpd77GpYW+/1hVvt3SUb4Vj4m+lqtpvSTrfj4Jpgk9xtGfvm4iCrws8DQ+n0NSPJs1K720KZu7mzUrvW/ih72RELu+nUkEPt08jr4wZQ0+7SGKPXhc/r32vN6+IpLYPDn8cD6Cx8G+ob46PrxJ771P6s++2DMBPiZxKT4WpUk+3kIDPt1YQj7fTEG9U/ldvjCJkLyg1qi8Xu4UPtThIT5Gyy0+3JiKvWbim76aNTk+rKhnvX7eib5ICjY+/D2UvDWBkT5vCpg+s8PFPepfhD5KpqU+YOXYPcagiT6YZ0k+M6e0PZjZaL7vpmK9zxdxPkUP174DpZe+a92XvmNk/D3oHpi+c0IlPmm6E773s9y8bxkRPhHhdL7Bo2A+s+cJPlDwWT6jQmE+niZ/PZT/Nj6mJKI+E5CFPgjpzb55bYA+ROsKPuC5Dz5lT4M8b09VvrgBIb496Oo9l2VbvL1Anr6F/au+2dJlPauw9zzuLLG+FIqEPqYShz1e3WW+gsfBvk4C+z1qr14+7LIBPnGwwr4bkEk+GN2lO9ZroD1Vhys+U0UEPgKyubz0C2293ggxPjfaIz4fz4y9CrdVva2arD5iOYY+BrdLvR9NYT4w4a8+JJ8BvmgB+73YVec9W3GIPiOshL6qzIE+qvjWvAcjlr2Ro3E9q61Vvq55k77jWA4+2it5PFaQgL6uV9y+Pp6MvuuNf76cSYc+GdyNvqDOg76cc6s+13WoPW7bxb77o6s+VkobPjkun7540+M9ppvfvs+qCz7kmjM+vpURPo245T0Zb/e9Fd0QPppTsL5f5+g9rgiZvqV+jz2iPKw9MMKDvuWmtjxkL8A9qFb+vYAKqz4RyWK9q8+ZvrSlt74elGQ9DSLVPdaG8D3zUcW+7Ot2vvEnlb4NIL2+3nG/vd2ZDD5Aqdi+mCXvvU0Xjr7eBO49A59iPjh5Zj4XbQK8xaUFPk/qz778PwQ+wH7nvd8Imb7XwJ++knxYvUoGmL6aU58+Dr0pPgkKYD59sXg9kO9/Pv5a5rxlnKm8P1GOvj920T0N0g4+4r8EPkmoWL48YYY+jzmCvvmVo74JZWu++A98PiwJML64Ov09ppGHuzHQGT7B2ru+96K6vkfhU77/WFW+qtS0vCshPT7gkmq+KOAsPr0FhT2W0pS+8tUAPu8fSb1G87u+nODrPVOQ3z0k634+nOuMvhEpmz1/uIg96AEpvsUR2Dt2eKm9GYQVPq5mUT6fmKu9R+4Xvbqd+D05E8k9VEwqPtAQHz7xJJk9IvAbPlB/ir5Vg6q+sDZIPmeFCD7UpYE+yWzbvbD6yb7YQzY+FmPDviZFNz6V1hc+i4kiPhOrJD4BqTM+79KJvjXC1T0DBi8+DXfrvXwnQz4u60Y+8EG1vewOa7uV0J2+mGmePqAB777zIt+9iPaLvnCIhT4llmY+NAmUvnhHCD6Ujo0+p+ULPq6r3r3UiMS+Hvw0Pj1awTyiM06+hlwdPpP9/T1rIas+T+rPvoehqr0uxSA+vUMIPnOlnb7q+Qg+L+xlPeGyEj571lo+IdRWPgryHL4e9PO+mvaUvqQwXD7rqLg+/1hVvp8BGT2jEbQ9/d2IPnPOhT3s63a+mqwYvXOBib6+4QS+C4DWPUMa5D3aLt++eA5ZPcPmwb4N2kQ+Ql3Vvi9AAz6cGCU+KRiQvp2yhb1Ljak+yWaQPqW+8j2gffa9qE+Tvl+Nij7JzY+7TP8pPhSifL6wt0y+6T7TvKwSFL5Sgsg9dXJRvqgXYD7/WFW+UH6+vdZdNz59LpQ7uB06Pixfib4wvPo9OIQuPvPRNb3EnQU+wZEBPu1lNz5fj5c+ufXFvvjhn76zdNU9HqSvPfiMu72a1328efBGPQO1lb4UZwg6tkCMvQRrgb7rzrU9k/NAvgYLbD0KuS8+SO7PvoXSKb5LGOk9tNdPPqQ2jD4PDK8+OrAyPnZBnD6+f5O9a6WtPjbQpT4gBSs+ho5uPvLFQj5kbFq+US6WPvhDLT31L/y9gH6zvvWYDb6gvZS9Np7PvEb+4j1ObJ8+tJFKvmMuCD6fJhS+tyuOveJxYr082GS+eqi6vg8oijtZjZG8DrYoveDtWr5s3l8+fCOKPef6OT49GmE+CfVnPlphx75+XYI9xvYLPgde3r6+5I2+KfEbvnFbFz6a1328/VEdvmyrhr7QfEo+LdKpvuMBYr1CvkM98CyVPdLAKD5uGjI+tBvTvfmVo76EBIE+xC6/vDru671KjcS+Us7BvoUnmL52o9e96yU9PiwWGz5P6s++gTQfPh2DXjxO0jA9Fn7EvfJXpT7+RYK+oQA8PhPCmj0/cAm9M6O6PVSpj76EcYe9AT4mvT2Nr776JZ8+ThAOPWVIBT6SKx2+BBmLPooxCj6HBZ4+V+qxPgx9qb6rZg09GFqtPAZYlb7V9IU+3fQNPgy8CD7hFde+C+QGPlG9KT5GKZY9LQYSPijmCT4l5LK+EmBgPqkEZT7GySk+6NdhPnySZj7QPGg+RqddPs02Sj73mKo9Q3RkPgYXnjwSQZQ+WJTJvf8KOT5MMPs8ITdOvt5ipD7doGs+/1hVvm16W76KyvQ9NodnvUGbqL6u/de+mgUtOw/V3z2EWHs6lgQWPl6VYzv+C7m+v4uZvKTwOD5Y2Jw+lbZwvlO9UD6DFgC+wP3FvlKClb4JDK6+uYotPsqtOb2TMmo93ZOkPjmIgr4wVyo8V9XrvrBqIz6MiGw+LAewvJptXj7MEH6+S5xEPqmo2b7uI10+yjbfPW0ORD6CCA69oglEPpgOXT2MIu+9Q0IHupOLtT5i614+V45KvkeuaT5OPoo+GjdtvSNqkz5fiKC+zRg8PhGmrz6Qtny9PIR4Prrx2DwB91s+7Zy8PT+Zhr5JhcG+xMfiPWmPQr5A6pG+uMGkPv+8iT1XiYy9yeRyPv86jz42HEE+gQ0UPkqMCD7gTqo+oRrxvco0/j3y0km+L+xlPf9YVb4k9NS+i6yFvk2rLz41zgo+ED/0Pc+1hT5j9HC+9Ly+PXrnGj5aVCK+JriFvpMfIj4rUJK+nNcoPm76vTx2b8y9L+wZPr4xPD51Ea29Lm6EPECcu70H3749Ylm9vuQnxr6fdUI+5E+8vk/qz75hEUk+rRmmvdmkGD2Skti9efMHPnaY5T0L7TI+ILI4vga1WT6F7Gw+HreTPj2bYL2KPcu+MPVevtM2NT7cAMw8Unw3PhpHqz4SWbW+j03Hvnpjtj6kP4E9JRpoPtjUhz653oI9RappPkSaUj7d3Tw+6vynPqjOhr6/Zua9SPYYPoYkM75La6A8Q+2fPaGHeb0ZFZK+aW6oPSaLpb7+Mia+thzOvnHzC73/Ez4+ITB3vpYOTL5zoKE+iJEIPltAgz4Bics9/9f0PQYjBz7QuUQ+AeaiPTDExL2Awya+p4QkPhZjijtwPXI+UfldvjfQCj4OfYW+WhB4vjFd1r3TfYC+tsuSvT48tT3Tspy+LZobPQT8Jz3xqoi+OrpDPsGaw7626a++QREAPhx01r0BkRU7nCXbPS6Sxb4kKlk+T+rPvoHcBj5AkMQ9ZonQvPtxj74+qOK+cSjSPQWokz1FNyC+2+gcPoBM5b1JMzY+yMmBviMW7T17YP89wj09PTrLo76Hr6O+BbxKvUqmpT4eFKI+I6HMPXYOSr7mBEk+UV1gPqlhlT7cKK8+ZZgqvd9bDj5g5dg9vURyPezcNL6XO8C6H5NsvhdYIj6/il0+JZujvqLYmr4BhZW8Fd0QPiowwr4WXAE++dhJvnMgbT5cqWO+eqi6vm7GNz6WUDw+8Do0PjQCL71beTU+kXOJPmtpd77GpYW+KExVvi3aUb4Vj4m+azZovSTrfj4Jpgk9xtGfvm4iCrws8DQ+n0NSPJs1K70UudG8mzUrvW/ih72RELu+nUkEPt08jr7mPrM9MGUNPu0hij14XP690cHeviKS2DyBOJs+gsfBvqG+Oj5tTu+9T+rPvtgzAT4mcSk+FaVJPso5Az7dWEI+vQOQvKDWqLwLCxU+1OEhPmn2Lj7fmIq9ZuKbvuA8OT4UioQ++lRovX3eib6TEDY+/D2UvDWBkT5vCpg+s8PFPVH+CD6YZ0k+M6e0PZjZaL7vpmK9RQ/XvgOll75r3Ze+Y2T8PbwfmL5lp9o9bxkRPhHhdL6KrWA+s+cJPqYShz0L/1k+o0JhPp4mfz0vL6I+E5CFPqK13755bYA+lam6PWVPgzz/WFW+sdfqPZdlW7y9QJ6+hf2rvi/sZT2rsPc87iyxvjDWZb6Cx8G+TgL7PWqvXj7ssgE+cbDCvvCLST7oHYM+1mugPVWHKz5TRQQ+ArK5vPQLbb3eCDE+WOIdPvOrvr0Kt1W9KEWYPo+BgDzPV3g+VdD4Pd7e4L1S4rI+1qOfPgFhfb6A492+YbobPvNLsT5gMnu+kKcSPTUuv769CAY+p71CPt0lNj4VosG+V+o7PgssYz6InEU+l1OfPlwj5D3FeVu+98LRvjNJpz31nse8fdShvmHG8r6MpIe+Gd+mvpVjgr50z928XIAPPkuCrb7agLA9EhJCPk/qz75pkXA+rdcwvmOWo74tUGY9L6elvot6WD4EdQY+DdoXPuuFjb5eaW69PKqkvkWiaL40B6k+9NB2PvTQdj700HY+IIQnPmNpMj5lNT4+1eBpvgYlgz5VQas+WcTovYPJmz3Tx2A9GXMKPj1jgb1d9wE+efmAPvzu472qFdO9kGQNPveiur5NHv29BHh0vREQYD5s8xk+xqwwPujT4L7lPl4+bOziuzGfZz7ixsG+TmpkPuoeWD6IWYY+b09VvqxPgT7OwMu9f4uTvpbotz1TnOM8z+5qvq1lTz6IteA9DiYoPjaQiLoAIg0+glXLvV4WsL2dim++DyiKO307GT3Feb69T2mcvQ/nqb47Oz49XsJBPm9FID6o84O+3Pquvo0zYD5P6s++YdK5Pd2n1b4iNJK6Wb+zPTI+hL4neT8+Mh2HvUU0SL5k9Ds+/CmmPaEhcb6HfnS+hesGPlbvZT584Dw+QuZbPnPcR7zo3V4+Ysu8PlXmiz6ii4M+UJmiPt3vrj6L2bs9gA7TvYB1T74olrE8V7gOPm4bCL6fJhS+xZSPvgfP1b1hUhi+WKV4vvpsdTwzzjS+xFWVPi4nqT3QYpe+alkSPpAPnj3xzWu+0cjUvt3YBj5mrCY+LTVYPpR4C72Oc2Q+QqQsPrsPIz6jxF89T3wdPjyKOj4NDWA+gWpkPusYIT5mmmM+p3zJPSrgGT4ppxc++4gTPjru670SQZQ+DR3qPdMaIL0vtsw9B8ObPujAgr0xzKq+TwdVvbCopb08t5u+2oifPqmFWD3xkhY+CIjTPaU4Oj6zEDC+wWmtvi/sZT34EAS9aWzBvt5z1715e5u8hDqoPszLRr3AiaG+wuw/PiIGBD6JkXm++5WMvuT7ILwIzMy+x6bTvrNAPj5clc89pUYGvRaUi74jLg8+GDxZPhtKn77LUSw+",
          "dtype": "f4"
         },
         "yaxis": "y"
        }
       ],
       "layout": {
        "legend": {
         "tracegroupgap": 0
        },
        "template": {
         "data": {
          "bar": [
           {
            "error_x": {
             "color": "#2a3f5f"
            },
            "error_y": {
             "color": "#2a3f5f"
            },
            "marker": {
             "line": {
              "color": "#E5ECF6",
              "width": 0.5
             },
             "pattern": {
              "fillmode": "overlay",
              "size": 10,
              "solidity": 0.2
             }
            },
            "type": "bar"
           }
          ],
          "barpolar": [
           {
            "marker": {
             "line": {
              "color": "#E5ECF6",
              "width": 0.5
             },
             "pattern": {
              "fillmode": "overlay",
              "size": 10,
              "solidity": 0.2
             }
            },
            "type": "barpolar"
           }
          ],
          "carpet": [
           {
            "aaxis": {
             "endlinecolor": "#2a3f5f",
             "gridcolor": "white",
             "linecolor": "white",
             "minorgridcolor": "white",
             "startlinecolor": "#2a3f5f"
            },
            "baxis": {
             "endlinecolor": "#2a3f5f",
             "gridcolor": "white",
             "linecolor": "white",
             "minorgridcolor": "white",
             "startlinecolor": "#2a3f5f"
            },
            "type": "carpet"
           }
          ],
          "choropleth": [
           {
            "colorbar": {
             "outlinewidth": 0,
             "ticks": ""
            },
            "type": "choropleth"
           }
          ],
          "contour": [
           {
            "colorbar": {
             "outlinewidth": 0,
             "ticks": ""
            },
            "colorscale": [
             [
              0,
              "#0d0887"
             ],
             [
              0.1111111111111111,
              "#46039f"
             ],
             [
              0.2222222222222222,
              "#7201a8"
             ],
             [
              0.3333333333333333,
              "#9c179e"
             ],
             [
              0.4444444444444444,
              "#bd3786"
             ],
             [
              0.5555555555555556,
              "#d8576b"
             ],
             [
              0.6666666666666666,
              "#ed7953"
             ],
             [
              0.7777777777777778,
              "#fb9f3a"
             ],
             [
              0.8888888888888888,
              "#fdca26"
             ],
             [
              1,
              "#f0f921"
             ]
            ],
            "type": "contour"
           }
          ],
          "contourcarpet": [
           {
            "colorbar": {
             "outlinewidth": 0,
             "ticks": ""
            },
            "type": "contourcarpet"
           }
          ],
          "heatmap": [
           {
            "colorbar": {
             "outlinewidth": 0,
             "ticks": ""
            },
            "colorscale": [
             [
              0,
              "#0d0887"
             ],
             [
              0.1111111111111111,
              "#46039f"
             ],
             [
              0.2222222222222222,
              "#7201a8"
             ],
             [
              0.3333333333333333,
              "#9c179e"
             ],
             [
              0.4444444444444444,
              "#bd3786"
             ],
             [
              0.5555555555555556,
              "#d8576b"
             ],
             [
              0.6666666666666666,
              "#ed7953"
             ],
             [
              0.7777777777777778,
              "#fb9f3a"
             ],
             [
              0.8888888888888888,
              "#fdca26"
             ],
             [
              1,
              "#f0f921"
             ]
            ],
            "type": "heatmap"
           }
          ],
          "histogram": [
           {
            "marker": {
             "pattern": {
              "fillmode": "overlay",
              "size": 10,
              "solidity": 0.2
             }
            },
            "type": "histogram"
           }
          ],
          "histogram2d": [
           {
            "colorbar": {
             "outlinewidth": 0,
             "ticks": ""
            },
            "colorscale": [
             [
              0,
              "#0d0887"
             ],
             [
              0.1111111111111111,
              "#46039f"
             ],
             [
              0.2222222222222222,
              "#7201a8"
             ],
             [
              0.3333333333333333,
              "#9c179e"
             ],
             [
              0.4444444444444444,
              "#bd3786"
             ],
             [
              0.5555555555555556,
              "#d8576b"
             ],
             [
              0.6666666666666666,
              "#ed7953"
             ],
             [
              0.7777777777777778,
              "#fb9f3a"
             ],
             [
              0.8888888888888888,
              "#fdca26"
             ],
             [
              1,
              "#f0f921"
             ]
            ],
            "type": "histogram2d"
           }
          ],
          "histogram2dcontour": [
           {
            "colorbar": {
             "outlinewidth": 0,
             "ticks": ""
            },
            "colorscale": [
             [
              0,
              "#0d0887"
             ],
             [
              0.1111111111111111,
              "#46039f"
             ],
             [
              0.2222222222222222,
              "#7201a8"
             ],
             [
              0.3333333333333333,
              "#9c179e"
             ],
             [
              0.4444444444444444,
              "#bd3786"
             ],
             [
              0.5555555555555556,
              "#d8576b"
             ],
             [
              0.6666666666666666,
              "#ed7953"
             ],
             [
              0.7777777777777778,
              "#fb9f3a"
             ],
             [
              0.8888888888888888,
              "#fdca26"
             ],
             [
              1,
              "#f0f921"
             ]
            ],
            "type": "histogram2dcontour"
           }
          ],
          "mesh3d": [
           {
            "colorbar": {
             "outlinewidth": 0,
             "ticks": ""
            },
            "type": "mesh3d"
           }
          ],
          "parcoords": [
           {
            "line": {
             "colorbar": {
              "outlinewidth": 0,
              "ticks": ""
             }
            },
            "type": "parcoords"
           }
          ],
          "pie": [
           {
            "automargin": true,
            "type": "pie"
           }
          ],
          "scatter": [
           {
            "fillpattern": {
             "fillmode": "overlay",
             "size": 10,
             "solidity": 0.2
            },
            "type": "scatter"
           }
          ],
          "scatter3d": [
           {
            "line": {
             "colorbar": {
              "outlinewidth": 0,
              "ticks": ""
             }
            },
            "marker": {
             "colorbar": {
              "outlinewidth": 0,
              "ticks": ""
             }
            },
            "type": "scatter3d"
           }
          ],
          "scattercarpet": [
           {
            "marker": {
             "colorbar": {
              "outlinewidth": 0,
              "ticks": ""
             }
            },
            "type": "scattercarpet"
           }
          ],
          "scattergeo": [
           {
            "marker": {
             "colorbar": {
              "outlinewidth": 0,
              "ticks": ""
             }
            },
            "type": "scattergeo"
           }
          ],
          "scattergl": [
           {
            "marker": {
             "colorbar": {
              "outlinewidth": 0,
              "ticks": ""
             }
            },
            "type": "scattergl"
           }
          ],
          "scattermap": [
           {
            "marker": {
             "colorbar": {
              "outlinewidth": 0,
              "ticks": ""
             }
            },
            "type": "scattermap"
           }
          ],
          "scattermapbox": [
           {
            "marker": {
             "colorbar": {
              "outlinewidth": 0,
              "ticks": ""
             }
            },
            "type": "scattermapbox"
           }
          ],
          "scatterpolar": [
           {
            "marker": {
             "colorbar": {
              "outlinewidth": 0,
              "ticks": ""
             }
            },
            "type": "scatterpolar"
           }
          ],
          "scatterpolargl": [
           {
            "marker": {
             "colorbar": {
              "outlinewidth": 0,
              "ticks": ""
             }
            },
            "type": "scatterpolargl"
           }
          ],
          "scatterternary": [
           {
            "marker": {
             "colorbar": {
              "outlinewidth": 0,
              "ticks": ""
             }
            },
            "type": "scatterternary"
           }
          ],
          "surface": [
           {
            "colorbar": {
             "outlinewidth": 0,
             "ticks": ""
            },
            "colorscale": [
             [
              0,
              "#0d0887"
             ],
             [
              0.1111111111111111,
              "#46039f"
             ],
             [
              0.2222222222222222,
              "#7201a8"
             ],
             [
              0.3333333333333333,
              "#9c179e"
             ],
             [
              0.4444444444444444,
              "#bd3786"
             ],
             [
              0.5555555555555556,
              "#d8576b"
             ],
             [
              0.6666666666666666,
              "#ed7953"
             ],
             [
              0.7777777777777778,
              "#fb9f3a"
             ],
             [
              0.8888888888888888,
              "#fdca26"
             ],
             [
              1,
              "#f0f921"
             ]
            ],
            "type": "surface"
           }
          ],
          "table": [
           {
            "cells": {
             "fill": {
              "color": "#EBF0F8"
             },
             "line": {
              "color": "white"
             }
            },
            "header": {
             "fill": {
              "color": "#C8D4E3"
             },
             "line": {
              "color": "white"
             }
            },
            "type": "table"
           }
          ]
         },
         "layout": {
          "annotationdefaults": {
           "arrowcolor": "#2a3f5f",
           "arrowhead": 0,
           "arrowwidth": 1
          },
          "autotypenumbers": "strict",
          "coloraxis": {
           "colorbar": {
            "outlinewidth": 0,
            "ticks": ""
           }
          },
          "colorscale": {
           "diverging": [
            [
             0,
             "#8e0152"
            ],
            [
             0.1,
             "#c51b7d"
            ],
            [
             0.2,
             "#de77ae"
            ],
            [
             0.3,
             "#f1b6da"
            ],
            [
             0.4,
             "#fde0ef"
            ],
            [
             0.5,
             "#f7f7f7"
            ],
            [
             0.6,
             "#e6f5d0"
            ],
            [
             0.7,
             "#b8e186"
            ],
            [
             0.8,
             "#7fbc41"
            ],
            [
             0.9,
             "#4d9221"
            ],
            [
             1,
             "#276419"
            ]
           ],
           "sequential": [
            [
             0,
             "#0d0887"
            ],
            [
             0.1111111111111111,
             "#46039f"
            ],
            [
             0.2222222222222222,
             "#7201a8"
            ],
            [
             0.3333333333333333,
             "#9c179e"
            ],
            [
             0.4444444444444444,
             "#bd3786"
            ],
            [
             0.5555555555555556,
             "#d8576b"
            ],
            [
             0.6666666666666666,
             "#ed7953"
            ],
            [
             0.7777777777777778,
             "#fb9f3a"
            ],
            [
             0.8888888888888888,
             "#fdca26"
            ],
            [
             1,
             "#f0f921"
            ]
           ],
           "sequentialminus": [
            [
             0,
             "#0d0887"
            ],
            [
             0.1111111111111111,
             "#46039f"
            ],
            [
             0.2222222222222222,
             "#7201a8"
            ],
            [
             0.3333333333333333,
             "#9c179e"
            ],
            [
             0.4444444444444444,
             "#bd3786"
            ],
            [
             0.5555555555555556,
             "#d8576b"
            ],
            [
             0.6666666666666666,
             "#ed7953"
            ],
            [
             0.7777777777777778,
             "#fb9f3a"
            ],
            [
             0.8888888888888888,
             "#fdca26"
            ],
            [
             1,
             "#f0f921"
            ]
           ]
          },
          "colorway": [
           "#636efa",
           "#EF553B",
           "#00cc96",
           "#ab63fa",
           "#FFA15A",
           "#19d3f3",
           "#FF6692",
           "#B6E880",
           "#FF97FF",
           "#FECB52"
          ],
          "font": {
           "color": "#2a3f5f"
          },
          "geo": {
           "bgcolor": "white",
           "lakecolor": "white",
           "landcolor": "#E5ECF6",
           "showlakes": true,
           "showland": true,
           "subunitcolor": "white"
          },
          "hoverlabel": {
           "align": "left"
          },
          "hovermode": "closest",
          "mapbox": {
           "style": "light"
          },
          "paper_bgcolor": "white",
          "plot_bgcolor": "#E5ECF6",
          "polar": {
           "angularaxis": {
            "gridcolor": "white",
            "linecolor": "white",
            "ticks": ""
           },
           "bgcolor": "#E5ECF6",
           "radialaxis": {
            "gridcolor": "white",
            "linecolor": "white",
            "ticks": ""
           }
          },
          "scene": {
           "xaxis": {
            "backgroundcolor": "#E5ECF6",
            "gridcolor": "white",
            "gridwidth": 2,
            "linecolor": "white",
            "showbackground": true,
            "ticks": "",
            "zerolinecolor": "white"
           },
           "yaxis": {
            "backgroundcolor": "#E5ECF6",
            "gridcolor": "white",
            "gridwidth": 2,
            "linecolor": "white",
            "showbackground": true,
            "ticks": "",
            "zerolinecolor": "white"
           },
           "zaxis": {
            "backgroundcolor": "#E5ECF6",
            "gridcolor": "white",
            "gridwidth": 2,
            "linecolor": "white",
            "showbackground": true,
            "ticks": "",
            "zerolinecolor": "white"
           }
          },
          "shapedefaults": {
           "line": {
            "color": "#2a3f5f"
           }
          },
          "ternary": {
           "aaxis": {
            "gridcolor": "white",
            "linecolor": "white",
            "ticks": ""
           },
           "baxis": {
            "gridcolor": "white",
            "linecolor": "white",
            "ticks": ""
           },
           "bgcolor": "#E5ECF6",
           "caxis": {
            "gridcolor": "white",
            "linecolor": "white",
            "ticks": ""
           }
          },
          "title": {
           "x": 0.05
          },
          "xaxis": {
           "automargin": true,
           "gridcolor": "white",
           "linecolor": "white",
           "ticks": "",
           "title": {
            "standoff": 15
           },
           "zerolinecolor": "white",
           "zerolinewidth": 2
          },
          "yaxis": {
           "automargin": true,
           "gridcolor": "white",
           "linecolor": "white",
           "ticks": "",
           "title": {
            "standoff": 15
           },
           "zerolinecolor": "white",
           "zerolinewidth": 2
          }
         }
        },
        "title": {
         "text": "2D PCA of Email Embeddings"
        },
        "xaxis": {
         "anchor": "y",
         "domain": [
          0,
          1
         ],
         "title": {
          "text": "Principal Component 1"
         }
        },
        "yaxis": {
         "anchor": "x",
         "domain": [
          0,
          1
         ],
         "title": {
          "text": "Principal Component 2"
         }
        }
       }
      }
     },
     "metadata": {},
     "output_type": "display_data"
    }
   ],
   "source": [
    "## no obvious clusters appear in either 2D or 3D plot \n",
    "\n",
    "\n",
    "# Apply PCA for dimensionality reduction to 2 components\n",
    "pca = PCA(n_components=2)\n",
    "X_reduced = pca.fit_transform(X)\n",
    "\n",
    "# Create a new DataFrame for visualization\n",
    "df_pca = pd.DataFrame(X_reduced, columns=[\"PC1\", \"PC2\"])\n",
    "df_pca[\"email_id\"] = df.index  # Assign unique IDs\n",
    "df_pca[\"PC1_magnitude\"] = df_pca[\"PC1\"].abs()  # Color by the magnitude of PC1\n",
    "\n",
    "# Plot 2D scatter using Plotly\n",
    "fig = px.scatter(df_pca, x=\"PC1\", y=\"PC2\", \n",
    "                # color=\"PC1_magnitude\",  # Color by magnitude of PC1\n",
    "                 title=\"2D PCA of Email Embeddings\",\n",
    "                 labels={\"PC1\": \"Principal Component 1\", \"PC2\": \"Principal Component 2\"},\n",
    "                 opacity=0.8)\n",
    "\n",
    "fig.show()\n"
   ]
  },
  {
   "cell_type": "markdown",
   "metadata": {},
   "source": [
    "#### Observations \n",
    "It's difficult to visually detect any clear cluster boundaries. Perhaps one could say that there are 3 clusters: 2 small ones at the ends and a large one in the middle. However I can verify that there are more than 3 categories of emails in my gmail inbox. "
   ]
  },
  {
   "cell_type": "markdown",
   "metadata": {},
   "source": [
    "### GPT Generated Email Categories\n",
    "Since no clear cluster boundaries appear, let's use a GPT model to generate email category labels for us. "
   ]
  },
  {
   "cell_type": "code",
   "execution_count": 44,
   "metadata": {},
   "outputs": [
    {
     "name": "stdout",
     "output_type": "stream",
     "text": [
      "Under the gentle glow of the moon, a shimmering unicorn named Luna soared across the starlit sky, weaving dreams of magic and wonder for all the children sleeping below.\n"
     ]
    }
   ],
   "source": [
    "from openai import OpenAI\n",
    "client = OpenAI()\n",
    "\n",
    "completion = client.chat.completions.create(\n",
    "    model=\"gpt-4o\",\n",
    "    messages=[{\n",
    "        \"role\": \"user\",\n",
    "        \"content\": \"Write a one-sentence bedtime story about a unicorn.\"\n",
    "    }]\n",
    ")\n",
    "\n",
    "print(completion.choices[0].message.content)"
   ]
  },
  {
   "cell_type": "code",
   "execution_count": 62,
   "metadata": {},
   "outputs": [
    {
     "ename": "InternalServerError",
     "evalue": "Error code: 500 - {'error': {'message': 'The server had an error while processing your request. Sorry about that!', 'type': 'server_error', 'param': None, 'code': None}}",
     "output_type": "error",
     "traceback": [
      "\u001b[0;31m---------------------------------------------------------------------------\u001b[0m",
      "\u001b[0;31mInternalServerError\u001b[0m                       Traceback (most recent call last)",
      "Cell \u001b[0;32mIn[62], line 37\u001b[0m\n\u001b[1;32m     31\u001b[0m         \u001b[38;5;66;03m# Clear messages to avoid context buildup\u001b[39;00m\n\u001b[1;32m     32\u001b[0m         \u001b[38;5;66;03m#messages = messages[:1]\u001b[39;00m\n\u001b[1;32m     34\u001b[0m     \u001b[38;5;28;01mreturn\u001b[39;00m results\n\u001b[0;32m---> 37\u001b[0m categorized_emails \u001b[38;5;241m=\u001b[39m \u001b[43mcategorize_emails\u001b[49m\u001b[43m(\u001b[49m\u001b[43mdf\u001b[49m\u001b[38;5;241;43m.\u001b[39;49m\u001b[43mbody\u001b[49m\u001b[43m[\u001b[49m\u001b[43m:\u001b[49m\u001b[38;5;241;43m3\u001b[39;49m\u001b[43m]\u001b[49m\u001b[43m)\u001b[49m\n",
      "Cell \u001b[0;32mIn[62], line 23\u001b[0m, in \u001b[0;36mcategorize_emails\u001b[0;34m(email_texts)\u001b[0m\n\u001b[1;32m     18\u001b[0m results \u001b[38;5;241m=\u001b[39m []\n\u001b[1;32m     20\u001b[0m \u001b[38;5;28;01mfor\u001b[39;00m email \u001b[38;5;129;01min\u001b[39;00m email_texts:\n\u001b[1;32m     21\u001b[0m     \u001b[38;5;66;03m#messages.append({\"role\": \"user\", \"content\": f\"Categorize this email: {email}\"})\u001b[39;00m\n\u001b[0;32m---> 23\u001b[0m     completion \u001b[38;5;241m=\u001b[39m \u001b[43mclient\u001b[49m\u001b[38;5;241;43m.\u001b[39;49m\u001b[43mchat\u001b[49m\u001b[38;5;241;43m.\u001b[39;49m\u001b[43mcompletions\u001b[49m\u001b[38;5;241;43m.\u001b[39;49m\u001b[43mcreate\u001b[49m\u001b[43m(\u001b[49m\n\u001b[1;32m     24\u001b[0m \u001b[43m        \u001b[49m\u001b[43mmodel\u001b[49m\u001b[38;5;241;43m=\u001b[39;49m\u001b[38;5;124;43m\"\u001b[39;49m\u001b[38;5;124;43mgpt-4o\u001b[39;49m\u001b[38;5;124;43m\"\u001b[39;49m\u001b[43m,\u001b[49m\n\u001b[1;32m     25\u001b[0m \u001b[43m        \u001b[49m\u001b[43mmessages\u001b[49m\u001b[38;5;241;43m=\u001b[39;49m\u001b[43mmessages\u001b[49m\n\u001b[1;32m     26\u001b[0m \u001b[43m    \u001b[49m\u001b[43m)\u001b[49m\n\u001b[1;32m     28\u001b[0m     category \u001b[38;5;241m=\u001b[39m completion\u001b[38;5;241m.\u001b[39mchoices[\u001b[38;5;241m0\u001b[39m]\u001b[38;5;241m.\u001b[39mmessage\u001b[38;5;241m.\u001b[39mcontent\u001b[38;5;241m.\u001b[39mstrip()\n\u001b[1;32m     29\u001b[0m     results\u001b[38;5;241m.\u001b[39mappend({\u001b[38;5;124m\"\u001b[39m\u001b[38;5;124memail\u001b[39m\u001b[38;5;124m\"\u001b[39m: email, \u001b[38;5;124m\"\u001b[39m\u001b[38;5;124mcategory\u001b[39m\u001b[38;5;124m\"\u001b[39m: category})\n",
      "File \u001b[0;32m~/my_portfolio/Gmail_Analytics/venv_gmail_analytics/lib/python3.11/site-packages/openai/_utils/_utils.py:279\u001b[0m, in \u001b[0;36mrequired_args.<locals>.inner.<locals>.wrapper\u001b[0;34m(*args, **kwargs)\u001b[0m\n\u001b[1;32m    277\u001b[0m             msg \u001b[38;5;241m=\u001b[39m \u001b[38;5;124mf\u001b[39m\u001b[38;5;124m\"\u001b[39m\u001b[38;5;124mMissing required argument: \u001b[39m\u001b[38;5;132;01m{\u001b[39;00mquote(missing[\u001b[38;5;241m0\u001b[39m])\u001b[38;5;132;01m}\u001b[39;00m\u001b[38;5;124m\"\u001b[39m\n\u001b[1;32m    278\u001b[0m     \u001b[38;5;28;01mraise\u001b[39;00m \u001b[38;5;167;01mTypeError\u001b[39;00m(msg)\n\u001b[0;32m--> 279\u001b[0m \u001b[38;5;28;01mreturn\u001b[39;00m \u001b[43mfunc\u001b[49m\u001b[43m(\u001b[49m\u001b[38;5;241;43m*\u001b[39;49m\u001b[43margs\u001b[49m\u001b[43m,\u001b[49m\u001b[43m \u001b[49m\u001b[38;5;241;43m*\u001b[39;49m\u001b[38;5;241;43m*\u001b[39;49m\u001b[43mkwargs\u001b[49m\u001b[43m)\u001b[49m\n",
      "File \u001b[0;32m~/my_portfolio/Gmail_Analytics/venv_gmail_analytics/lib/python3.11/site-packages/openai/resources/chat/completions/completions.py:879\u001b[0m, in \u001b[0;36mCompletions.create\u001b[0;34m(self, messages, model, audio, frequency_penalty, function_call, functions, logit_bias, logprobs, max_completion_tokens, max_tokens, metadata, modalities, n, parallel_tool_calls, prediction, presence_penalty, reasoning_effort, response_format, seed, service_tier, stop, store, stream, stream_options, temperature, tool_choice, tools, top_logprobs, top_p, user, extra_headers, extra_query, extra_body, timeout)\u001b[0m\n\u001b[1;32m    837\u001b[0m \u001b[38;5;129m@required_args\u001b[39m([\u001b[38;5;124m\"\u001b[39m\u001b[38;5;124mmessages\u001b[39m\u001b[38;5;124m\"\u001b[39m, \u001b[38;5;124m\"\u001b[39m\u001b[38;5;124mmodel\u001b[39m\u001b[38;5;124m\"\u001b[39m], [\u001b[38;5;124m\"\u001b[39m\u001b[38;5;124mmessages\u001b[39m\u001b[38;5;124m\"\u001b[39m, \u001b[38;5;124m\"\u001b[39m\u001b[38;5;124mmodel\u001b[39m\u001b[38;5;124m\"\u001b[39m, \u001b[38;5;124m\"\u001b[39m\u001b[38;5;124mstream\u001b[39m\u001b[38;5;124m\"\u001b[39m])\n\u001b[1;32m    838\u001b[0m \u001b[38;5;28;01mdef\u001b[39;00m\u001b[38;5;250m \u001b[39m\u001b[38;5;21mcreate\u001b[39m(\n\u001b[1;32m    839\u001b[0m     \u001b[38;5;28mself\u001b[39m,\n\u001b[0;32m   (...)\u001b[0m\n\u001b[1;32m    876\u001b[0m     timeout: \u001b[38;5;28mfloat\u001b[39m \u001b[38;5;241m|\u001b[39m httpx\u001b[38;5;241m.\u001b[39mTimeout \u001b[38;5;241m|\u001b[39m \u001b[38;5;28;01mNone\u001b[39;00m \u001b[38;5;241m|\u001b[39m NotGiven \u001b[38;5;241m=\u001b[39m NOT_GIVEN,\n\u001b[1;32m    877\u001b[0m ) \u001b[38;5;241m-\u001b[39m\u001b[38;5;241m>\u001b[39m ChatCompletion \u001b[38;5;241m|\u001b[39m Stream[ChatCompletionChunk]:\n\u001b[1;32m    878\u001b[0m     validate_response_format(response_format)\n\u001b[0;32m--> 879\u001b[0m     \u001b[38;5;28;01mreturn\u001b[39;00m \u001b[38;5;28;43mself\u001b[39;49m\u001b[38;5;241;43m.\u001b[39;49m\u001b[43m_post\u001b[49m\u001b[43m(\u001b[49m\n\u001b[1;32m    880\u001b[0m \u001b[43m        \u001b[49m\u001b[38;5;124;43m\"\u001b[39;49m\u001b[38;5;124;43m/chat/completions\u001b[39;49m\u001b[38;5;124;43m\"\u001b[39;49m\u001b[43m,\u001b[49m\n\u001b[1;32m    881\u001b[0m \u001b[43m        \u001b[49m\u001b[43mbody\u001b[49m\u001b[38;5;241;43m=\u001b[39;49m\u001b[43mmaybe_transform\u001b[49m\u001b[43m(\u001b[49m\n\u001b[1;32m    882\u001b[0m \u001b[43m            \u001b[49m\u001b[43m{\u001b[49m\n\u001b[1;32m    883\u001b[0m \u001b[43m                \u001b[49m\u001b[38;5;124;43m\"\u001b[39;49m\u001b[38;5;124;43mmessages\u001b[39;49m\u001b[38;5;124;43m\"\u001b[39;49m\u001b[43m:\u001b[49m\u001b[43m \u001b[49m\u001b[43mmessages\u001b[49m\u001b[43m,\u001b[49m\n\u001b[1;32m    884\u001b[0m \u001b[43m                \u001b[49m\u001b[38;5;124;43m\"\u001b[39;49m\u001b[38;5;124;43mmodel\u001b[39;49m\u001b[38;5;124;43m\"\u001b[39;49m\u001b[43m:\u001b[49m\u001b[43m \u001b[49m\u001b[43mmodel\u001b[49m\u001b[43m,\u001b[49m\n\u001b[1;32m    885\u001b[0m \u001b[43m                \u001b[49m\u001b[38;5;124;43m\"\u001b[39;49m\u001b[38;5;124;43maudio\u001b[39;49m\u001b[38;5;124;43m\"\u001b[39;49m\u001b[43m:\u001b[49m\u001b[43m \u001b[49m\u001b[43maudio\u001b[49m\u001b[43m,\u001b[49m\n\u001b[1;32m    886\u001b[0m \u001b[43m                \u001b[49m\u001b[38;5;124;43m\"\u001b[39;49m\u001b[38;5;124;43mfrequency_penalty\u001b[39;49m\u001b[38;5;124;43m\"\u001b[39;49m\u001b[43m:\u001b[49m\u001b[43m \u001b[49m\u001b[43mfrequency_penalty\u001b[49m\u001b[43m,\u001b[49m\n\u001b[1;32m    887\u001b[0m \u001b[43m                \u001b[49m\u001b[38;5;124;43m\"\u001b[39;49m\u001b[38;5;124;43mfunction_call\u001b[39;49m\u001b[38;5;124;43m\"\u001b[39;49m\u001b[43m:\u001b[49m\u001b[43m \u001b[49m\u001b[43mfunction_call\u001b[49m\u001b[43m,\u001b[49m\n\u001b[1;32m    888\u001b[0m \u001b[43m                \u001b[49m\u001b[38;5;124;43m\"\u001b[39;49m\u001b[38;5;124;43mfunctions\u001b[39;49m\u001b[38;5;124;43m\"\u001b[39;49m\u001b[43m:\u001b[49m\u001b[43m \u001b[49m\u001b[43mfunctions\u001b[49m\u001b[43m,\u001b[49m\n\u001b[1;32m    889\u001b[0m \u001b[43m                \u001b[49m\u001b[38;5;124;43m\"\u001b[39;49m\u001b[38;5;124;43mlogit_bias\u001b[39;49m\u001b[38;5;124;43m\"\u001b[39;49m\u001b[43m:\u001b[49m\u001b[43m \u001b[49m\u001b[43mlogit_bias\u001b[49m\u001b[43m,\u001b[49m\n\u001b[1;32m    890\u001b[0m \u001b[43m                \u001b[49m\u001b[38;5;124;43m\"\u001b[39;49m\u001b[38;5;124;43mlogprobs\u001b[39;49m\u001b[38;5;124;43m\"\u001b[39;49m\u001b[43m:\u001b[49m\u001b[43m \u001b[49m\u001b[43mlogprobs\u001b[49m\u001b[43m,\u001b[49m\n\u001b[1;32m    891\u001b[0m \u001b[43m                \u001b[49m\u001b[38;5;124;43m\"\u001b[39;49m\u001b[38;5;124;43mmax_completion_tokens\u001b[39;49m\u001b[38;5;124;43m\"\u001b[39;49m\u001b[43m:\u001b[49m\u001b[43m \u001b[49m\u001b[43mmax_completion_tokens\u001b[49m\u001b[43m,\u001b[49m\n\u001b[1;32m    892\u001b[0m \u001b[43m                \u001b[49m\u001b[38;5;124;43m\"\u001b[39;49m\u001b[38;5;124;43mmax_tokens\u001b[39;49m\u001b[38;5;124;43m\"\u001b[39;49m\u001b[43m:\u001b[49m\u001b[43m \u001b[49m\u001b[43mmax_tokens\u001b[49m\u001b[43m,\u001b[49m\n\u001b[1;32m    893\u001b[0m \u001b[43m                \u001b[49m\u001b[38;5;124;43m\"\u001b[39;49m\u001b[38;5;124;43mmetadata\u001b[39;49m\u001b[38;5;124;43m\"\u001b[39;49m\u001b[43m:\u001b[49m\u001b[43m \u001b[49m\u001b[43mmetadata\u001b[49m\u001b[43m,\u001b[49m\n\u001b[1;32m    894\u001b[0m \u001b[43m                \u001b[49m\u001b[38;5;124;43m\"\u001b[39;49m\u001b[38;5;124;43mmodalities\u001b[39;49m\u001b[38;5;124;43m\"\u001b[39;49m\u001b[43m:\u001b[49m\u001b[43m \u001b[49m\u001b[43mmodalities\u001b[49m\u001b[43m,\u001b[49m\n\u001b[1;32m    895\u001b[0m \u001b[43m                \u001b[49m\u001b[38;5;124;43m\"\u001b[39;49m\u001b[38;5;124;43mn\u001b[39;49m\u001b[38;5;124;43m\"\u001b[39;49m\u001b[43m:\u001b[49m\u001b[43m \u001b[49m\u001b[43mn\u001b[49m\u001b[43m,\u001b[49m\n\u001b[1;32m    896\u001b[0m \u001b[43m                \u001b[49m\u001b[38;5;124;43m\"\u001b[39;49m\u001b[38;5;124;43mparallel_tool_calls\u001b[39;49m\u001b[38;5;124;43m\"\u001b[39;49m\u001b[43m:\u001b[49m\u001b[43m \u001b[49m\u001b[43mparallel_tool_calls\u001b[49m\u001b[43m,\u001b[49m\n\u001b[1;32m    897\u001b[0m \u001b[43m                \u001b[49m\u001b[38;5;124;43m\"\u001b[39;49m\u001b[38;5;124;43mprediction\u001b[39;49m\u001b[38;5;124;43m\"\u001b[39;49m\u001b[43m:\u001b[49m\u001b[43m \u001b[49m\u001b[43mprediction\u001b[49m\u001b[43m,\u001b[49m\n\u001b[1;32m    898\u001b[0m \u001b[43m                \u001b[49m\u001b[38;5;124;43m\"\u001b[39;49m\u001b[38;5;124;43mpresence_penalty\u001b[39;49m\u001b[38;5;124;43m\"\u001b[39;49m\u001b[43m:\u001b[49m\u001b[43m \u001b[49m\u001b[43mpresence_penalty\u001b[49m\u001b[43m,\u001b[49m\n\u001b[1;32m    899\u001b[0m \u001b[43m                \u001b[49m\u001b[38;5;124;43m\"\u001b[39;49m\u001b[38;5;124;43mreasoning_effort\u001b[39;49m\u001b[38;5;124;43m\"\u001b[39;49m\u001b[43m:\u001b[49m\u001b[43m \u001b[49m\u001b[43mreasoning_effort\u001b[49m\u001b[43m,\u001b[49m\n\u001b[1;32m    900\u001b[0m \u001b[43m                \u001b[49m\u001b[38;5;124;43m\"\u001b[39;49m\u001b[38;5;124;43mresponse_format\u001b[39;49m\u001b[38;5;124;43m\"\u001b[39;49m\u001b[43m:\u001b[49m\u001b[43m \u001b[49m\u001b[43mresponse_format\u001b[49m\u001b[43m,\u001b[49m\n\u001b[1;32m    901\u001b[0m \u001b[43m                \u001b[49m\u001b[38;5;124;43m\"\u001b[39;49m\u001b[38;5;124;43mseed\u001b[39;49m\u001b[38;5;124;43m\"\u001b[39;49m\u001b[43m:\u001b[49m\u001b[43m \u001b[49m\u001b[43mseed\u001b[49m\u001b[43m,\u001b[49m\n\u001b[1;32m    902\u001b[0m \u001b[43m                \u001b[49m\u001b[38;5;124;43m\"\u001b[39;49m\u001b[38;5;124;43mservice_tier\u001b[39;49m\u001b[38;5;124;43m\"\u001b[39;49m\u001b[43m:\u001b[49m\u001b[43m \u001b[49m\u001b[43mservice_tier\u001b[49m\u001b[43m,\u001b[49m\n\u001b[1;32m    903\u001b[0m \u001b[43m                \u001b[49m\u001b[38;5;124;43m\"\u001b[39;49m\u001b[38;5;124;43mstop\u001b[39;49m\u001b[38;5;124;43m\"\u001b[39;49m\u001b[43m:\u001b[49m\u001b[43m \u001b[49m\u001b[43mstop\u001b[49m\u001b[43m,\u001b[49m\n\u001b[1;32m    904\u001b[0m \u001b[43m                \u001b[49m\u001b[38;5;124;43m\"\u001b[39;49m\u001b[38;5;124;43mstore\u001b[39;49m\u001b[38;5;124;43m\"\u001b[39;49m\u001b[43m:\u001b[49m\u001b[43m \u001b[49m\u001b[43mstore\u001b[49m\u001b[43m,\u001b[49m\n\u001b[1;32m    905\u001b[0m \u001b[43m                \u001b[49m\u001b[38;5;124;43m\"\u001b[39;49m\u001b[38;5;124;43mstream\u001b[39;49m\u001b[38;5;124;43m\"\u001b[39;49m\u001b[43m:\u001b[49m\u001b[43m \u001b[49m\u001b[43mstream\u001b[49m\u001b[43m,\u001b[49m\n\u001b[1;32m    906\u001b[0m \u001b[43m                \u001b[49m\u001b[38;5;124;43m\"\u001b[39;49m\u001b[38;5;124;43mstream_options\u001b[39;49m\u001b[38;5;124;43m\"\u001b[39;49m\u001b[43m:\u001b[49m\u001b[43m \u001b[49m\u001b[43mstream_options\u001b[49m\u001b[43m,\u001b[49m\n\u001b[1;32m    907\u001b[0m \u001b[43m                \u001b[49m\u001b[38;5;124;43m\"\u001b[39;49m\u001b[38;5;124;43mtemperature\u001b[39;49m\u001b[38;5;124;43m\"\u001b[39;49m\u001b[43m:\u001b[49m\u001b[43m \u001b[49m\u001b[43mtemperature\u001b[49m\u001b[43m,\u001b[49m\n\u001b[1;32m    908\u001b[0m \u001b[43m                \u001b[49m\u001b[38;5;124;43m\"\u001b[39;49m\u001b[38;5;124;43mtool_choice\u001b[39;49m\u001b[38;5;124;43m\"\u001b[39;49m\u001b[43m:\u001b[49m\u001b[43m \u001b[49m\u001b[43mtool_choice\u001b[49m\u001b[43m,\u001b[49m\n\u001b[1;32m    909\u001b[0m \u001b[43m                \u001b[49m\u001b[38;5;124;43m\"\u001b[39;49m\u001b[38;5;124;43mtools\u001b[39;49m\u001b[38;5;124;43m\"\u001b[39;49m\u001b[43m:\u001b[49m\u001b[43m \u001b[49m\u001b[43mtools\u001b[49m\u001b[43m,\u001b[49m\n\u001b[1;32m    910\u001b[0m \u001b[43m                \u001b[49m\u001b[38;5;124;43m\"\u001b[39;49m\u001b[38;5;124;43mtop_logprobs\u001b[39;49m\u001b[38;5;124;43m\"\u001b[39;49m\u001b[43m:\u001b[49m\u001b[43m \u001b[49m\u001b[43mtop_logprobs\u001b[49m\u001b[43m,\u001b[49m\n\u001b[1;32m    911\u001b[0m \u001b[43m                \u001b[49m\u001b[38;5;124;43m\"\u001b[39;49m\u001b[38;5;124;43mtop_p\u001b[39;49m\u001b[38;5;124;43m\"\u001b[39;49m\u001b[43m:\u001b[49m\u001b[43m \u001b[49m\u001b[43mtop_p\u001b[49m\u001b[43m,\u001b[49m\n\u001b[1;32m    912\u001b[0m \u001b[43m                \u001b[49m\u001b[38;5;124;43m\"\u001b[39;49m\u001b[38;5;124;43muser\u001b[39;49m\u001b[38;5;124;43m\"\u001b[39;49m\u001b[43m:\u001b[49m\u001b[43m \u001b[49m\u001b[43muser\u001b[49m\u001b[43m,\u001b[49m\n\u001b[1;32m    913\u001b[0m \u001b[43m            \u001b[49m\u001b[43m}\u001b[49m\u001b[43m,\u001b[49m\n\u001b[1;32m    914\u001b[0m \u001b[43m            \u001b[49m\u001b[43mcompletion_create_params\u001b[49m\u001b[38;5;241;43m.\u001b[39;49m\u001b[43mCompletionCreateParams\u001b[49m\u001b[43m,\u001b[49m\n\u001b[1;32m    915\u001b[0m \u001b[43m        \u001b[49m\u001b[43m)\u001b[49m\u001b[43m,\u001b[49m\n\u001b[1;32m    916\u001b[0m \u001b[43m        \u001b[49m\u001b[43moptions\u001b[49m\u001b[38;5;241;43m=\u001b[39;49m\u001b[43mmake_request_options\u001b[49m\u001b[43m(\u001b[49m\n\u001b[1;32m    917\u001b[0m \u001b[43m            \u001b[49m\u001b[43mextra_headers\u001b[49m\u001b[38;5;241;43m=\u001b[39;49m\u001b[43mextra_headers\u001b[49m\u001b[43m,\u001b[49m\u001b[43m \u001b[49m\u001b[43mextra_query\u001b[49m\u001b[38;5;241;43m=\u001b[39;49m\u001b[43mextra_query\u001b[49m\u001b[43m,\u001b[49m\u001b[43m \u001b[49m\u001b[43mextra_body\u001b[49m\u001b[38;5;241;43m=\u001b[39;49m\u001b[43mextra_body\u001b[49m\u001b[43m,\u001b[49m\u001b[43m \u001b[49m\u001b[43mtimeout\u001b[49m\u001b[38;5;241;43m=\u001b[39;49m\u001b[43mtimeout\u001b[49m\n\u001b[1;32m    918\u001b[0m \u001b[43m        \u001b[49m\u001b[43m)\u001b[49m\u001b[43m,\u001b[49m\n\u001b[1;32m    919\u001b[0m \u001b[43m        \u001b[49m\u001b[43mcast_to\u001b[49m\u001b[38;5;241;43m=\u001b[39;49m\u001b[43mChatCompletion\u001b[49m\u001b[43m,\u001b[49m\n\u001b[1;32m    920\u001b[0m \u001b[43m        \u001b[49m\u001b[43mstream\u001b[49m\u001b[38;5;241;43m=\u001b[39;49m\u001b[43mstream\u001b[49m\u001b[43m \u001b[49m\u001b[38;5;129;43;01mor\u001b[39;49;00m\u001b[43m \u001b[49m\u001b[38;5;28;43;01mFalse\u001b[39;49;00m\u001b[43m,\u001b[49m\n\u001b[1;32m    921\u001b[0m \u001b[43m        \u001b[49m\u001b[43mstream_cls\u001b[49m\u001b[38;5;241;43m=\u001b[39;49m\u001b[43mStream\u001b[49m\u001b[43m[\u001b[49m\u001b[43mChatCompletionChunk\u001b[49m\u001b[43m]\u001b[49m\u001b[43m,\u001b[49m\n\u001b[1;32m    922\u001b[0m \u001b[43m    \u001b[49m\u001b[43m)\u001b[49m\n",
      "File \u001b[0;32m~/my_portfolio/Gmail_Analytics/venv_gmail_analytics/lib/python3.11/site-packages/openai/_base_client.py:1290\u001b[0m, in \u001b[0;36mSyncAPIClient.post\u001b[0;34m(self, path, cast_to, body, options, files, stream, stream_cls)\u001b[0m\n\u001b[1;32m   1276\u001b[0m \u001b[38;5;28;01mdef\u001b[39;00m\u001b[38;5;250m \u001b[39m\u001b[38;5;21mpost\u001b[39m(\n\u001b[1;32m   1277\u001b[0m     \u001b[38;5;28mself\u001b[39m,\n\u001b[1;32m   1278\u001b[0m     path: \u001b[38;5;28mstr\u001b[39m,\n\u001b[0;32m   (...)\u001b[0m\n\u001b[1;32m   1285\u001b[0m     stream_cls: \u001b[38;5;28mtype\u001b[39m[_StreamT] \u001b[38;5;241m|\u001b[39m \u001b[38;5;28;01mNone\u001b[39;00m \u001b[38;5;241m=\u001b[39m \u001b[38;5;28;01mNone\u001b[39;00m,\n\u001b[1;32m   1286\u001b[0m ) \u001b[38;5;241m-\u001b[39m\u001b[38;5;241m>\u001b[39m ResponseT \u001b[38;5;241m|\u001b[39m _StreamT:\n\u001b[1;32m   1287\u001b[0m     opts \u001b[38;5;241m=\u001b[39m FinalRequestOptions\u001b[38;5;241m.\u001b[39mconstruct(\n\u001b[1;32m   1288\u001b[0m         method\u001b[38;5;241m=\u001b[39m\u001b[38;5;124m\"\u001b[39m\u001b[38;5;124mpost\u001b[39m\u001b[38;5;124m\"\u001b[39m, url\u001b[38;5;241m=\u001b[39mpath, json_data\u001b[38;5;241m=\u001b[39mbody, files\u001b[38;5;241m=\u001b[39mto_httpx_files(files), \u001b[38;5;241m*\u001b[39m\u001b[38;5;241m*\u001b[39moptions\n\u001b[1;32m   1289\u001b[0m     )\n\u001b[0;32m-> 1290\u001b[0m     \u001b[38;5;28;01mreturn\u001b[39;00m cast(ResponseT, \u001b[38;5;28;43mself\u001b[39;49m\u001b[38;5;241;43m.\u001b[39;49m\u001b[43mrequest\u001b[49m\u001b[43m(\u001b[49m\u001b[43mcast_to\u001b[49m\u001b[43m,\u001b[49m\u001b[43m \u001b[49m\u001b[43mopts\u001b[49m\u001b[43m,\u001b[49m\u001b[43m \u001b[49m\u001b[43mstream\u001b[49m\u001b[38;5;241;43m=\u001b[39;49m\u001b[43mstream\u001b[49m\u001b[43m,\u001b[49m\u001b[43m \u001b[49m\u001b[43mstream_cls\u001b[49m\u001b[38;5;241;43m=\u001b[39;49m\u001b[43mstream_cls\u001b[49m\u001b[43m)\u001b[49m)\n",
      "File \u001b[0;32m~/my_portfolio/Gmail_Analytics/venv_gmail_analytics/lib/python3.11/site-packages/openai/_base_client.py:967\u001b[0m, in \u001b[0;36mSyncAPIClient.request\u001b[0;34m(self, cast_to, options, remaining_retries, stream, stream_cls)\u001b[0m\n\u001b[1;32m    964\u001b[0m \u001b[38;5;28;01melse\u001b[39;00m:\n\u001b[1;32m    965\u001b[0m     retries_taken \u001b[38;5;241m=\u001b[39m \u001b[38;5;241m0\u001b[39m\n\u001b[0;32m--> 967\u001b[0m \u001b[38;5;28;01mreturn\u001b[39;00m \u001b[38;5;28;43mself\u001b[39;49m\u001b[38;5;241;43m.\u001b[39;49m\u001b[43m_request\u001b[49m\u001b[43m(\u001b[49m\n\u001b[1;32m    968\u001b[0m \u001b[43m    \u001b[49m\u001b[43mcast_to\u001b[49m\u001b[38;5;241;43m=\u001b[39;49m\u001b[43mcast_to\u001b[49m\u001b[43m,\u001b[49m\n\u001b[1;32m    969\u001b[0m \u001b[43m    \u001b[49m\u001b[43moptions\u001b[49m\u001b[38;5;241;43m=\u001b[39;49m\u001b[43moptions\u001b[49m\u001b[43m,\u001b[49m\n\u001b[1;32m    970\u001b[0m \u001b[43m    \u001b[49m\u001b[43mstream\u001b[49m\u001b[38;5;241;43m=\u001b[39;49m\u001b[43mstream\u001b[49m\u001b[43m,\u001b[49m\n\u001b[1;32m    971\u001b[0m \u001b[43m    \u001b[49m\u001b[43mstream_cls\u001b[49m\u001b[38;5;241;43m=\u001b[39;49m\u001b[43mstream_cls\u001b[49m\u001b[43m,\u001b[49m\n\u001b[1;32m    972\u001b[0m \u001b[43m    \u001b[49m\u001b[43mretries_taken\u001b[49m\u001b[38;5;241;43m=\u001b[39;49m\u001b[43mretries_taken\u001b[49m\u001b[43m,\u001b[49m\n\u001b[1;32m    973\u001b[0m \u001b[43m\u001b[49m\u001b[43m)\u001b[49m\n",
      "File \u001b[0;32m~/my_portfolio/Gmail_Analytics/venv_gmail_analytics/lib/python3.11/site-packages/openai/_base_client.py:1056\u001b[0m, in \u001b[0;36mSyncAPIClient._request\u001b[0;34m(self, cast_to, options, retries_taken, stream, stream_cls)\u001b[0m\n\u001b[1;32m   1054\u001b[0m \u001b[38;5;28;01mif\u001b[39;00m remaining_retries \u001b[38;5;241m>\u001b[39m \u001b[38;5;241m0\u001b[39m \u001b[38;5;129;01mand\u001b[39;00m \u001b[38;5;28mself\u001b[39m\u001b[38;5;241m.\u001b[39m_should_retry(err\u001b[38;5;241m.\u001b[39mresponse):\n\u001b[1;32m   1055\u001b[0m     err\u001b[38;5;241m.\u001b[39mresponse\u001b[38;5;241m.\u001b[39mclose()\n\u001b[0;32m-> 1056\u001b[0m     \u001b[38;5;28;01mreturn\u001b[39;00m \u001b[38;5;28;43mself\u001b[39;49m\u001b[38;5;241;43m.\u001b[39;49m\u001b[43m_retry_request\u001b[49m\u001b[43m(\u001b[49m\n\u001b[1;32m   1057\u001b[0m \u001b[43m        \u001b[49m\u001b[43minput_options\u001b[49m\u001b[43m,\u001b[49m\n\u001b[1;32m   1058\u001b[0m \u001b[43m        \u001b[49m\u001b[43mcast_to\u001b[49m\u001b[43m,\u001b[49m\n\u001b[1;32m   1059\u001b[0m \u001b[43m        \u001b[49m\u001b[43mretries_taken\u001b[49m\u001b[38;5;241;43m=\u001b[39;49m\u001b[43mretries_taken\u001b[49m\u001b[43m,\u001b[49m\n\u001b[1;32m   1060\u001b[0m \u001b[43m        \u001b[49m\u001b[43mresponse_headers\u001b[49m\u001b[38;5;241;43m=\u001b[39;49m\u001b[43merr\u001b[49m\u001b[38;5;241;43m.\u001b[39;49m\u001b[43mresponse\u001b[49m\u001b[38;5;241;43m.\u001b[39;49m\u001b[43mheaders\u001b[49m\u001b[43m,\u001b[49m\n\u001b[1;32m   1061\u001b[0m \u001b[43m        \u001b[49m\u001b[43mstream\u001b[49m\u001b[38;5;241;43m=\u001b[39;49m\u001b[43mstream\u001b[49m\u001b[43m,\u001b[49m\n\u001b[1;32m   1062\u001b[0m \u001b[43m        \u001b[49m\u001b[43mstream_cls\u001b[49m\u001b[38;5;241;43m=\u001b[39;49m\u001b[43mstream_cls\u001b[49m\u001b[43m,\u001b[49m\n\u001b[1;32m   1063\u001b[0m \u001b[43m    \u001b[49m\u001b[43m)\u001b[49m\n\u001b[1;32m   1065\u001b[0m \u001b[38;5;66;03m# If the response is streamed then we need to explicitly read the response\u001b[39;00m\n\u001b[1;32m   1066\u001b[0m \u001b[38;5;66;03m# to completion before attempting to access the response text.\u001b[39;00m\n\u001b[1;32m   1067\u001b[0m \u001b[38;5;28;01mif\u001b[39;00m \u001b[38;5;129;01mnot\u001b[39;00m err\u001b[38;5;241m.\u001b[39mresponse\u001b[38;5;241m.\u001b[39mis_closed:\n",
      "File \u001b[0;32m~/my_portfolio/Gmail_Analytics/venv_gmail_analytics/lib/python3.11/site-packages/openai/_base_client.py:1105\u001b[0m, in \u001b[0;36mSyncAPIClient._retry_request\u001b[0;34m(self, options, cast_to, retries_taken, response_headers, stream, stream_cls)\u001b[0m\n\u001b[1;32m   1101\u001b[0m \u001b[38;5;66;03m# In a synchronous context we are blocking the entire thread. Up to the library user to run the client in a\u001b[39;00m\n\u001b[1;32m   1102\u001b[0m \u001b[38;5;66;03m# different thread if necessary.\u001b[39;00m\n\u001b[1;32m   1103\u001b[0m time\u001b[38;5;241m.\u001b[39msleep(timeout)\n\u001b[0;32m-> 1105\u001b[0m \u001b[38;5;28;01mreturn\u001b[39;00m \u001b[38;5;28;43mself\u001b[39;49m\u001b[38;5;241;43m.\u001b[39;49m\u001b[43m_request\u001b[49m\u001b[43m(\u001b[49m\n\u001b[1;32m   1106\u001b[0m \u001b[43m    \u001b[49m\u001b[43moptions\u001b[49m\u001b[38;5;241;43m=\u001b[39;49m\u001b[43moptions\u001b[49m\u001b[43m,\u001b[49m\n\u001b[1;32m   1107\u001b[0m \u001b[43m    \u001b[49m\u001b[43mcast_to\u001b[49m\u001b[38;5;241;43m=\u001b[39;49m\u001b[43mcast_to\u001b[49m\u001b[43m,\u001b[49m\n\u001b[1;32m   1108\u001b[0m \u001b[43m    \u001b[49m\u001b[43mretries_taken\u001b[49m\u001b[38;5;241;43m=\u001b[39;49m\u001b[43mretries_taken\u001b[49m\u001b[43m \u001b[49m\u001b[38;5;241;43m+\u001b[39;49m\u001b[43m \u001b[49m\u001b[38;5;241;43m1\u001b[39;49m\u001b[43m,\u001b[49m\n\u001b[1;32m   1109\u001b[0m \u001b[43m    \u001b[49m\u001b[43mstream\u001b[49m\u001b[38;5;241;43m=\u001b[39;49m\u001b[43mstream\u001b[49m\u001b[43m,\u001b[49m\n\u001b[1;32m   1110\u001b[0m \u001b[43m    \u001b[49m\u001b[43mstream_cls\u001b[49m\u001b[38;5;241;43m=\u001b[39;49m\u001b[43mstream_cls\u001b[49m\u001b[43m,\u001b[49m\n\u001b[1;32m   1111\u001b[0m \u001b[43m\u001b[49m\u001b[43m)\u001b[49m\n",
      "File \u001b[0;32m~/my_portfolio/Gmail_Analytics/venv_gmail_analytics/lib/python3.11/site-packages/openai/_base_client.py:1056\u001b[0m, in \u001b[0;36mSyncAPIClient._request\u001b[0;34m(self, cast_to, options, retries_taken, stream, stream_cls)\u001b[0m\n\u001b[1;32m   1054\u001b[0m \u001b[38;5;28;01mif\u001b[39;00m remaining_retries \u001b[38;5;241m>\u001b[39m \u001b[38;5;241m0\u001b[39m \u001b[38;5;129;01mand\u001b[39;00m \u001b[38;5;28mself\u001b[39m\u001b[38;5;241m.\u001b[39m_should_retry(err\u001b[38;5;241m.\u001b[39mresponse):\n\u001b[1;32m   1055\u001b[0m     err\u001b[38;5;241m.\u001b[39mresponse\u001b[38;5;241m.\u001b[39mclose()\n\u001b[0;32m-> 1056\u001b[0m     \u001b[38;5;28;01mreturn\u001b[39;00m \u001b[38;5;28;43mself\u001b[39;49m\u001b[38;5;241;43m.\u001b[39;49m\u001b[43m_retry_request\u001b[49m\u001b[43m(\u001b[49m\n\u001b[1;32m   1057\u001b[0m \u001b[43m        \u001b[49m\u001b[43minput_options\u001b[49m\u001b[43m,\u001b[49m\n\u001b[1;32m   1058\u001b[0m \u001b[43m        \u001b[49m\u001b[43mcast_to\u001b[49m\u001b[43m,\u001b[49m\n\u001b[1;32m   1059\u001b[0m \u001b[43m        \u001b[49m\u001b[43mretries_taken\u001b[49m\u001b[38;5;241;43m=\u001b[39;49m\u001b[43mretries_taken\u001b[49m\u001b[43m,\u001b[49m\n\u001b[1;32m   1060\u001b[0m \u001b[43m        \u001b[49m\u001b[43mresponse_headers\u001b[49m\u001b[38;5;241;43m=\u001b[39;49m\u001b[43merr\u001b[49m\u001b[38;5;241;43m.\u001b[39;49m\u001b[43mresponse\u001b[49m\u001b[38;5;241;43m.\u001b[39;49m\u001b[43mheaders\u001b[49m\u001b[43m,\u001b[49m\n\u001b[1;32m   1061\u001b[0m \u001b[43m        \u001b[49m\u001b[43mstream\u001b[49m\u001b[38;5;241;43m=\u001b[39;49m\u001b[43mstream\u001b[49m\u001b[43m,\u001b[49m\n\u001b[1;32m   1062\u001b[0m \u001b[43m        \u001b[49m\u001b[43mstream_cls\u001b[49m\u001b[38;5;241;43m=\u001b[39;49m\u001b[43mstream_cls\u001b[49m\u001b[43m,\u001b[49m\n\u001b[1;32m   1063\u001b[0m \u001b[43m    \u001b[49m\u001b[43m)\u001b[49m\n\u001b[1;32m   1065\u001b[0m \u001b[38;5;66;03m# If the response is streamed then we need to explicitly read the response\u001b[39;00m\n\u001b[1;32m   1066\u001b[0m \u001b[38;5;66;03m# to completion before attempting to access the response text.\u001b[39;00m\n\u001b[1;32m   1067\u001b[0m \u001b[38;5;28;01mif\u001b[39;00m \u001b[38;5;129;01mnot\u001b[39;00m err\u001b[38;5;241m.\u001b[39mresponse\u001b[38;5;241m.\u001b[39mis_closed:\n",
      "File \u001b[0;32m~/my_portfolio/Gmail_Analytics/venv_gmail_analytics/lib/python3.11/site-packages/openai/_base_client.py:1105\u001b[0m, in \u001b[0;36mSyncAPIClient._retry_request\u001b[0;34m(self, options, cast_to, retries_taken, response_headers, stream, stream_cls)\u001b[0m\n\u001b[1;32m   1101\u001b[0m \u001b[38;5;66;03m# In a synchronous context we are blocking the entire thread. Up to the library user to run the client in a\u001b[39;00m\n\u001b[1;32m   1102\u001b[0m \u001b[38;5;66;03m# different thread if necessary.\u001b[39;00m\n\u001b[1;32m   1103\u001b[0m time\u001b[38;5;241m.\u001b[39msleep(timeout)\n\u001b[0;32m-> 1105\u001b[0m \u001b[38;5;28;01mreturn\u001b[39;00m \u001b[38;5;28;43mself\u001b[39;49m\u001b[38;5;241;43m.\u001b[39;49m\u001b[43m_request\u001b[49m\u001b[43m(\u001b[49m\n\u001b[1;32m   1106\u001b[0m \u001b[43m    \u001b[49m\u001b[43moptions\u001b[49m\u001b[38;5;241;43m=\u001b[39;49m\u001b[43moptions\u001b[49m\u001b[43m,\u001b[49m\n\u001b[1;32m   1107\u001b[0m \u001b[43m    \u001b[49m\u001b[43mcast_to\u001b[49m\u001b[38;5;241;43m=\u001b[39;49m\u001b[43mcast_to\u001b[49m\u001b[43m,\u001b[49m\n\u001b[1;32m   1108\u001b[0m \u001b[43m    \u001b[49m\u001b[43mretries_taken\u001b[49m\u001b[38;5;241;43m=\u001b[39;49m\u001b[43mretries_taken\u001b[49m\u001b[43m \u001b[49m\u001b[38;5;241;43m+\u001b[39;49m\u001b[43m \u001b[49m\u001b[38;5;241;43m1\u001b[39;49m\u001b[43m,\u001b[49m\n\u001b[1;32m   1109\u001b[0m \u001b[43m    \u001b[49m\u001b[43mstream\u001b[49m\u001b[38;5;241;43m=\u001b[39;49m\u001b[43mstream\u001b[49m\u001b[43m,\u001b[49m\n\u001b[1;32m   1110\u001b[0m \u001b[43m    \u001b[49m\u001b[43mstream_cls\u001b[49m\u001b[38;5;241;43m=\u001b[39;49m\u001b[43mstream_cls\u001b[49m\u001b[43m,\u001b[49m\n\u001b[1;32m   1111\u001b[0m \u001b[43m\u001b[49m\u001b[43m)\u001b[49m\n",
      "File \u001b[0;32m~/my_portfolio/Gmail_Analytics/venv_gmail_analytics/lib/python3.11/site-packages/openai/_base_client.py:1071\u001b[0m, in \u001b[0;36mSyncAPIClient._request\u001b[0;34m(self, cast_to, options, retries_taken, stream, stream_cls)\u001b[0m\n\u001b[1;32m   1068\u001b[0m         err\u001b[38;5;241m.\u001b[39mresponse\u001b[38;5;241m.\u001b[39mread()\n\u001b[1;32m   1070\u001b[0m     log\u001b[38;5;241m.\u001b[39mdebug(\u001b[38;5;124m\"\u001b[39m\u001b[38;5;124mRe-raising status error\u001b[39m\u001b[38;5;124m\"\u001b[39m)\n\u001b[0;32m-> 1071\u001b[0m     \u001b[38;5;28;01mraise\u001b[39;00m \u001b[38;5;28mself\u001b[39m\u001b[38;5;241m.\u001b[39m_make_status_error_from_response(err\u001b[38;5;241m.\u001b[39mresponse) \u001b[38;5;28;01mfrom\u001b[39;00m\u001b[38;5;250m \u001b[39m\u001b[38;5;28;01mNone\u001b[39;00m\n\u001b[1;32m   1073\u001b[0m \u001b[38;5;28;01mreturn\u001b[39;00m \u001b[38;5;28mself\u001b[39m\u001b[38;5;241m.\u001b[39m_process_response(\n\u001b[1;32m   1074\u001b[0m     cast_to\u001b[38;5;241m=\u001b[39mcast_to,\n\u001b[1;32m   1075\u001b[0m     options\u001b[38;5;241m=\u001b[39moptions,\n\u001b[0;32m   (...)\u001b[0m\n\u001b[1;32m   1079\u001b[0m     retries_taken\u001b[38;5;241m=\u001b[39mretries_taken,\n\u001b[1;32m   1080\u001b[0m )\n",
      "\u001b[0;31mInternalServerError\u001b[0m: Error code: 500 - {'error': {'message': 'The server had an error while processing your request. Sorry about that!', 'type': 'server_error', 'param': None, 'code': None}}"
     ]
    }
   ],
   "source": [
    "from openai import OpenAI\n",
    "\n",
    "def categorize_emails(email_texts):\n",
    "    client = OpenAI()\n",
    "\n",
    "    messages = [\n",
    "        {\n",
    "            \"role\": \"system\",\n",
    "            \"content\": \"\"\" \n",
    "            Analyze the email body text and output a simple category label for that email. \n",
    "            You will be analyzing hundreds of emails so you'll want to re-use the same labels for similar emails.\n",
    "            For example a LinkedIn email about a job posting and an Indeed email about a job posting should likely be givin the same label, \n",
    "            such as Job Posting. But look at the context of each email carefully to generate a label that accurately represents the content of the email.  \n",
    "            \"\"\"\n",
    "        }\n",
    "    ]\n",
    "\n",
    "    results = []\n",
    "    \n",
    "    for email in email_texts:\n",
    "        #messages.append({\"role\": \"user\", \"content\": f\"Categorize this email: {email}\"})\n",
    "\n",
    "        completion = client.chat.completions.create(\n",
    "            model=\"gpt-4o\",\n",
    "            messages=messages\n",
    "        )\n",
    "\n",
    "        category = completion.choices[0].message.content.strip()\n",
    "        results.append({\"email\": email, \"category\": category})\n",
    "\n",
    "        # Clear messages to avoid context buildup\n",
    "        #messages = messages[:1]\n",
    "\n",
    "    return results\n",
    "\n",
    "\n",
    "categorized_emails = categorize_emails(df.body[:3])"
   ]
  },
  {
   "cell_type": "code",
   "execution_count": 60,
   "metadata": {},
   "outputs": [
    {
     "ename": "NameError",
     "evalue": "name 'messages' is not defined",
     "output_type": "error",
     "traceback": [
      "\u001b[0;31m---------------------------------------------------------------------------\u001b[0m",
      "\u001b[0;31mNameError\u001b[0m                                 Traceback (most recent call last)",
      "Cell \u001b[0;32mIn[60], line 4\u001b[0m\n\u001b[1;32m      1\u001b[0m results \u001b[38;5;241m=\u001b[39m []\n\u001b[1;32m      3\u001b[0m \u001b[38;5;28;01mfor\u001b[39;00m email \u001b[38;5;129;01min\u001b[39;00m df\u001b[38;5;241m.\u001b[39mbody[:\u001b[38;5;241m3\u001b[39m]:\n\u001b[0;32m----> 4\u001b[0m     \u001b[43mmessages\u001b[49m\u001b[38;5;241m.\u001b[39mappend({\u001b[38;5;124m\"\u001b[39m\u001b[38;5;124mrole\u001b[39m\u001b[38;5;124m\"\u001b[39m: \u001b[38;5;124m\"\u001b[39m\u001b[38;5;124muser\u001b[39m\u001b[38;5;124m\"\u001b[39m, \u001b[38;5;124m\"\u001b[39m\u001b[38;5;124mcontent\u001b[39m\u001b[38;5;124m\"\u001b[39m: \u001b[38;5;124mf\u001b[39m\u001b[38;5;124m\"\u001b[39m\u001b[38;5;124mCategorize this email: \u001b[39m\u001b[38;5;132;01m{\u001b[39;00memail\u001b[38;5;132;01m}\u001b[39;00m\u001b[38;5;124m\"\u001b[39m})\n\u001b[1;32m      6\u001b[0m     completion \u001b[38;5;241m=\u001b[39m client\u001b[38;5;241m.\u001b[39mchat\u001b[38;5;241m.\u001b[39mcompletions\u001b[38;5;241m.\u001b[39mcreate(\n\u001b[1;32m      7\u001b[0m         model\u001b[38;5;241m=\u001b[39m\u001b[38;5;124m\"\u001b[39m\u001b[38;5;124mgpt-4o\u001b[39m\u001b[38;5;124m\"\u001b[39m,\n\u001b[1;32m      8\u001b[0m         messages\u001b[38;5;241m=\u001b[39mmessages\n\u001b[1;32m      9\u001b[0m     )\n\u001b[1;32m     11\u001b[0m     category \u001b[38;5;241m=\u001b[39m completion\u001b[38;5;241m.\u001b[39mchoices[\u001b[38;5;241m0\u001b[39m]\u001b[38;5;241m.\u001b[39mmessage\u001b[38;5;241m.\u001b[39mcontent\u001b[38;5;241m.\u001b[39mstrip()\n",
      "\u001b[0;31mNameError\u001b[0m: name 'messages' is not defined"
     ]
    }
   ],
   "source": [
    "results = []\n",
    "\n",
    "for email in df.body[:3]:\n",
    "    messages.append({\"role\": \"user\", \"content\": f\"Categorize this email: {email}\"})\n",
    "\n",
    "    completion = client.chat.completions.create(\n",
    "        model=\"gpt-4o\",\n",
    "        messages=messages\n",
    "    )\n",
    "\n",
    "    category = completion.choices[0].message.content.strip()\n",
    "    results.append({\"email\": email, \"category\": category})\n",
    "\n",
    "    # Clear messages to avoid context buildup\n",
    "    messages = messages[:1]"
   ]
  },
  {
   "cell_type": "code",
   "execution_count": 59,
   "metadata": {},
   "outputs": [
    {
     "name": "stdout",
     "output_type": "stream",
     "text": [
      "Amelia Mink posted in Data Science for SustainabilityAmelia Mink started a discussion in Data Science for Sustainability.Amelia Mink More AI, More Spending? Let’s Change ThatScaling AI shouldn’t mean skyrocketing costs.Discover how to cut inefficiencies & boost performance in this live session on Feb 19 at 2PM ET.🔗 Reserve your spot View discussionUnsubscribe from these type of emails. Manage your Email Notification Preferences. Read our Privacy Policy. Meetup LLC, POB 4668 #37895 New York NY USA 10163.\n"
     ]
    }
   ],
   "source": [
    "for i in df.body[:3]:\n",
    "    print(i)\n",
    "    break"
   ]
  },
  {
   "cell_type": "code",
   "execution_count": 69,
   "metadata": {},
   "outputs": [
    {
     "data": {
      "text/plain": [
       "3745"
      ]
     },
     "execution_count": 69,
     "metadata": {},
     "output_type": "execute_result"
    }
   ],
   "source": [
    "len(df.body[1000])"
   ]
  },
  {
   "cell_type": "code",
   "execution_count": 70,
   "metadata": {},
   "outputs": [
    {
     "data": {
      "text/plain": [
       "1086"
      ]
     },
     "execution_count": 70,
     "metadata": {},
     "output_type": "execute_result"
    }
   ],
   "source": [
    "len([\"\".join((\"\",txt))for txt in df.body])"
   ]
  },
  {
   "cell_type": "code",
   "execution_count": 78,
   "metadata": {},
   "outputs": [],
   "source": [
    "def categorize_email(email_text):\n",
    "    client = OpenAI()\n",
    "\n",
    "    label_email_prompt =f\"\"\" \n",
    "        Analyze the email body text and output a simple category label for that email. \n",
    "        You will be analyzing hundreds of emails so you'll want to re-use the same labels for similar emails.\n",
    "        For example a LinkedIn email about a job posting and an Indeed email about a job posting should likely be givin the same label, \n",
    "        such as Job Posting. But look at the context of each email carefully to generate a label that accurately represents the content of the email.  \n",
    "        Only output the category label. \n",
    "        \n",
    "        Categorize Email: {email_text}\n",
    "    \"\"\"\n",
    "\n",
    "    completion = client.chat.completions.create(\n",
    "        model=\"gpt-4o\",\n",
    "        messages=[{\"role\": \"user\", \"content\": label_email_prompt}]\n",
    "    )\n",
    "\n",
    "    return completion.choices[0].message.content\n",
    "\n",
    "# Apply summarization before categorization\n",
    "labels = [categorize_email(email) for email in df.body]"
   ]
  },
  {
   "cell_type": "code",
   "execution_count": 81,
   "metadata": {},
   "outputs": [],
   "source": [
    "df['category'] = labels"
   ]
  },
  {
   "cell_type": "code",
   "execution_count": 83,
   "metadata": {},
   "outputs": [
    {
     "data": {
      "text/plain": [
       "['Event Announcement',\n",
       " 'Event Invitation',\n",
       " 'Job Posting',\n",
       " 'Event Announcement',\n",
       " 'Job Posting',\n",
       " \"I'm sorry, but there is no email text to analyze currently. Please provide the email body text you need categorized.\",\n",
       " 'Networking Suggestion',\n",
       " 'Event Reminder',\n",
       " 'Event Reminder',\n",
       " 'Personal Development Training',\n",
       " 'Event Announcement',\n",
       " 'Event Invitation',\n",
       " 'Job Posting',\n",
       " 'Promotional Offer',\n",
       " 'Event Promotion',\n",
       " 'Job Posting',\n",
       " \"I'm sorry, but it seems there is no email text provided for me to categorize. Please provide the email body text for analysis.\",\n",
       " 'Event Invitation',\n",
       " 'Event Reminder',\n",
       " 'Personal Development Workshop',\n",
       " 'Event Reminder',\n",
       " 'Job Posting',\n",
       " 'Event Update',\n",
       " 'News and Promotions',\n",
       " 'Online Learning Courses',\n",
       " 'Profile View Notifications',\n",
       " 'Job Posting',\n",
       " 'Job Posting',\n",
       " 'Newsletter Subscription',\n",
       " 'Event Invitation',\n",
       " 'Notification Alert',\n",
       " 'Local News Update',\n",
       " 'Billing Notification',\n",
       " 'Job Application Acknowledgment',\n",
       " 'Music Promotion',\n",
       " 'Technology Innovations',\n",
       " 'Networking and Events Promotion',\n",
       " 'Promotional Email',\n",
       " 'Credit Monitoring Update',\n",
       " 'Discussion Forum Digest',\n",
       " 'Professional Networking Group - Greentech and Sustainability',\n",
       " 'Parking Receipt',\n",
       " 'Tax Filing Reminder',\n",
       " 'Event Invitation',\n",
       " 'Promotion/Sale',\n",
       " 'Networking and Professional Development Event',\n",
       " 'Petition for Corporate DEI Commitment',\n",
       " 'Credit Card Offer',\n",
       " 'Job Posting',\n",
       " 'Job Posting',\n",
       " 'Event Invitation',\n",
       " 'Live Video Content Strategy',\n",
       " 'Event Reminder',\n",
       " 'Event Reminder',\n",
       " 'Promotional Offer',\n",
       " 'Travel Deal Promotion',\n",
       " 'Investment Advisory Service Promotion',\n",
       " 'Unsubscribe Request',\n",
       " 'Concert/Tour Announcement',\n",
       " 'Tax Filing Reminder',\n",
       " 'Alumni Event',\n",
       " 'Notification',\n",
       " 'Event Announcement',\n",
       " 'Shopping Reminder',\n",
       " 'Event Invitation',\n",
       " 'Event Invitation',\n",
       " 'Academic Publication Notification',\n",
       " 'Event Promotion',\n",
       " 'Live Streaming Shows Announcement',\n",
       " 'Event Promotion',\n",
       " 'Language Learning',\n",
       " 'Promotional Offer',\n",
       " 'Research & Innovation in Mathematics',\n",
       " 'Retail Promotion',\n",
       " 'Event Invitation',\n",
       " 'Leadership Webinar Invitation',\n",
       " 'Discount Offer',\n",
       " 'Flight Deals',\n",
       " 'Event Invitation',\n",
       " 'AI Events and News',\n",
       " 'Promotion',\n",
       " 'Newsletter Highlights',\n",
       " 'Product Promotion',\n",
       " 'Promotional Offer',\n",
       " 'AI Tools and Software Tutorials',\n",
       " 'Job Posting',\n",
       " 'Social Event Invitation',\n",
       " 'Job Posting',\n",
       " 'Event Reminder',\n",
       " 'Reading Recommendation',\n",
       " 'Promotion',\n",
       " 'Educational Discount Offer',\n",
       " 'Newsletter Summary',\n",
       " 'Event Invitation',\n",
       " 'Event Reminder',\n",
       " 'AI Industry News',\n",
       " 'Self-Improvement Newsletter',\n",
       " 'Promotional Email',\n",
       " 'Remote Job Opportunities Newsletter',\n",
       " 'Online Forum Digest',\n",
       " 'iCloud Storage Notification',\n",
       " 'Job Posting',\n",
       " 'Discussion Forum Roundup',\n",
       " 'Job Posting',\n",
       " 'Event Invitation',\n",
       " 'Conference Announcement',\n",
       " 'Networking and Investment Events',\n",
       " 'Job Posting',\n",
       " 'Event Invitation',\n",
       " 'Event Listing',\n",
       " 'Event Listing',\n",
       " 'Community Event Highlights',\n",
       " \"Men's Issues Discussion\",\n",
       " 'Security Alert',\n",
       " 'Job Posting',\n",
       " 'Promotional Offer',\n",
       " 'Timesheet Approval',\n",
       " 'Timesheet Approval',\n",
       " 'Language Exchange Event',\n",
       " 'Product Promotion',\n",
       " 'AI and Business Intelligence Insights',\n",
       " 'Cryptocurrency Promotion',\n",
       " 'Book Club Announcement',\n",
       " 'Event Invitation',\n",
       " 'Loan Offer',\n",
       " 'Event Invitation',\n",
       " 'Job Posting',\n",
       " 'Language Exchange Event',\n",
       " 'Event Invitation',\n",
       " 'Event Invitation',\n",
       " 'Newsletter Digest',\n",
       " 'Networking Event Invitation',\n",
       " 'Event Invitation',\n",
       " 'Credit Card Promotion',\n",
       " 'Networking Event',\n",
       " 'Startup Funding Event',\n",
       " 'Startup Funding Event',\n",
       " 'Local Recommendations',\n",
       " 'Unsubscribe Request',\n",
       " 'Language Learning Promotion',\n",
       " 'Event Invitation',\n",
       " 'Newsletter',\n",
       " 'Shopping Promotion',\n",
       " 'Credit Card Offer',\n",
       " 'Citation Alert',\n",
       " 'Academic Publication Notification',\n",
       " 'Travel Deals Promotion',\n",
       " 'Job Posting',\n",
       " 'Promotional Offer',\n",
       " 'Political Activism Fundraising',\n",
       " 'Promotional Offer',\n",
       " 'Networking Event',\n",
       " 'Newsletter',\n",
       " 'Algorithmic Trading Insights Newsletter',\n",
       " 'Promotional Offer',\n",
       " 'Event Invitation',\n",
       " 'Fundraising Campaign',\n",
       " 'Job Posting',\n",
       " 'Job Posting',\n",
       " 'Event Reminder',\n",
       " 'Milestone Celebration',\n",
       " 'Social Media Notification',\n",
       " 'Event Invitation',\n",
       " 'AI and Technology Updates',\n",
       " 'Events',\n",
       " 'Reddit Digest',\n",
       " 'Job Posting',\n",
       " 'Job Posting',\n",
       " 'Discussion Forum Digest',\n",
       " 'Event Invitation',\n",
       " 'Job Posting',\n",
       " 'Terms of Service Update',\n",
       " 'Event Announcements',\n",
       " 'Event Invitation',\n",
       " 'Community Events and Networking',\n",
       " 'Political Petition',\n",
       " 'Event Invitation',\n",
       " 'Local News and Events',\n",
       " 'Coding Interview Preparation',\n",
       " 'Webinar Follow-Up',\n",
       " 'Credit Score Update',\n",
       " 'Loan Offer',\n",
       " 'Volunteer Recruitment',\n",
       " 'Local Sports Event Promotion',\n",
       " 'Gender Discussion',\n",
       " 'Credit Card Promotion',\n",
       " 'Product Promotion',\n",
       " 'Insurance Promotion',\n",
       " 'Job Posting',\n",
       " 'Concert Announcement',\n",
       " 'Health Insurance Plan Information',\n",
       " 'Networking Event',\n",
       " 'Networking and Innovation Events',\n",
       " 'Travel Deals',\n",
       " 'Job Posting',\n",
       " 'Job Posting',\n",
       " 'Travel Promotion',\n",
       " 'Event Invitation',\n",
       " 'Flight Deals',\n",
       " 'Conference Promotion',\n",
       " 'Event Invitation',\n",
       " 'Programming Newsletter',\n",
       " 'Product Announcement',\n",
       " 'Newsletter/Podcast Promotion',\n",
       " 'Networking Group Notification',\n",
       " 'Promotional Offer',\n",
       " 'Event Invitation',\n",
       " 'Travel Deals Promotion',\n",
       " 'Tech Events and Startup Opportunities',\n",
       " 'Quantum Computing News',\n",
       " 'Travel Promotion',\n",
       " 'Academic Publication Promotion',\n",
       " 'Event Invitation',\n",
       " 'Event Announcement',\n",
       " 'Job Posting',\n",
       " 'Language Learning Promotion',\n",
       " 'Investment Promotion',\n",
       " 'Travel Promotion',\n",
       " 'Newsletter',\n",
       " 'Job Posting',\n",
       " 'Newsletter Summary',\n",
       " 'Promotional Offer',\n",
       " 'Political Activism Fundraising',\n",
       " 'Travel Deals',\n",
       " 'Loyalty Program Promotion',\n",
       " 'Positive Aging Tools Promotion',\n",
       " 'Community Event Promotion',\n",
       " 'Promotional Offer',\n",
       " 'Trading Education',\n",
       " 'Order Shipment Delay',\n",
       " 'Job Posting',\n",
       " 'Event Reminder',\n",
       " 'Event Invitation',\n",
       " 'Newsletter',\n",
       " 'Job Posting',\n",
       " 'Promotional Offer',\n",
       " 'AI Industry Update',\n",
       " 'Policy Update Notification',\n",
       " 'Account Statement Notification',\n",
       " 'Promotional Offer',\n",
       " 'Social Media Notification',\n",
       " 'Promotional Offer',\n",
       " 'Job Posting',\n",
       " 'Webinar Promotion',\n",
       " 'Profile Views Notification',\n",
       " 'Event Invitation',\n",
       " 'Job Posting',\n",
       " 'Local News Update',\n",
       " 'Photography Classes Promotion',\n",
       " 'Music Promotion',\n",
       " 'Event Invitation',\n",
       " 'Technology News Digest',\n",
       " 'Job Posting',\n",
       " 'Gender and Social Issues Discussion',\n",
       " 'AI and Tech Networking Events',\n",
       " 'Political Advocacy',\n",
       " 'Promotional Email',\n",
       " 'Credit Score Update',\n",
       " 'Job Opportunity',\n",
       " 'Service Promotion',\n",
       " 'Event Invitation',\n",
       " 'Discussion Forum Digest',\n",
       " 'Job Posting',\n",
       " 'Promotion Email',\n",
       " 'Credit Card Offer',\n",
       " 'Customer Feedback Request',\n",
       " 'Unsubscribe Request',\n",
       " 'Giveaway Announcement',\n",
       " 'Event Invitation',\n",
       " 'Promotion',\n",
       " 'Event Invitation',\n",
       " 'Competition Announcement',\n",
       " 'Product Promotion',\n",
       " 'Event Invitation',\n",
       " 'Giveaway Offer',\n",
       " 'Travel Deal Offer',\n",
       " 'Career Networking',\n",
       " 'Event Invitation',\n",
       " 'LinkedIn Notification',\n",
       " 'Promotional Email',\n",
       " 'Networking Event/Investment Community Gathering',\n",
       " 'Newsletter',\n",
       " 'Political Activism Event Invitation',\n",
       " 'Academic Publication Notification',\n",
       " 'Training Announcement',\n",
       " 'Job Posting',\n",
       " 'Events and Networking Opportunities',\n",
       " 'Language Learning Promotion',\n",
       " 'Data Privacy Compliance',\n",
       " 'AI Policy and Events',\n",
       " 'Job Rejection',\n",
       " 'Newsletter Digest',\n",
       " 'Remote Work and Job Opportunities Newsletter',\n",
       " 'Educational Content',\n",
       " 'Job Posting',\n",
       " 'Lifestyle Discussion',\n",
       " 'Promotional Offer',\n",
       " 'Event Invitation',\n",
       " 'Event Reminder',\n",
       " 'Event Announcement',\n",
       " 'Newsletter',\n",
       " 'Promotion/Advertisement',\n",
       " 'Networking Event',\n",
       " 'Promotion',\n",
       " 'Event Reminder',\n",
       " 'Event Invitation',\n",
       " 'Event Announcement',\n",
       " 'Event Invitation',\n",
       " 'Workshop/Event Promotion',\n",
       " 'Referral Program Promotion',\n",
       " 'Job Posting',\n",
       " 'Event Reminder',\n",
       " 'Personal Development Newsletter',\n",
       " 'AI News & Updates',\n",
       " 'Job Posting',\n",
       " 'Reddit Digest',\n",
       " 'Newsletter Announcement',\n",
       " 'Product Usage Tips',\n",
       " 'Job Posting',\n",
       " 'Credit Card Promotion',\n",
       " 'Giveaway Offer',\n",
       " 'Travel Deals Promotion',\n",
       " 'Job Posting',\n",
       " 'Event Invitation',\n",
       " 'Parking Receipt',\n",
       " 'Startup Networking/Events',\n",
       " 'Event Notifications',\n",
       " 'Event Announcement',\n",
       " 'Advocacy Campaign',\n",
       " 'Product Promotion',\n",
       " 'Category Label: Article Recommendations',\n",
       " 'Event Invitation',\n",
       " 'Promotion',\n",
       " 'Event Promotion',\n",
       " 'Language Exchange Event',\n",
       " 'Job Posting',\n",
       " 'Promotional Offer',\n",
       " 'Trading/Investment Education',\n",
       " 'Job Posting',\n",
       " 'Social Event Notice',\n",
       " 'Promotional Offer',\n",
       " 'AI Strategy and Business Integration',\n",
       " 'Research Mention Notification',\n",
       " 'Job Posting',\n",
       " 'Social Event Invitation',\n",
       " 'Social Event Invitation',\n",
       " 'Newsletter Promotion',\n",
       " 'Travel Promotion',\n",
       " 'Product Promotion',\n",
       " 'Social Event Invitation',\n",
       " 'Event Invitation',\n",
       " 'Unsubscribe Option',\n",
       " 'Mentions Notification',\n",
       " 'Event Invitation',\n",
       " 'Job Posting',\n",
       " 'Meetup Group Invitation',\n",
       " 'Political Activism Fundraising',\n",
       " 'Q&A Digest',\n",
       " 'Travel Deal',\n",
       " 'Event Announcement/Promotion',\n",
       " 'Job Posting',\n",
       " 'Job Posting',\n",
       " 'Flight Deals Promotion',\n",
       " 'Slack Invitation',\n",
       " 'Promotional Offer',\n",
       " 'Social Event Announcement',\n",
       " 'Promotional Offer',\n",
       " 'Event Reminder',\n",
       " 'Event Reminder',\n",
       " 'Promotional Offer',\n",
       " 'Social Media Digest',\n",
       " 'Job Posting',\n",
       " 'Events Newsletter',\n",
       " 'Event Invitation',\n",
       " 'Concert Announcement',\n",
       " 'Credit Score Update',\n",
       " 'Job Posting',\n",
       " 'Job Posting',\n",
       " 'Event Invitation',\n",
       " 'Discussion on Gender Issues',\n",
       " 'Promotion',\n",
       " 'Newsletter',\n",
       " 'Newsletter',\n",
       " 'Job Posting',\n",
       " 'Advertisement',\n",
       " 'Event Invitation',\n",
       " 'Unsubscribe Notice',\n",
       " 'Alumni Newsletter',\n",
       " 'AI and Technology News',\n",
       " 'Newsletter - Business & Culture Analysis',\n",
       " 'Job Posting',\n",
       " 'Loan Offer',\n",
       " 'Job Posting',\n",
       " 'Event Invitation',\n",
       " 'Home Maintenance Tips',\n",
       " 'Networking Event Invitation',\n",
       " 'Technology News',\n",
       " 'Meetup Event Invitation',\n",
       " 'Meetup Announcement',\n",
       " 'Travel Deals Promotion',\n",
       " 'Payment Notification',\n",
       " 'Event Announcement',\n",
       " 'Event Invitation',\n",
       " 'Fundraising Campaign',\n",
       " 'Local Election Coverage',\n",
       " 'Academic Research Paper Recommendation',\n",
       " 'Travel Deal Offer',\n",
       " 'Event Promotion',\n",
       " 'Podcast Promotion',\n",
       " 'Tax Updates',\n",
       " 'Job Posting',\n",
       " 'Petition for Media Programming Decisions',\n",
       " 'Local News and Community Events',\n",
       " 'Newsletter Summary',\n",
       " 'Promotional Offer',\n",
       " 'Newsletter Roundup',\n",
       " 'Job Posting',\n",
       " 'Event Reminder',\n",
       " 'Job Posting',\n",
       " 'Networking/Community Event Invitation',\n",
       " 'Job Posting',\n",
       " 'Job Posting',\n",
       " 'Account Hacked Notification',\n",
       " 'Job Posting',\n",
       " 'Job Posting',\n",
       " 'Meetup Event Invitation',\n",
       " 'Networking Event Invitation',\n",
       " 'Social Event Notification',\n",
       " \"Men's Issues Discussion\",\n",
       " 'Event Invitation',\n",
       " 'Local News Update',\n",
       " 'News Update',\n",
       " 'Payment Receipt',\n",
       " 'Podcast Promotion',\n",
       " 'Discussion Forum Digest',\n",
       " 'Writing Mentorship Offer',\n",
       " 'Job Posting',\n",
       " 'Job Posting',\n",
       " 'News and Promotions',\n",
       " 'Event Invitation',\n",
       " 'Newsletter Subscription',\n",
       " 'Training and Certification Programs',\n",
       " 'Community Advocacy and Training',\n",
       " 'Promotion',\n",
       " 'Credit Card Offer',\n",
       " 'Online Mention Notification',\n",
       " 'Academic Publication Notification',\n",
       " 'Newsletter Update',\n",
       " 'Streaming Service Promotion',\n",
       " 'Event Invitation',\n",
       " 'AI and Machine Learning Updates',\n",
       " 'Social Event Invitation',\n",
       " 'Event Invitation',\n",
       " 'Event Invitation',\n",
       " 'Travel Promotion',\n",
       " 'Technology and Innovation',\n",
       " 'Community Meetup Invitation',\n",
       " 'Flight Deals',\n",
       " 'Promotional Email',\n",
       " 'Marketing/Promotional Email',\n",
       " 'Language Exchange Event Invitation',\n",
       " 'Local Election Information',\n",
       " 'Movie Awards Discussion',\n",
       " 'Travel Deal Promotion',\n",
       " 'Tech Industry News and Job Opportunities',\n",
       " 'Product Promotion',\n",
       " 'Discussion and Q&A Digest',\n",
       " 'Slack Notification',\n",
       " 'Career Advice and Job Market Insights',\n",
       " 'Career Advice Newsletter',\n",
       " 'Science and Technology News',\n",
       " 'Newsletter',\n",
       " 'Promotional Offer',\n",
       " 'Event Announcement',\n",
       " 'Language Learning Promotion',\n",
       " 'Newsletter',\n",
       " 'Product Promotion',\n",
       " 'Promotional Offer',\n",
       " 'Order Shipment Notification',\n",
       " 'Gym Announcement',\n",
       " 'Newsletter',\n",
       " 'Event Reminder',\n",
       " 'Promotional Offer',\n",
       " 'Conference Promotion',\n",
       " 'Company Update Announcement',\n",
       " 'User Research Invitation',\n",
       " 'Educational Course Promotion',\n",
       " 'Event Invitation',\n",
       " 'Security Notification',\n",
       " 'Job Posting',\n",
       " 'Job Posting',\n",
       " 'Newsletter Summary',\n",
       " 'AI Industry Update',\n",
       " 'Promotional Email',\n",
       " 'Article Engagement Notification',\n",
       " 'Social Media Digest',\n",
       " 'Order Confirmation',\n",
       " 'Job Posting',\n",
       " 'Networking/Event Promotion',\n",
       " 'Language Meetup Event',\n",
       " 'Genealogy Update',\n",
       " 'Job Posting',\n",
       " 'Event Invitation',\n",
       " 'Networking Event',\n",
       " 'Job Posting',\n",
       " 'Travel Promotion',\n",
       " 'Local News Update',\n",
       " 'Event Promotion',\n",
       " \"Men's Issues Discussion\",\n",
       " 'Job Posting',\n",
       " 'Event Invitation',\n",
       " 'Job Posting',\n",
       " 'Rewards Program Update',\n",
       " 'Event Invitation',\n",
       " 'Job Posting',\n",
       " 'Alumni Update',\n",
       " 'Event Invitation',\n",
       " 'Science and Technology News',\n",
       " 'Payment Confirmation',\n",
       " 'Event Invitation',\n",
       " 'Data Science Newsletter',\n",
       " 'Event Invitation',\n",
       " 'Language Exchange Event Invitation',\n",
       " 'Social Event Invitation',\n",
       " 'Networking Event Invitation',\n",
       " 'Event Invitation',\n",
       " 'Networking Event Notice',\n",
       " 'Competition Announcement',\n",
       " 'Job Opportunities and Career Development',\n",
       " 'Community Event Announcement',\n",
       " 'Professional Networking and Discussion Group Invitation',\n",
       " 'Market Research Participation',\n",
       " 'Event Invitation',\n",
       " 'Webinar Invitation',\n",
       " 'Promotion Offer',\n",
       " 'Job Posting',\n",
       " 'Community Newsletter',\n",
       " 'Unsubscribe Request',\n",
       " 'Customer Feedback Request',\n",
       " 'Job Posting',\n",
       " 'HVAC Training and Certification',\n",
       " 'Tax Filing Promotion',\n",
       " 'Promotional Offer',\n",
       " 'Job Rejection',\n",
       " 'Course Registration Update',\n",
       " 'Academic Publication Notification',\n",
       " 'Networking Event Announcement',\n",
       " 'Newsletter',\n",
       " 'Gym Membership Promotion',\n",
       " 'Community Giveaway',\n",
       " 'Job Posting',\n",
       " 'AI Conference and Newsletters',\n",
       " 'Travel Deals',\n",
       " 'Event Invitation',\n",
       " 'Career Services Promotion',\n",
       " 'Travel Promotion',\n",
       " 'Political Fundraising',\n",
       " 'Genealogy Subscription Offer',\n",
       " 'Tech News and Updates',\n",
       " 'Language Learning',\n",
       " 'Job Search Tips',\n",
       " 'Event Announcement',\n",
       " 'Credit Score Update',\n",
       " 'Newsletter',\n",
       " 'Travel Deals Promotion',\n",
       " 'Newsletter Summary',\n",
       " 'Data Science Career Development',\n",
       " 'Podcast Discussion',\n",
       " 'Networking Notification',\n",
       " 'Political Fundraising Campaign',\n",
       " 'Social Meetup Invitation',\n",
       " 'Promotional Offer',\n",
       " 'Job Posting',\n",
       " 'Job Posting',\n",
       " 'Event Notification',\n",
       " 'Newsletter',\n",
       " 'Event Invitation',\n",
       " 'Newsletter - Curiosity and Personal Reflections',\n",
       " 'Travel Promotion',\n",
       " 'Social Media Digest',\n",
       " 'Job Posting',\n",
       " 'AI Learning and Community Event',\n",
       " 'Promotional Email',\n",
       " 'Networking Suggestion',\n",
       " 'Event Invitation',\n",
       " 'Newsletter',\n",
       " 'Job Posting',\n",
       " 'Promotional Offer',\n",
       " 'Event Invitation',\n",
       " 'Job Posting',\n",
       " 'Event Announcements',\n",
       " 'Job Posting',\n",
       " 'Local News Update',\n",
       " 'Community Event',\n",
       " 'Career Development Event',\n",
       " 'Promotional Email',\n",
       " 'Travel Promotion',\n",
       " 'Event Announcement',\n",
       " \"Men's Lifestyle Stories\",\n",
       " 'Credit Monitoring Notification',\n",
       " 'Networking Event',\n",
       " 'Networking Event Invitation',\n",
       " 'Free Online Photography Course Offer',\n",
       " 'AI Conference Announcement',\n",
       " 'Event Invitation',\n",
       " 'Event Announcement',\n",
       " 'Event Invitation',\n",
       " 'Networking Event',\n",
       " 'Job Posting',\n",
       " 'Concert Announcements',\n",
       " 'Event Reminder',\n",
       " 'Promotional Offer',\n",
       " 'Citation Notification',\n",
       " 'Unsubscribe Confirmation',\n",
       " 'Travel Promotion',\n",
       " 'Investment Advisory Services Promotion',\n",
       " 'Job Posting',\n",
       " 'Professional Network Group Update',\n",
       " 'Event Invitation',\n",
       " 'Event Invitation',\n",
       " 'Promotion',\n",
       " 'Conference Promotion',\n",
       " 'Job Posting',\n",
       " 'Sustainability Partnership Promotion',\n",
       " 'Activism/Advocacy Campaign',\n",
       " 'Energy and Technology News',\n",
       " 'Promotional Offer',\n",
       " 'Event Promotion',\n",
       " 'Academic Journal Recommendation',\n",
       " 'Content Creation and Monetization Strategies',\n",
       " 'Event Announcement',\n",
       " 'Newsletter',\n",
       " 'Language Learning Promotion',\n",
       " 'Event Feedback Request',\n",
       " 'Webinar Invitation',\n",
       " 'Alumni Newsletter',\n",
       " 'Promotional Offer',\n",
       " 'Promotional Offer',\n",
       " 'Newsletter',\n",
       " 'Subscription Service Notification',\n",
       " 'Promotional Offer',\n",
       " 'Online Course Announcement',\n",
       " 'Fundraising Campaign',\n",
       " 'Career Event Announcement',\n",
       " 'Online Course Promotion',\n",
       " 'Event Reminder',\n",
       " 'Job Posting',\n",
       " 'Job Posting',\n",
       " 'Account Security',\n",
       " 'Event Invitation',\n",
       " 'Event Invitation',\n",
       " 'Event Reminder',\n",
       " 'Newsletter - War in Ukraine Analysis',\n",
       " 'Promotion',\n",
       " 'Promotional Email',\n",
       " 'AI Technology News',\n",
       " 'Online Community Digest',\n",
       " 'Event Reminder',\n",
       " 'Job Posting',\n",
       " 'Gym Membership Promotion',\n",
       " 'Travel Deals',\n",
       " 'Event Invitation',\n",
       " 'Job Posting',\n",
       " 'Event Invitation',\n",
       " 'Job Posting',\n",
       " 'Newsletter',\n",
       " 'Volunteer Event Invitation',\n",
       " 'Event Invitation',\n",
       " 'Event Reminder',\n",
       " 'Job Posting',\n",
       " 'Transportation Service Promotion',\n",
       " 'Event Promotions',\n",
       " 'Science and Technology News Digest',\n",
       " 'Political Fundraising Appeal',\n",
       " 'Local News Update',\n",
       " 'Event Invitation',\n",
       " 'Coding Interview Preparation',\n",
       " 'Product Promotion',\n",
       " 'Event Announcement',\n",
       " 'Promotion',\n",
       " 'Trademark News and Advice',\n",
       " 'Credit Card Promotion',\n",
       " 'Job Interest Confirmation',\n",
       " 'Job Posting',\n",
       " 'Gender and Society Issues',\n",
       " 'Genealogy Membership Renewal',\n",
       " 'Meetup Invitation',\n",
       " 'Event Announcement',\n",
       " 'Tech and Startup Events Announcement',\n",
       " 'Training and Certification Event',\n",
       " 'Event Reminder',\n",
       " 'Webinar/Online Course Promotion',\n",
       " 'Social Event Invitation',\n",
       " 'Event Invitation',\n",
       " 'Event Promotion',\n",
       " 'Surplus Food Offer',\n",
       " 'Python Programming Newsletter',\n",
       " 'Mentions Notification',\n",
       " 'Professional Group Notification',\n",
       " 'Language Learning Promotion',\n",
       " 'Event Invitation',\n",
       " 'Event Announcement',\n",
       " 'Promotional Email',\n",
       " 'Product Promotion',\n",
       " 'Travel Deal Promotion',\n",
       " 'Home Electrification Webinar Series',\n",
       " 'Event Submission/Announcement',\n",
       " 'Shopping Reminder',\n",
       " 'Event Invitation',\n",
       " 'Academic Publication Notification',\n",
       " 'Promotion',\n",
       " 'Educational Promotion',\n",
       " 'Flight Promotion',\n",
       " 'Genealogy Subscription Offer',\n",
       " 'Networking Event',\n",
       " 'Fundraising Campaign',\n",
       " 'Language Learning Promotion',\n",
       " 'Newsletter Digest',\n",
       " 'Promotion/Discount Offer',\n",
       " 'Newsletter and Blog Highlights',\n",
       " 'Promotional Offer',\n",
       " 'Networking Event',\n",
       " 'Networking Invitation',\n",
       " 'Newsletter Promotion',\n",
       " 'Travel Promotion',\n",
       " 'Eyewear Promotion',\n",
       " 'Webinar Invitation',\n",
       " 'Job Posting',\n",
       " 'Promotional Email',\n",
       " 'Job Posting',\n",
       " 'Language Learning Promotion',\n",
       " 'Event Invitation',\n",
       " 'Travel Promotion',\n",
       " 'Product Update',\n",
       " 'AI Industry News and Updates',\n",
       " 'Job Application Updates',\n",
       " 'Payment Confirmation',\n",
       " 'Payment Notification',\n",
       " 'Social Media Digest',\n",
       " 'Job Posting',\n",
       " 'Job Posting',\n",
       " 'Event Notification',\n",
       " 'News and Promotions',\n",
       " 'Online Learning Course Promotion',\n",
       " 'Profile Views Notification',\n",
       " 'Job Posting',\n",
       " 'Job Posting',\n",
       " 'Newsletter',\n",
       " 'Event Invitation',\n",
       " 'Event Invitation',\n",
       " 'Local News Update',\n",
       " 'Billing Notification',\n",
       " 'Job Application Acknowledgment',\n",
       " 'Music Promotion',\n",
       " 'Technology News',\n",
       " 'Networking and Event Promotion',\n",
       " 'Promotional Email',\n",
       " 'Credit Monitoring Notification',\n",
       " 'Discussion Forum Summary',\n",
       " 'Professional Networking - Sustainability and Clean Technology',\n",
       " 'Parking Receipt',\n",
       " 'Event Invitation',\n",
       " 'Promotion/Sale',\n",
       " 'Networking and Events Promotion',\n",
       " 'Petition for Corporate Responsibility',\n",
       " 'Credit Card Offer',\n",
       " 'Job Posting',\n",
       " 'Job Opportunities in AI and Policy',\n",
       " 'Event Invitation',\n",
       " 'Live Video Content Strategy',\n",
       " 'Event Reminder',\n",
       " 'Events and Networking',\n",
       " 'Travel Deal Promotion',\n",
       " 'Investment Advisory Service',\n",
       " 'Unsubscribe Request',\n",
       " 'Concert Announcement',\n",
       " 'Tax Filing Reminder',\n",
       " 'Event Invitation',\n",
       " 'Notification Email',\n",
       " 'Event Promotion',\n",
       " 'Shopping Promotion',\n",
       " 'Event Reminder',\n",
       " 'Event Invitation',\n",
       " 'Academic Publication Notification',\n",
       " 'Tango Dance Event Promotion',\n",
       " 'Live Video Show Schedule',\n",
       " 'Event Promotion',\n",
       " 'Language Learning Promotion',\n",
       " 'Music Streaming Promotion',\n",
       " 'Research Article Announcement',\n",
       " 'Fashion Promotion',\n",
       " 'Startup Funding Event',\n",
       " 'Event Invitation',\n",
       " 'Webinar Invitation',\n",
       " 'Promotional Offer',\n",
       " 'Flight Deals',\n",
       " 'Career Event Promotion',\n",
       " 'Event Announcement',\n",
       " 'Promotional Offer',\n",
       " 'News and Articles Summary',\n",
       " 'Product Promotion',\n",
       " 'Promotional Offer',\n",
       " 'AI Tool Promotion',\n",
       " 'Job Posting',\n",
       " 'Social Event Invitation',\n",
       " 'Job Posting',\n",
       " 'Event Reminder',\n",
       " 'Online Course Discount Promotion',\n",
       " 'Newsletter',\n",
       " 'Event Invitation',\n",
       " 'Event Reminder',\n",
       " 'AI News and Updates',\n",
       " 'Self-Improvement Newsletter',\n",
       " 'Promotional Email',\n",
       " 'Remote Work Opportunities and Resources',\n",
       " 'Job Posting',\n",
       " 'Online Forum Digest',\n",
       " 'iCloud Storage Notification',\n",
       " 'Job Posting',\n",
       " 'Discussion and Opinion Sharing',\n",
       " 'Job Posting',\n",
       " 'Event Invitation',\n",
       " 'Conference Announcement',\n",
       " 'Event Promotion',\n",
       " 'Event Announcement',\n",
       " 'Climate and Sustainability Events',\n",
       " 'Gender and Society Issues',\n",
       " 'Account Security Alert',\n",
       " 'Promotional Offer',\n",
       " 'Timesheet Approval Notification',\n",
       " 'Timesheet Approval Notice',\n",
       " 'Event Invitation',\n",
       " 'Promotion',\n",
       " 'AI and Business Intelligence Analysis',\n",
       " 'Event Invitation',\n",
       " 'Loan Offer',\n",
       " 'Event Invitation',\n",
       " 'Job Posting',\n",
       " 'Promotional Offer',\n",
       " 'Event Invitation',\n",
       " 'Event Invitation',\n",
       " 'Event Invitation',\n",
       " 'Event Invitation',\n",
       " 'Event Invitation',\n",
       " 'Credit Card Offer',\n",
       " 'Networking Event Invitation',\n",
       " 'Startup Funding Event',\n",
       " 'Local Recommendations and Services',\n",
       " 'Unsubscribe Request',\n",
       " 'Meetup Event Notification',\n",
       " 'Discussion and Opinion Forum Content',\n",
       " 'Shopping Promotion',\n",
       " 'Credit Card Offer',\n",
       " 'Research Paper Mention',\n",
       " 'Academic Paper Recommendation',\n",
       " 'Promotional Offer',\n",
       " 'Advocacy/Fundraising Campaign',\n",
       " 'Promotion Email',\n",
       " 'Event Invitation',\n",
       " 'Blog and Article Update',\n",
       " 'Algorithmic Trading Newsletter',\n",
       " 'Promotional Offer',\n",
       " 'Event Invitation',\n",
       " 'Job Posting',\n",
       " 'Job Posting',\n",
       " 'Job Posting',\n",
       " 'Event Reminder',\n",
       " 'Anniversary Notification',\n",
       " 'Social Media Notification',\n",
       " 'Event Invitation',\n",
       " 'AI and Technology News Update',\n",
       " 'Book Review Notification',\n",
       " 'Reddit Digest',\n",
       " 'Job Posting',\n",
       " 'Event Invitation',\n",
       " 'Networking Event Invitation',\n",
       " 'Event Invitation',\n",
       " 'Conference Invitation',\n",
       " 'Job Posting',\n",
       " 'Event Announcement',\n",
       " \"Men's Lifestyle and Relationships\",\n",
       " 'Promotional Email',\n",
       " 'Job Posting',\n",
       " 'Event Invitation',\n",
       " 'Health Insurance Promotion',\n",
       " 'Event Announcement',\n",
       " 'Travel Promotion',\n",
       " 'Event Invitation',\n",
       " 'Social Event Invitation',\n",
       " 'Social Meetup Invitation',\n",
       " 'Promotional Offer',\n",
       " 'Emerging Technologies News',\n",
       " 'Event Invitation',\n",
       " 'Networking Event Invitation',\n",
       " 'Job Posting',\n",
       " 'Event Invitation',\n",
       " 'Political Advocacy',\n",
       " 'Promotion - VPN and Security Service',\n",
       " 'Event Invitation',\n",
       " 'Online Course Promotion',\n",
       " 'Shopping Promotion',\n",
       " 'Credit Card Promotion',\n",
       " 'Travel Deal',\n",
       " 'Discounted Food Offer',\n",
       " 'Tax Updates',\n",
       " 'Language Learning Promotion',\n",
       " 'Event Announcement',\n",
       " 'Genealogy Service Promotion',\n",
       " 'Community News and Events',\n",
       " 'Newsletter Digest',\n",
       " 'Promotional Offer',\n",
       " 'Network Activity Notification',\n",
       " 'Newsletter Compilation',\n",
       " 'Promotional Email',\n",
       " 'Job Posting',\n",
       " 'Timesheet Submission Notice',\n",
       " 'Job Posting',\n",
       " 'Job Posting',\n",
       " 'Social Event Invitation',\n",
       " 'Promotional Offer',\n",
       " 'Reddit Digest',\n",
       " 'Timesheet Submission Status',\n",
       " 'Newsletter',\n",
       " 'Job Posting',\n",
       " 'Job Opportunity Email',\n",
       " 'Job Posting',\n",
       " 'Job Posting',\n",
       " 'Event Invitation',\n",
       " 'Event Invitation',\n",
       " 'Event Invitation',\n",
       " 'Product Review Request',\n",
       " 'Job Posting',\n",
       " 'Job Posting',\n",
       " 'News Digest',\n",
       " 'Community News and Events',\n",
       " 'Job Posting',\n",
       " 'Networking Event',\n",
       " 'Job Application Update',\n",
       " 'Social Event Invitation',\n",
       " 'Survey Invitation',\n",
       " 'Newsletter',\n",
       " 'Newsletter',\n",
       " 'Event Invitation',\n",
       " 'Credit Card Offer',\n",
       " 'Product Branding and Design',\n",
       " 'Restaurant Recommendation',\n",
       " 'Event Invitation',\n",
       " 'Tech News and Updates',\n",
       " 'Social Event Invitation',\n",
       " 'Flight Deals',\n",
       " 'Event Invitation',\n",
       " 'Account Security Alert',\n",
       " 'Event Invitation',\n",
       " 'Promotional Offer',\n",
       " 'Event Invitation',\n",
       " 'Event Invitation',\n",
       " 'Event Reminder',\n",
       " 'Unsubscribe Request',\n",
       " 'Event Invitation',\n",
       " 'Podcast Promotion',\n",
       " 'Promotional Offer',\n",
       " 'Job Posting',\n",
       " 'Event Promotion',\n",
       " 'Promotion',\n",
       " 'Networking Event',\n",
       " 'Technology News',\n",
       " 'Artificial Intelligence Research Announcement',\n",
       " 'Food Media/Event Promotion',\n",
       " 'Technology News',\n",
       " 'Reading Recommendation',\n",
       " 'Newsletter',\n",
       " 'Advocacy Campaign Against Social Security Cuts',\n",
       " 'Mentions Notification',\n",
       " 'Job Hunting and Career Advice',\n",
       " 'Professional Development Resource',\n",
       " 'Language Learning Offer',\n",
       " 'Travel Offer',\n",
       " 'Research Study Invitation',\n",
       " 'Newsletter',\n",
       " 'Event Reminder',\n",
       " 'Political Activism Appeal',\n",
       " 'Retail Promotion',\n",
       " 'Meetup Event Invitation',\n",
       " 'Promotional Offer',\n",
       " 'Webinar Announcement',\n",
       " 'Promotion Offer',\n",
       " 'Event Invitation',\n",
       " 'Job Posting',\n",
       " 'Account Security Alert',\n",
       " 'Job Posting',\n",
       " 'Newsletter Content',\n",
       " 'Advertisement - Eyewear Promotion',\n",
       " 'AI and Technology Updates',\n",
       " 'Social Media Digest',\n",
       " 'Newsletter',\n",
       " 'Promotional Email',\n",
       " 'Event Invitation',\n",
       " 'Event Invitation',\n",
       " 'Event Announcement',\n",
       " 'Event Invitation',\n",
       " ...]"
      ]
     },
     "execution_count": 83,
     "metadata": {},
     "output_type": "execute_result"
    }
   ],
   "source": [
    "labels"
   ]
  },
  {
   "cell_type": "code",
   "execution_count": null,
   "metadata": {},
   "outputs": [],
   "source": [
    "# remove the empty emails \n",
    "mask = df.body != \"\"\n",
    "df = df[mask]"
   ]
  },
  {
   "cell_type": "code",
   "execution_count": 95,
   "metadata": {},
   "outputs": [
    {
     "data": {
      "text/html": [
       "<div>\n",
       "<style scoped>\n",
       "    .dataframe tbody tr th:only-of-type {\n",
       "        vertical-align: middle;\n",
       "    }\n",
       "\n",
       "    .dataframe tbody tr th {\n",
       "        vertical-align: top;\n",
       "    }\n",
       "\n",
       "    .dataframe thead th {\n",
       "        text-align: right;\n",
       "    }\n",
       "</style>\n",
       "<table border=\"1\" class=\"dataframe\">\n",
       "  <thead>\n",
       "    <tr style=\"text-align: right;\">\n",
       "      <th></th>\n",
       "      <th>id</th>\n",
       "      <th>sender</th>\n",
       "      <th>subject</th>\n",
       "      <th>timestamp</th>\n",
       "      <th>body</th>\n",
       "      <th>body_vector</th>\n",
       "      <th>date</th>\n",
       "      <th>category</th>\n",
       "    </tr>\n",
       "  </thead>\n",
       "  <tbody>\n",
       "    <tr>\n",
       "      <th>0</th>\n",
       "      <td>8</td>\n",
       "      <td>Meetup &lt;info@meetup.com&gt;</td>\n",
       "      <td>Amelia Mink posted in Data Science for Sustain...</td>\n",
       "      <td>2025-02-17 23:31:19-08:00</td>\n",
       "      <td>Amelia Mink posted in Data Science for Sustain...</td>\n",
       "      <td>[0.007864882, 0.021925885, 0.049149904, -0.010...</td>\n",
       "      <td>2025-02-17</td>\n",
       "      <td>Event Announcement</td>\n",
       "    </tr>\n",
       "    <tr>\n",
       "      <th>1</th>\n",
       "      <td>9</td>\n",
       "      <td>Gargi K Kand &lt;gargikand@user.luma-mail.com&gt;</td>\n",
       "      <td>You are invited to Gen Z Founders Meetup 💃🎉</td>\n",
       "      <td>2025-02-17 23:00:46-08:00</td>\n",
       "      <td>You’re invited toGen Z Founders Meetup 💃🎉Tuesd...</td>\n",
       "      <td>[-0.027701547, 0.0310088, -0.010775029, 0.0235...</td>\n",
       "      <td>2025-02-17</td>\n",
       "      <td>Event Invitation</td>\n",
       "    </tr>\n",
       "    <tr>\n",
       "      <th>2</th>\n",
       "      <td>10</td>\n",
       "      <td>LinkedIn Job Alerts &lt;jobalerts-noreply@linkedi...</td>\n",
       "      <td>“data scientist”: Jobot - Data Scientist and more</td>\n",
       "      <td>2025-02-17 22:57:28-08:00</td>\n",
       "      <td>Your job alert for data scientist in Berkeley6...</td>\n",
       "      <td>[-0.035555333, -0.022728117, 0.0257007, 0.0118...</td>\n",
       "      <td>2025-02-17</td>\n",
       "      <td>Job Posting</td>\n",
       "    </tr>\n",
       "    <tr>\n",
       "      <th>3</th>\n",
       "      <td>11</td>\n",
       "      <td>Gargi K Kand &lt;noreply@luma-mail.com&gt;</td>\n",
       "      <td>Vently's Wellness Block Party!</td>\n",
       "      <td>2025-02-17 21:54:53-08:00</td>\n",
       "      <td>[ Block Party (Vently x SF Social Club)Feb 23,...</td>\n",
       "      <td>[-0.02093746, -0.018726151, 0.0027641365, 0.03...</td>\n",
       "      <td>2025-02-17</td>\n",
       "      <td>Event Announcement</td>\n",
       "    </tr>\n",
       "    <tr>\n",
       "      <th>4</th>\n",
       "      <td>12</td>\n",
       "      <td>LinkedIn Job Alerts &lt;jobalerts-noreply@linkedi...</td>\n",
       "      <td>“data scientist”: Eczacıbaşı Bilişim - DATA SC...</td>\n",
       "      <td>2025-02-17 20:57:26-08:00</td>\n",
       "      <td>Your job alert for data scientist30+ new jobs ...</td>\n",
       "      <td>[-0.035098318, -0.017927919, 0.027132906, 0.00...</td>\n",
       "      <td>2025-02-17</td>\n",
       "      <td>Job Posting</td>\n",
       "    </tr>\n",
       "  </tbody>\n",
       "</table>\n",
       "</div>"
      ],
      "text/plain": [
       "   id                                             sender  \\\n",
       "0   8                           Meetup <info@meetup.com>   \n",
       "1   9        Gargi K Kand <gargikand@user.luma-mail.com>   \n",
       "2  10  LinkedIn Job Alerts <jobalerts-noreply@linkedi...   \n",
       "3  11               Gargi K Kand <noreply@luma-mail.com>   \n",
       "4  12  LinkedIn Job Alerts <jobalerts-noreply@linkedi...   \n",
       "\n",
       "                                             subject  \\\n",
       "0  Amelia Mink posted in Data Science for Sustain...   \n",
       "1        You are invited to Gen Z Founders Meetup 💃🎉   \n",
       "2  “data scientist”: Jobot - Data Scientist and more   \n",
       "3                     Vently's Wellness Block Party!   \n",
       "4  “data scientist”: Eczacıbaşı Bilişim - DATA SC...   \n",
       "\n",
       "                  timestamp  \\\n",
       "0 2025-02-17 23:31:19-08:00   \n",
       "1 2025-02-17 23:00:46-08:00   \n",
       "2 2025-02-17 22:57:28-08:00   \n",
       "3 2025-02-17 21:54:53-08:00   \n",
       "4 2025-02-17 20:57:26-08:00   \n",
       "\n",
       "                                                body  \\\n",
       "0  Amelia Mink posted in Data Science for Sustain...   \n",
       "1  You’re invited toGen Z Founders Meetup 💃🎉Tuesd...   \n",
       "2  Your job alert for data scientist in Berkeley6...   \n",
       "3  [ Block Party (Vently x SF Social Club)Feb 23,...   \n",
       "4  Your job alert for data scientist30+ new jobs ...   \n",
       "\n",
       "                                         body_vector        date  \\\n",
       "0  [0.007864882, 0.021925885, 0.049149904, -0.010...  2025-02-17   \n",
       "1  [-0.027701547, 0.0310088, -0.010775029, 0.0235...  2025-02-17   \n",
       "2  [-0.035555333, -0.022728117, 0.0257007, 0.0118...  2025-02-17   \n",
       "3  [-0.02093746, -0.018726151, 0.0027641365, 0.03...  2025-02-17   \n",
       "4  [-0.035098318, -0.017927919, 0.027132906, 0.00...  2025-02-17   \n",
       "\n",
       "             category  \n",
       "0  Event Announcement  \n",
       "1    Event Invitation  \n",
       "2         Job Posting  \n",
       "3  Event Announcement  \n",
       "4         Job Posting  "
      ]
     },
     "execution_count": 95,
     "metadata": {},
     "output_type": "execute_result"
    }
   ],
   "source": [
    "df.head()"
   ]
  },
  {
   "cell_type": "code",
   "execution_count": null,
   "metadata": {},
   "outputs": [
    {
     "data": {
      "text/plain": [
       "category\n",
       "Event Invitation                 138\n",
       "Job Posting                      128\n",
       "Promotional Offer                 50\n",
       "Event Reminder                    31\n",
       "Newsletter                        30\n",
       "                                ... \n",
       "AI and Technology Newsletter       1\n",
       "Personal Development Training      1\n",
       "Credit Monitoring Update           1\n",
       "Event/Community Update             1\n",
       "Event Update                       1\n",
       "Name: count, Length: 409, dtype: int64"
      ]
     },
     "execution_count": 99,
     "metadata": {},
     "output_type": "execute_result"
    }
   ],
   "source": [
    "df.category.value_counts()"
   ]
  },
  {
   "cell_type": "code",
   "execution_count": null,
   "metadata": {},
   "outputs": [
    {
     "data": {
      "text/plain": [
       "409"
      ]
     },
     "execution_count": 111,
     "metadata": {},
     "output_type": "execute_result"
    }
   ],
   "source": [
    "len(df.category.unique()) # number of unique email categories "
   ]
  },
  {
   "cell_type": "code",
   "execution_count": 109,
   "metadata": {},
   "outputs": [
    {
     "data": {
      "image/png": "[encoded data removed]",
      "text/plain": [
       "<Figure size 1400x300 with 1 Axes>"
      ]
     },
     "metadata": {},
     "output_type": "display_data"
    },
    {
     "data": {
      "image/png": "[encoded data removed]",
      "text/plain": [
       "<Figure size 1400x300 with 1 Axes>"
      ]
     },
     "metadata": {},
     "output_type": "display_data"
    }
   ],
   "source": [
    "n = 50\n",
    "title = \"Top {} Email Categories \".format(n)\n",
    "df.category.value_counts()[:n].plot(kind='bar', figsize=(14,3))\n",
    "plt.show();\n",
    "    \n",
    "\n",
    "title = \"Bottom {} Email Categories \".format(n)\n",
    "df.category.value_counts()[-n:].plot(kind='bar', figsize=(14,3))\n",
    "plt.show();"
   ]
  },
  {
   "cell_type": "markdown",
   "metadata": {},
   "source": [
    "#### Observations\n",
    "- This approach doesn't work, we can't have half as many category labels as we have emails \n",
    "- We need to find a way to pass into global context of emails while staying within token limits "
   ]
  },
  {
   "cell_type": "code",
   "execution_count": null,
   "metadata": {},
   "outputs": [],
   "source": []
  },
  {
   "cell_type": "code",
   "execution_count": null,
   "metadata": {},
   "outputs": [],
   "source": []
  },
  {
   "cell_type": "code",
   "execution_count": null,
   "metadata": {},
   "outputs": [],
   "source": []
  }
 ],
 "metadata": {
  "kernelspec": {
   "display_name": "venv_gmail_analytics",
   "language": "python",
   "name": "python3"
  },
  "language_info": {
   "codemirror_mode": {
    "name": "ipython",
    "version": 3
   },
   "file_extension": ".py",
   "mimetype": "text/x-python",
   "name": "python",
   "nbconvert_exporter": "python",
   "pygments_lexer": "ipython3",
   "version": "3.11.5"
  }
 },
 "nbformat": 4,
 "nbformat_minor": 2
}
