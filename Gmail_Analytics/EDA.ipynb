{
 "cells": [
  {
   "cell_type": "code",
   "execution_count": 1,
   "metadata": {},
   "outputs": [],
   "source": [
    "import os\n",
    "import base64\n",
    "import json\n",
    "import psycopg2\n",
    "from google.oauth2.credentials import Credentials\n",
    "from google_auth_oauthlib.flow import InstalledAppFlow\n",
    "from googleapiclient.discovery import build\n",
    "from datetime import datetime, timedelta"
   ]
  },
  {
   "cell_type": "code",
   "execution_count": 14,
   "metadata": {},
   "outputs": [],
   "source": [
    "# Define your time range\n",
    "START_DATE = \"2025-02-10\"  # Change to your desired start date (YYYY-MM-DD)\n",
    "END_DATE = \"2025-02-18\"    # Change to your desired end date (YYYY-MM-DD)\n",
    "\n",
    "# Gmail API scope\n",
    "SCOPES = ['https://www.googleapis.com/auth/gmail.readonly']\n",
    "\n",
    "# Connect to PostgreSQL (Change credentials accordingly)\n",
    "DB_CONFIG = {\n",
    "    \"dbname\": \"emails_db\",\n",
    "    \"user\": \"your_user\",\n",
    "    \"password\": \"your_password\",\n",
    "    \"host\": \"localhost\",\n",
    "    \"port\": \"5432\"\n",
    "}\n",
    "\n",
    "# Connect to Gmail API\n",
    "def authenticate_gmail():\n",
    "    creds = None\n",
    "    if os.path.exists(\"token.json\"):\n",
    "        creds = Credentials.from_authorized_user_file(\"token.json\", SCOPES)\n",
    "    if not creds or not creds.valid:\n",
    "        flow = InstalledAppFlow.from_client_secrets_file(\"google_creds.json\", SCOPES)\n",
    "        creds = flow.run_local_server(port=0)\n",
    "        with open(\"token.json\", \"w\") as token:\n",
    "            token.write(creds.to_json())\n",
    "    return build(\"gmail\", \"v1\", credentials=creds)\n",
    "\n",
    "def date_to_unix(date_str):\n",
    "    dt = datetime.strptime(date_str, \"%Y-%m-%d\")\n",
    "    return int(dt.timestamp())  # Convert to Unix timestamp (seconds)\n",
    "\n",
    "# Get emails within the time range\n",
    "def get_emails(service):\n",
    "    query = f\"after:{date_to_unix(START_DATE)} before:{date_to_unix(END_DATE)}\"\n",
    "    results = service.users().messages().list(userId=\"me\", q=query, maxResults=10).execute()\n",
    "    messages = results.get(\"messages\", [])\n",
    "    \n",
    "    emails = []\n",
    "    for msg in messages:\n",
    "        msg_data = service.users().messages().get(userId=\"me\", id=msg[\"id\"]).execute()\n",
    "        payload = msg_data.get(\"payload\", {})\n",
    "        \n",
    "        # Extract headers\n",
    "        headers = {header[\"name\"]: header[\"value\"] for header in payload.get(\"headers\", [])}\n",
    "        sender = headers.get(\"From\", \"Unknown Sender\")\n",
    "        subject = headers.get(\"Subject\", \"No Subject\")\n",
    "        date = headers.get(\"Date\", \"Unknown Date\")\n",
    "        \n",
    "        # Extract email content\n",
    "        body = \"\"\n",
    "        if \"parts\" in payload:\n",
    "            for part in payload[\"parts\"]:\n",
    "                if part[\"mimeType\"] == \"text/plain\":\n",
    "                    body = base64.urlsafe_b64decode(part[\"body\"][\"data\"]).decode(\"utf-8\")\n",
    "        elif \"body\" in payload and \"data\" in payload[\"body\"]:\n",
    "            body = base64.urlsafe_b64decode(payload[\"body\"][\"data\"]).decode(\"utf-8\")\n",
    "\n",
    "        emails.append((sender, subject, date, body))\n",
    "    return emails\n",
    "\n",
    "# Store emails in PostgreSQL\n",
    "def store_emails_in_db(emails):\n",
    "    conn = psycopg2.connect(**DB_CONFIG)\n",
    "    cursor = conn.cursor()\n",
    "    cursor.execute(\"\"\"\n",
    "        CREATE TABLE IF NOT EXISTS emails (\n",
    "            id SERIAL PRIMARY KEY,\n",
    "            sender TEXT,\n",
    "            subject TEXT,\n",
    "            timestamp TEXT,\n",
    "            body TEXT\n",
    "        );\n",
    "    \"\"\")\n",
    "    conn.commit()\n",
    "\n",
    "    for email in emails:\n",
    "        cursor.execute(\"INSERT INTO emails (sender, subject, timestamp, body) VALUES (%s, %s, %s, %s)\", email)\n",
    "    \n",
    "    conn.commit()\n",
    "    cursor.close()\n",
    "    conn.close()\n",
    "\n",
    "# Run the script\n",
    "# if __name__ == \"__main__\":\n",
    "service = authenticate_gmail()\n",
    "emails = get_emails(service)\n",
    "#store_emails_in_db(emails)\n",
    "#print(f\"Stored {len(emails)} emails in the database.\")\n"
   ]
  },
  {
   "cell_type": "code",
   "execution_count": 18,
   "metadata": {},
   "outputs": [
    {
     "data": {
      "text/plain": [
       "('LinkedIn Job Alerts <jobalerts-noreply@linkedin.com>',\n",
       " '“data scientist”: Eczacıbaşı Bilişim - DATA SCIENTIST and more',\n",
       " 'Tue, 18 Feb 2025 04:57:26 +0000 (UTC)',\n",
       " 'Your job alert for data scientist\\r\\n30+ new jobs match your preferences.\\r\\n          \\r\\nDATA SCIENTIST\\r\\nEczacıbaşı Bilişim\\r\\nTürkiye\\r\\nView job: https://www.linkedin.com/comm/jobs/view/4152720719/?trackingId=Xz%2FAp4wX%2BzG6a4eksFbUdw%3D%3D&refId=ByteString%28length%3D16%2Cbytes%3De16ba638...9079663b%29&lipi=urn%3Ali%3Apage%3Aemail_email_job_alert_digest_01%3BXzBVG9w3R8Wg5eP%2FBYaagg%3D%3D&midToken=AQEsx4nyGTXpHQ&midSig=0EKQFWn239tXE1&trk=eml-email_job_alert_digest_01-job_card-0-view_job&trkEmail=eml-email_job_alert_digest_01-job_card-0-view_job-null-5bx38z~m7a0j5c6~6p-null-null&eid=5bx38z-m7a0j5c6-6p&otpToken=MTEwNzFjZTMxNzJlY2NjNWIxMjQwNGVkNDUxN2VmYjE4YmM4ZDQ0NDkwYWQ4ODYxNzBjNTA5NmM0NjUzNWZmNmY2ZDJkZmEwNmRmOWYwZmI1MGIzY2NiNDJkM2RmOWNkNjJlNWJmZGYyMzI4YTkyMzNkYjQzOSwxLDE%3D\\r\\n\\r\\n---------------------------------------------------------\\r\\n  \\r\\n          \\r\\nData Scientist, Experimentation\\r\\nStitch Fix\\r\\nUnited States\\r\\n1 connection\\r\\nView job: https://www.linkedin.com/comm/jobs/view/4113795832/?trackingId=wqR8HF1Ot1bjQEPpVF4Eng%3D%3D&refId=ByteString%28length%3D16%2Cbytes%3De16ba638...9079663b%29&lipi=urn%3Ali%3Apage%3Aemail_email_job_alert_digest_01%3BXzBVG9w3R8Wg5eP%2FBYaagg%3D%3D&midToken=AQEsx4nyGTXpHQ&midSig=0EKQFWn239tXE1&trk=eml-email_job_alert_digest_01-job_card-0-view_job&trkEmail=eml-email_job_alert_digest_01-job_card-0-view_job-null-5bx38z~m7a0j5c6~6p-null-null&eid=5bx38z-m7a0j5c6-6p&otpToken=MTEwNzFjZTMxNzJlY2NjNWIxMjQwNGVkNDUxN2VmYjE4YmM4ZDQ0NDkwYWQ4ODYxNzBjNTA5NmM0NjUzNWZmNmY2ZDJkZmEwNmRmOWYwZmI1MGIzY2NiNDJkM2RmOWNkNjJlNWJmZGYyMzI4YTkyMzNkYjQzOSwxLDE%3D\\r\\n\\r\\n---------------------------------------------------------\\r\\n  \\r\\n          \\r\\nData Scientist\\r\\nJTA: The Data Scientists\\r\\nPorto, Portugal\\r\\nFast growing\\r\\nApply with resume & profile\\r\\nView job: https://www.linkedin.com/comm/jobs/view/4153208284/?trackingId=QQcVSxzbD54SrY%2F20mFsOA%3D%3D&refId=ByteString%28length%3D16%2Cbytes%3De16ba638...9079663b%29&lipi=urn%3Ali%3Apage%3Aemail_email_job_alert_digest_01%3BXzBVG9w3R8Wg5eP%2FBYaagg%3D%3D&midToken=AQEsx4nyGTXpHQ&midSig=0EKQFWn239tXE1&trk=eml-email_job_alert_digest_01-job_card-0-view_job&trkEmail=eml-email_job_alert_digest_01-job_card-0-view_job-null-5bx38z~m7a0j5c6~6p-null-null&eid=5bx38z-m7a0j5c6-6p&otpToken=MTEwNzFjZTMxNzJlY2NjNWIxMjQwNGVkNDUxN2VmYjE4YmM4ZDQ0NDkwYWQ4ODYxNzBjNTA5NmM0NjUzNWZmNmY2ZDJkZmEwNmRmOWYwZmI1MGIzY2NiNDJkM2RmOWNkNjJlNWJmZGYyMzI4YTkyMzNkYjQzOSwxLDE%3D\\r\\n\\r\\n---------------------------------------------------------\\r\\n  \\r\\n          \\r\\nData Scientist\\r\\nHomeBuddy\\r\\nPortugal\\r\\nFast growing\\r\\nApply with resume & profile\\r\\nView job: https://www.linkedin.com/comm/jobs/view/4157336245/?trackingId=Wy5ceDZCS54%2FbusEgJskqg%3D%3D&refId=ByteString%28length%3D16%2Cbytes%3De16ba638...9079663b%29&lipi=urn%3Ali%3Apage%3Aemail_email_job_alert_digest_01%3BXzBVG9w3R8Wg5eP%2FBYaagg%3D%3D&midToken=AQEsx4nyGTXpHQ&midSig=0EKQFWn239tXE1&trk=eml-email_job_alert_digest_01-job_card-0-view_job&trkEmail=eml-email_job_alert_digest_01-job_card-0-view_job-null-5bx38z~m7a0j5c6~6p-null-null&eid=5bx38z-m7a0j5c6-6p&otpToken=MTEwNzFjZTMxNzJlY2NjNWIxMjQwNGVkNDUxN2VmYjE4YmM4ZDQ0NDkwYWQ4ODYxNzBjNTA5NmM0NjUzNWZmNmY2ZDJkZmEwNmRmOWYwZmI1MGIzY2NiNDJkM2RmOWNkNjJlNWJmZGYyMzI4YTkyMzNkYjQzOSwxLDE%3D\\r\\n\\r\\n---------------------------------------------------------\\r\\n  \\r\\n          \\r\\nData Scientist\\r\\nBuild+ (formerly Wahl+Case)\\r\\nJapan\\r\\nThis company is actively hiring\\r\\nApply with resume & profile\\r\\nView job: https://www.linkedin.com/comm/jobs/view/4156854031/?trackingId=pwKEDSgQ9o3aa7nwWeMl0w%3D%3D&refId=ByteString%28length%3D16%2Cbytes%3De16ba638...9079663b%29&lipi=urn%3Ali%3Apage%3Aemail_email_job_alert_digest_01%3BXzBVG9w3R8Wg5eP%2FBYaagg%3D%3D&midToken=AQEsx4nyGTXpHQ&midSig=0EKQFWn239tXE1&trk=eml-email_job_alert_digest_01-job_card-0-view_job&trkEmail=eml-email_job_alert_digest_01-job_card-0-view_job-null-5bx38z~m7a0j5c6~6p-null-null&eid=5bx38z-m7a0j5c6-6p&otpToken=MTEwNzFjZTMxNzJlY2NjNWIxMjQwNGVkNDUxN2VmYjE4YmM4ZDQ0NDkwYWQ4ODYxNzBjNTA5NmM0NjUzNWZmNmY2ZDJkZmEwNmRmOWYwZmI1MGIzY2NiNDJkM2RmOWNkNjJlNWJmZGYyMzI4YTkyMzNkYjQzOSwxLDE%3D\\r\\n\\r\\n---------------------------------------------------------\\r\\n  \\r\\n          \\r\\nData Scientist, AI & Sustainability Ambassador\\r\\nINSUS - Industrial Sustainable Solutions\\r\\nEngland, United Kingdom\\r\\nApply with resume & profile\\r\\nView job: https://www.linkedin.com/comm/jobs/view/4152727062/?trackingId=EwFu%2BNXPAsTF2rOkvO2jCA%3D%3D&refId=ByteString%28length%3D16%2Cbytes%3De16ba638...9079663b%29&lipi=urn%3Ali%3Apage%3Aemail_email_job_alert_digest_01%3BXzBVG9w3R8Wg5eP%2FBYaagg%3D%3D&midToken=AQEsx4nyGTXpHQ&midSig=0EKQFWn239tXE1&trk=eml-email_job_alert_digest_01-job_card-0-view_job&trkEmail=eml-email_job_alert_digest_01-job_card-0-view_job-null-5bx38z~m7a0j5c6~6p-null-null&eid=5bx38z-m7a0j5c6-6p&otpToken=MTEwNzFjZTMxNzJlY2NjNWIxMjQwNGVkNDUxN2VmYjE4YmM4ZDQ0NDkwYWQ4ODYxNzBjNTA5NmM0NjUzNWZmNmY2ZDJkZmEwNmRmOWYwZmI1MGIzY2NiNDJkM2RmOWNkNjJlNWJmZGYyMzI4YTkyMzNkYjQzOSwxLDE%3D\\r\\n\\r\\n---------------------------------------------------------\\r\\n  \\r\\nSee all jobs on LinkedIn:  https://www.linkedin.com/comm/jobs/search?geoId=&f_TPR=a1739761971-&savedSearchId=1728533845&origin=JOB_ALERT_EMAIL&lipi=urn%3Ali%3Apage%3Aemail_email_job_alert_digest_01%3BXzBVG9w3R8Wg5eP%2FBYaagg%3D%3D&midToken=AQEsx4nyGTXpHQ&midSig=0EKQFWn239tXE1&trk=eml-email_job_alert_digest_01-job~alert-0-see~all~jobs~text&trkEmail=eml-email_job_alert_digest_01-job~alert-0-see~all~jobs~text-null-5bx38z~m7a0j5c6~6p-null-null&eid=5bx38z-m7a0j5c6-6p&otpToken=MTEwNzFjZTMxNzJlY2NjNWIxMjQwNGVkNDUxN2VmYjE4YmM4ZDQ0NDkwYWQ4ODYxNzBjNTA5NmM0NjUzNWZmNmY2ZDJkZmEwNmRmOWYwZmI1MGIzY2NiNDJkM2RmOWNkNjJlNWJmZGYyMzI4YTkyMzNkYjQzOSwxLDE%3D\\r\\n\\r\\n\\r\\n\\r\\n\\r\\n----------------------------------------\\r\\n\\r\\nThis email was intended for Alexander Barriga, M.S. (Data Scientist | Python, SQL, AWS, ML, NLP, AI | Ex-NASA)\\r\\nLearn why we included this: https://www.linkedin.com/help/linkedin/answer/4788?lang=en&lipi=urn%3Ali%3Apage%3Aemail_email_job_alert_digest_01%3BXzBVG9w3R8Wg5eP%2FBYaagg%3D%3D&midToken=AQEsx4nyGTXpHQ&midSig=0EKQFWn239tXE1&trk=eml-email_job_alert_digest_01-SecurityHelp-0-textfooterglimmer&trkEmail=eml-email_job_alert_digest_01-SecurityHelp-0-textfooterglimmer-null-5bx38z~m7a0j5c6~6p-null-null&eid=5bx38z-m7a0j5c6-6p&otpToken=MTEwNzFjZTMxNzJlY2NjNWIxMjQwNGVkNDUxN2VmYjE4YmM4ZDQ0NDkwYWQ4ODYxNzBjNTA5NmM0NjUzNWZmNmY2ZDJkZmEwNmRmOWYwZmI1MGIzY2NiNDJkM2RmOWNkNjJlNWJmZGYyMzI4YTkyMzNkYjQzOSwxLDE%3D\\r\\nYou are receiving Job Alert emails.\\r\\nManage your job alerts:  https://www.linkedin.com/comm/jobs/alerts?lipi=urn%3Ali%3Apage%3Aemail_email_job_alert_digest_01%3BXzBVG9w3R8Wg5eP%2FBYaagg%3D%3D&midToken=AQEsx4nyGTXpHQ&midSig=0EKQFWn239tXE1&trk=eml-email_job_alert_digest_01-null-0-null&trkEmail=eml-email_job_alert_digest_01-null-0-null-null-5bx38z~m7a0j5c6~6p-null-null&eid=5bx38z-m7a0j5c6-6p&otpToken=MTEwNzFjZTMxNzJlY2NjNWIxMjQwNGVkNDUxN2VmYjE4YmM4ZDQ0NDkwYWQ4ODYxNzBjNTA5NmM0NjUzNWZmNmY2ZDJkZmEwNmRmOWYwZmI1MGIzY2NiNDJkM2RmOWNkNjJlNWJmZGYyMzI4YTkyMzNkYjQzOSwxLDE%3D \\r\\nUnsubscribe: https://www.linkedin.com/job-alert-email-unsubscribe?savedSearchId=1728533845&lipi=urn%3Ali%3Apage%3Aemail_email_job_alert_digest_01%3BXzBVG9w3R8Wg5eP%2FBYaagg%3D%3D&midToken=AQEsx4nyGTXpHQ&midSig=0EKQFWn239tXE1&ek=email_job_alert_digest_01&e=5bx38z-m7a0j5c6-6p&eid=5bx38z-m7a0j5c6-6p&m=unsubscribe&ts=footerGlimmer&li=0&t=plh  \\xa0\\xa0·\\xa0\\xa0Help: https://www.linkedin.com/help/linkedin/answer/67?lang=en&lipi=urn%3Ali%3Apage%3Aemail_email_job_alert_digest_01%3BXzBVG9w3R8Wg5eP%2FBYaagg%3D%3D&midToken=AQEsx4nyGTXpHQ&midSig=0EKQFWn239tXE1&trk=eml-email_job_alert_digest_01-help-0-textfooterglimmer&trkEmail=eml-email_job_alert_digest_01-help-0-textfooterglimmer-null-5bx38z~m7a0j5c6~6p-null-null&eid=5bx38z-m7a0j5c6-6p&otpToken=MTEwNzFjZTMxNzJlY2NjNWIxMjQwNGVkNDUxN2VmYjE4YmM4ZDQ0NDkwYWQ4ODYxNzBjNTA5NmM0NjUzNWZmNmY2ZDJkZmEwNmRmOWYwZmI1MGIzY2NiNDJkM2RmOWNkNjJlNWJmZGYyMzI4YTkyMzNkYjQzOSwxLDE%3D\\r\\n\\r\\n© 2025 LinkedIn Corporation, 1zwnj000 West Maude Avenue, Sunnyvale, CA 94085.\\r\\nLinkedIn and the LinkedIn logo are registered trademarks of LinkedIn.')"
      ]
     },
     "execution_count": 18,
     "metadata": {},
     "output_type": "execute_result"
    }
   ],
   "source": [
    "# great it works now!\n",
    "# now store in a SQL/vector DB\n",
    "emails[5]"
   ]
  },
  {
   "cell_type": "code",
   "execution_count": null,
   "metadata": {},
   "outputs": [],
   "source": []
  }
 ],
 "metadata": {
  "kernelspec": {
   "display_name": "venv_gmail_analytics",
   "language": "python",
   "name": "python3"
  },
  "language_info": {
   "codemirror_mode": {
    "name": "ipython",
    "version": 3
   },
   "file_extension": ".py",
   "mimetype": "text/x-python",
   "name": "python",
   "nbconvert_exporter": "python",
   "pygments_lexer": "ipython3",
   "version": "3.11.5"
  }
 },
 "nbformat": 4,
 "nbformat_minor": 2
}
