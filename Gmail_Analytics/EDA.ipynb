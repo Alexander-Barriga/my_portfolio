{
 "cells": [
  {
   "cell_type": "code",
   "execution_count": 1,
   "metadata": {},
   "outputs": [],
   "source": [
    "import os\n",
    "import openai\n",
    "import numpy as np\n",
    "import base64\n",
    "import psycopg2\n",
    "from google.oauth2.credentials import Credentials\n",
    "from google_auth_oauthlib.flow import InstalledAppFlow\n",
    "from googleapiclient.discovery import build\n",
    "from datetime import datetime, timedelta"
   ]
  },
  {
   "cell_type": "code",
   "execution_count": 2,
   "metadata": {},
   "outputs": [
    {
     "data": {
      "text/plain": [
       "True"
      ]
     },
     "execution_count": 2,
     "metadata": {},
     "output_type": "execute_result"
    }
   ],
   "source": [
    "from dotenv import load_dotenv # used to load env variables\n",
    "load_dotenv()"
   ]
  },
  {
   "cell_type": "code",
   "execution_count": 3,
   "metadata": {},
   "outputs": [],
   "source": [
    "# Define your time range\n",
    "START_DATE = \"2025-02-10\"  # Change to your desired start date (YYYY-MM-DD)\n",
    "END_DATE = \"2025-02-18\"    # Change to your desired end date (YYYY-MM-DD)\n",
    "\n",
    "# Gmail API scope\n",
    "SCOPES = ['https://www.googleapis.com/auth/gmail.readonly']\n",
    "\n",
    "# Connect to Gmail API\n",
    "def authenticate_gmail():\n",
    "    creds = None\n",
    "    if os.path.exists(\"token.json\"):\n",
    "        creds = Credentials.from_authorized_user_file(\"token.json\", SCOPES)\n",
    "    if not creds or not creds.valid:\n",
    "        flow = InstalledAppFlow.from_client_secrets_file(\"google_creds.json\", SCOPES)\n",
    "        creds = flow.run_local_server(port=0)\n",
    "        with open(\"token.json\", \"w\") as token:\n",
    "            token.write(creds.to_json())\n",
    "    return build(\"gmail\", \"v1\", credentials=creds)\n",
    "\n",
    "def date_to_unix(date_str):\n",
    "    dt = datetime.strptime(date_str, \"%Y-%m-%d\")\n",
    "    return int(dt.timestamp())  # Convert to Unix timestamp (seconds)\n",
    "\n",
    "# Get emails within the time range\n",
    "def get_emails(service):\n",
    "    query = f\"after:{date_to_unix(START_DATE)} before:{date_to_unix(END_DATE)}\"\n",
    "    results = service.users().messages().list(userId=\"me\", q=query, maxResults=10).execute()\n",
    "    messages = results.get(\"messages\", [])\n",
    "        \n",
    "    emails = []\n",
    "    for msg in messages:\n",
    "        msg_data = service.users().messages().get(userId=\"me\", id=msg[\"id\"]).execute()\n",
    "        payload = msg_data.get(\"payload\", {})\n",
    "        \n",
    "        # Extract headers\n",
    "        headers = {header[\"name\"]: header[\"value\"] for header in payload.get(\"headers\", [])}\n",
    "        sender = headers.get(\"From\", \"Unknown Sender\")\n",
    "        subject = headers.get(\"Subject\", \"No Subject\")\n",
    "        date = headers.get(\"Date\", \"Unknown Date\")\n",
    "        \n",
    "        # Extract email content\n",
    "        body = \"\"\n",
    "        if \"parts\" in payload:\n",
    "            for part in payload[\"parts\"]:\n",
    "                if part[\"mimeType\"] == \"text/plain\":\n",
    "                    body = base64.urlsafe_b64decode(part[\"body\"][\"data\"]).decode(\"utf-8\")\n",
    "        elif \"body\" in payload and \"data\" in payload[\"body\"]:\n",
    "            body = base64.urlsafe_b64decode(payload[\"body\"][\"data\"]).decode(\"utf-8\")\n",
    "    \n",
    "        emails.append((sender, subject, date, body))\n",
    "    return emails\n",
    "\n",
    "service = authenticate_gmail()\n",
    "emails = get_emails(service)"
   ]
  },
  {
   "cell_type": "code",
   "execution_count": 4,
   "metadata": {},
   "outputs": [
    {
     "data": {
      "text/plain": [
       "10"
      ]
     },
     "execution_count": 4,
     "metadata": {},
     "output_type": "execute_result"
    }
   ],
   "source": [
    "len(emails)"
   ]
  },
  {
   "cell_type": "code",
   "execution_count": null,
   "metadata": {},
   "outputs": [],
   "source": [
    "# 1) brew install postgresql\n",
    "# 2) brew services start postgresql\n",
    "\n",
    "# 3) now that postgres is running in the terminal create table \n",
    "# CREATE DATABASE emails_db;\n",
    "# CREATE USER your_user WITH PASSWORD 'your_password';\n",
    "# GRANT ALL PRIVILEGES ON DATABASE emails_db TO your_user;\n"
   ]
  },
  {
   "cell_type": "code",
   "execution_count": 28,
   "metadata": {},
   "outputs": [],
   "source": [
    "from openai import OpenAI\n",
    "client = OpenAI()\n",
    "\n",
    "# DB Configuration (Assuming you already have this)\n",
    "DB_CONFIG = {\n",
    "    'dbname': 'emails_db',\n",
    "    'user': 'alexanderbarriga03',\n",
    "    'password': 'water03',\n",
    "    'host': 'localhost',\n",
    "    'port': '5432'\n",
    "}\n",
    "\n",
    "# Function to vectorize text using OpenAI API\n",
    "def vectorize_text(text):\n",
    "    response = client.embeddings.create(\n",
    "        model=\"text-embedding-3-small\",  \n",
    "        input=text\n",
    "    )\n",
    "    return response.data[0].embedding\n",
    "\n",
    "def store_emails_in_db(emails):\n",
    "    conn = psycopg2.connect(**DB_CONFIG)\n",
    "    cursor = conn.cursor()\n",
    "    \n",
    "    # Modify table to store vector as BYTEA (binary data)\n",
    "    cursor.execute(\"\"\"\n",
    "        CREATE TABLE IF NOT EXISTS emails (\n",
    "            id SERIAL PRIMARY KEY,\n",
    "            sender TEXT,\n",
    "            subject TEXT,\n",
    "            timestamp TEXT,\n",
    "            body TEXT,\n",
    "            body_vector BYTEA  -- To store the vector\n",
    "        );\n",
    "    \"\"\")\n",
    "    conn.commit()\n",
    "\n",
    "    for email in emails:\n",
    "        # Vectorize the email body using OpenAI's model\n",
    "        body_vector = vectorize_text(email[-1])  # Vectorize the body of the email\n",
    "        body_vector_bytes = np.array(body_vector, dtype=np.float32).tobytes()  # Convert to bytes\n",
    "        \n",
    "        # Insert the email data into the database, including the vector\n",
    "        cursor.execute(\"\"\"\n",
    "            INSERT INTO emails (sender, subject, timestamp, body, body_vector)\n",
    "            VALUES (%s, %s, %s, %s, %s)\n",
    "        \"\"\", (email['sender'], email['subject'], email['timestamp'], email['body'], body_vector_bytes))\n",
    "        \n",
    "    conn.commit()\n",
    "    cursor.close()\n",
    "    conn.close()       "
   ]
  },
  {
   "cell_type": "code",
   "execution_count": null,
   "metadata": {},
   "outputs": [
    {
     "ename": "TypeError",
     "evalue": "tuple indices must be integers or slices, not str",
     "output_type": "error",
     "traceback": [
      "\u001b[0;31m---------------------------------------------------------------------------\u001b[0m",
      "\u001b[0;31mTypeError\u001b[0m                                 Traceback (most recent call last)",
      "Cell \u001b[0;32mIn[26], line 1\u001b[0m\n\u001b[0;32m----> 1\u001b[0m emails_vectors \u001b[38;5;241m=\u001b[39m \u001b[43mstore_emails_in_db\u001b[49m\u001b[43m(\u001b[49m\u001b[43memails\u001b[49m\u001b[43m)\u001b[49m\n",
      "Cell \u001b[0;32mIn[25], line 47\u001b[0m, in \u001b[0;36mstore_emails_in_db\u001b[0;34m(emails)\u001b[0m\n\u001b[1;32m     41\u001b[0m body_vector_bytes \u001b[38;5;241m=\u001b[39m np\u001b[38;5;241m.\u001b[39marray(body_vector, dtype\u001b[38;5;241m=\u001b[39mnp\u001b[38;5;241m.\u001b[39mfloat32)\u001b[38;5;241m.\u001b[39mtobytes()  \u001b[38;5;66;03m# Convert to bytes\u001b[39;00m\n\u001b[1;32m     43\u001b[0m \u001b[38;5;66;03m# Insert the email data into the database, including the vector\u001b[39;00m\n\u001b[1;32m     44\u001b[0m cursor\u001b[38;5;241m.\u001b[39mexecute(\u001b[38;5;124m\"\"\"\u001b[39m\n\u001b[1;32m     45\u001b[0m \u001b[38;5;124m    INSERT INTO emails (sender, subject, timestamp, body, body_vector)\u001b[39m\n\u001b[1;32m     46\u001b[0m \u001b[38;5;124m    VALUES (\u001b[39m\u001b[38;5;132;01m%s\u001b[39;00m\u001b[38;5;124m, \u001b[39m\u001b[38;5;132;01m%s\u001b[39;00m\u001b[38;5;124m, \u001b[39m\u001b[38;5;132;01m%s\u001b[39;00m\u001b[38;5;124m, \u001b[39m\u001b[38;5;132;01m%s\u001b[39;00m\u001b[38;5;124m, \u001b[39m\u001b[38;5;132;01m%s\u001b[39;00m\u001b[38;5;124m)\u001b[39m\n\u001b[0;32m---> 47\u001b[0m \u001b[38;5;124m\u001b[39m\u001b[38;5;124m\"\"\"\u001b[39m, (\u001b[43memail\u001b[49m\u001b[43m[\u001b[49m\u001b[38;5;124;43m'\u001b[39;49m\u001b[38;5;124;43msender\u001b[39;49m\u001b[38;5;124;43m'\u001b[39;49m\u001b[43m]\u001b[49m, email[\u001b[38;5;124m'\u001b[39m\u001b[38;5;124msubject\u001b[39m\u001b[38;5;124m'\u001b[39m], email[\u001b[38;5;124m'\u001b[39m\u001b[38;5;124mtimestamp\u001b[39m\u001b[38;5;124m'\u001b[39m], email[\u001b[38;5;124m'\u001b[39m\u001b[38;5;124mbody\u001b[39m\u001b[38;5;124m'\u001b[39m], body_vector_bytes))\n",
      "\u001b[0;31mTypeError\u001b[0m: tuple indices must be integers or slices, not str"
     ]
    }
   ],
   "source": [
    "store_emails_in_db(emails)"
   ]
  },
  {
   "cell_type": "code",
   "execution_count": 10,
   "metadata": {},
   "outputs": [
    {
     "data": {
      "text/plain": [
       "('LinkedIn Job Alerts <jobalerts-noreply@linkedin.com>',\n",
       " '“data scientist”: Eczacıbaşı Bilişim - DATA SCIENTIST and more',\n",
       " 'Tue, 18 Feb 2025 04:57:26 +0000 (UTC)',\n",
       " 'Your job alert for data scientist\\r\\n30+ new jobs match your preferences.\\r\\n          \\r\\nDATA SCIENTIST\\r\\nEczacıbaşı Bilişim\\r\\nTürkiye\\r\\nView job: https://www.linkedin.com/comm/jobs/view/4152720719/?trackingId=Xz%2FAp4wX%2BzG6a4eksFbUdw%3D%3D&refId=ByteString%28length%3D16%2Cbytes%3De16ba638...9079663b%29&lipi=urn%3Ali%3Apage%3Aemail_email_job_alert_digest_01%3BXzBVG9w3R8Wg5eP%2FBYaagg%3D%3D&midToken=AQEsx4nyGTXpHQ&midSig=0EKQFWn239tXE1&trk=eml-email_job_alert_digest_01-job_card-0-view_job&trkEmail=eml-email_job_alert_digest_01-job_card-0-view_job-null-5bx38z~m7a0j5c6~6p-null-null&eid=5bx38z-m7a0j5c6-6p&otpToken=MTEwNzFjZTMxNzJlY2NjNWIxMjQwNGVkNDUxN2VmYjE4YmM4ZDQ0NDkwYWQ4ODYxNzBjNTA5NmM0NjUzNWZmNmY2ZDJkZmEwNmRmOWYwZmI1MGIzY2NiNDJkM2RmOWNkNjJlNWJmZGYyMzI4YTkyMzNkYjQzOSwxLDE%3D\\r\\n\\r\\n---------------------------------------------------------\\r\\n  \\r\\n          \\r\\nData Scientist, Experimentation\\r\\nStitch Fix\\r\\nUnited States\\r\\n1 connection\\r\\nView job: https://www.linkedin.com/comm/jobs/view/4113795832/?trackingId=wqR8HF1Ot1bjQEPpVF4Eng%3D%3D&refId=ByteString%28length%3D16%2Cbytes%3De16ba638...9079663b%29&lipi=urn%3Ali%3Apage%3Aemail_email_job_alert_digest_01%3BXzBVG9w3R8Wg5eP%2FBYaagg%3D%3D&midToken=AQEsx4nyGTXpHQ&midSig=0EKQFWn239tXE1&trk=eml-email_job_alert_digest_01-job_card-0-view_job&trkEmail=eml-email_job_alert_digest_01-job_card-0-view_job-null-5bx38z~m7a0j5c6~6p-null-null&eid=5bx38z-m7a0j5c6-6p&otpToken=MTEwNzFjZTMxNzJlY2NjNWIxMjQwNGVkNDUxN2VmYjE4YmM4ZDQ0NDkwYWQ4ODYxNzBjNTA5NmM0NjUzNWZmNmY2ZDJkZmEwNmRmOWYwZmI1MGIzY2NiNDJkM2RmOWNkNjJlNWJmZGYyMzI4YTkyMzNkYjQzOSwxLDE%3D\\r\\n\\r\\n---------------------------------------------------------\\r\\n  \\r\\n          \\r\\nData Scientist\\r\\nJTA: The Data Scientists\\r\\nPorto, Portugal\\r\\nFast growing\\r\\nApply with resume & profile\\r\\nView job: https://www.linkedin.com/comm/jobs/view/4153208284/?trackingId=QQcVSxzbD54SrY%2F20mFsOA%3D%3D&refId=ByteString%28length%3D16%2Cbytes%3De16ba638...9079663b%29&lipi=urn%3Ali%3Apage%3Aemail_email_job_alert_digest_01%3BXzBVG9w3R8Wg5eP%2FBYaagg%3D%3D&midToken=AQEsx4nyGTXpHQ&midSig=0EKQFWn239tXE1&trk=eml-email_job_alert_digest_01-job_card-0-view_job&trkEmail=eml-email_job_alert_digest_01-job_card-0-view_job-null-5bx38z~m7a0j5c6~6p-null-null&eid=5bx38z-m7a0j5c6-6p&otpToken=MTEwNzFjZTMxNzJlY2NjNWIxMjQwNGVkNDUxN2VmYjE4YmM4ZDQ0NDkwYWQ4ODYxNzBjNTA5NmM0NjUzNWZmNmY2ZDJkZmEwNmRmOWYwZmI1MGIzY2NiNDJkM2RmOWNkNjJlNWJmZGYyMzI4YTkyMzNkYjQzOSwxLDE%3D\\r\\n\\r\\n---------------------------------------------------------\\r\\n  \\r\\n          \\r\\nData Scientist\\r\\nHomeBuddy\\r\\nPortugal\\r\\nFast growing\\r\\nApply with resume & profile\\r\\nView job: https://www.linkedin.com/comm/jobs/view/4157336245/?trackingId=Wy5ceDZCS54%2FbusEgJskqg%3D%3D&refId=ByteString%28length%3D16%2Cbytes%3De16ba638...9079663b%29&lipi=urn%3Ali%3Apage%3Aemail_email_job_alert_digest_01%3BXzBVG9w3R8Wg5eP%2FBYaagg%3D%3D&midToken=AQEsx4nyGTXpHQ&midSig=0EKQFWn239tXE1&trk=eml-email_job_alert_digest_01-job_card-0-view_job&trkEmail=eml-email_job_alert_digest_01-job_card-0-view_job-null-5bx38z~m7a0j5c6~6p-null-null&eid=5bx38z-m7a0j5c6-6p&otpToken=MTEwNzFjZTMxNzJlY2NjNWIxMjQwNGVkNDUxN2VmYjE4YmM4ZDQ0NDkwYWQ4ODYxNzBjNTA5NmM0NjUzNWZmNmY2ZDJkZmEwNmRmOWYwZmI1MGIzY2NiNDJkM2RmOWNkNjJlNWJmZGYyMzI4YTkyMzNkYjQzOSwxLDE%3D\\r\\n\\r\\n---------------------------------------------------------\\r\\n  \\r\\n          \\r\\nData Scientist\\r\\nBuild+ (formerly Wahl+Case)\\r\\nJapan\\r\\nThis company is actively hiring\\r\\nApply with resume & profile\\r\\nView job: https://www.linkedin.com/comm/jobs/view/4156854031/?trackingId=pwKEDSgQ9o3aa7nwWeMl0w%3D%3D&refId=ByteString%28length%3D16%2Cbytes%3De16ba638...9079663b%29&lipi=urn%3Ali%3Apage%3Aemail_email_job_alert_digest_01%3BXzBVG9w3R8Wg5eP%2FBYaagg%3D%3D&midToken=AQEsx4nyGTXpHQ&midSig=0EKQFWn239tXE1&trk=eml-email_job_alert_digest_01-job_card-0-view_job&trkEmail=eml-email_job_alert_digest_01-job_card-0-view_job-null-5bx38z~m7a0j5c6~6p-null-null&eid=5bx38z-m7a0j5c6-6p&otpToken=MTEwNzFjZTMxNzJlY2NjNWIxMjQwNGVkNDUxN2VmYjE4YmM4ZDQ0NDkwYWQ4ODYxNzBjNTA5NmM0NjUzNWZmNmY2ZDJkZmEwNmRmOWYwZmI1MGIzY2NiNDJkM2RmOWNkNjJlNWJmZGYyMzI4YTkyMzNkYjQzOSwxLDE%3D\\r\\n\\r\\n---------------------------------------------------------\\r\\n  \\r\\n          \\r\\nData Scientist, AI & Sustainability Ambassador\\r\\nINSUS - Industrial Sustainable Solutions\\r\\nEngland, United Kingdom\\r\\nApply with resume & profile\\r\\nView job: https://www.linkedin.com/comm/jobs/view/4152727062/?trackingId=EwFu%2BNXPAsTF2rOkvO2jCA%3D%3D&refId=ByteString%28length%3D16%2Cbytes%3De16ba638...9079663b%29&lipi=urn%3Ali%3Apage%3Aemail_email_job_alert_digest_01%3BXzBVG9w3R8Wg5eP%2FBYaagg%3D%3D&midToken=AQEsx4nyGTXpHQ&midSig=0EKQFWn239tXE1&trk=eml-email_job_alert_digest_01-job_card-0-view_job&trkEmail=eml-email_job_alert_digest_01-job_card-0-view_job-null-5bx38z~m7a0j5c6~6p-null-null&eid=5bx38z-m7a0j5c6-6p&otpToken=MTEwNzFjZTMxNzJlY2NjNWIxMjQwNGVkNDUxN2VmYjE4YmM4ZDQ0NDkwYWQ4ODYxNzBjNTA5NmM0NjUzNWZmNmY2ZDJkZmEwNmRmOWYwZmI1MGIzY2NiNDJkM2RmOWNkNjJlNWJmZGYyMzI4YTkyMzNkYjQzOSwxLDE%3D\\r\\n\\r\\n---------------------------------------------------------\\r\\n  \\r\\nSee all jobs on LinkedIn:  https://www.linkedin.com/comm/jobs/search?geoId=&f_TPR=a1739761971-&savedSearchId=1728533845&origin=JOB_ALERT_EMAIL&lipi=urn%3Ali%3Apage%3Aemail_email_job_alert_digest_01%3BXzBVG9w3R8Wg5eP%2FBYaagg%3D%3D&midToken=AQEsx4nyGTXpHQ&midSig=0EKQFWn239tXE1&trk=eml-email_job_alert_digest_01-job~alert-0-see~all~jobs~text&trkEmail=eml-email_job_alert_digest_01-job~alert-0-see~all~jobs~text-null-5bx38z~m7a0j5c6~6p-null-null&eid=5bx38z-m7a0j5c6-6p&otpToken=MTEwNzFjZTMxNzJlY2NjNWIxMjQwNGVkNDUxN2VmYjE4YmM4ZDQ0NDkwYWQ4ODYxNzBjNTA5NmM0NjUzNWZmNmY2ZDJkZmEwNmRmOWYwZmI1MGIzY2NiNDJkM2RmOWNkNjJlNWJmZGYyMzI4YTkyMzNkYjQzOSwxLDE%3D\\r\\n\\r\\n\\r\\n\\r\\n\\r\\n----------------------------------------\\r\\n\\r\\nThis email was intended for Alexander Barriga, M.S. (Data Scientist | Python, SQL, AWS, ML, NLP, AI | Ex-NASA)\\r\\nLearn why we included this: https://www.linkedin.com/help/linkedin/answer/4788?lang=en&lipi=urn%3Ali%3Apage%3Aemail_email_job_alert_digest_01%3BXzBVG9w3R8Wg5eP%2FBYaagg%3D%3D&midToken=AQEsx4nyGTXpHQ&midSig=0EKQFWn239tXE1&trk=eml-email_job_alert_digest_01-SecurityHelp-0-textfooterglimmer&trkEmail=eml-email_job_alert_digest_01-SecurityHelp-0-textfooterglimmer-null-5bx38z~m7a0j5c6~6p-null-null&eid=5bx38z-m7a0j5c6-6p&otpToken=MTEwNzFjZTMxNzJlY2NjNWIxMjQwNGVkNDUxN2VmYjE4YmM4ZDQ0NDkwYWQ4ODYxNzBjNTA5NmM0NjUzNWZmNmY2ZDJkZmEwNmRmOWYwZmI1MGIzY2NiNDJkM2RmOWNkNjJlNWJmZGYyMzI4YTkyMzNkYjQzOSwxLDE%3D\\r\\nYou are receiving Job Alert emails.\\r\\nManage your job alerts:  https://www.linkedin.com/comm/jobs/alerts?lipi=urn%3Ali%3Apage%3Aemail_email_job_alert_digest_01%3BXzBVG9w3R8Wg5eP%2FBYaagg%3D%3D&midToken=AQEsx4nyGTXpHQ&midSig=0EKQFWn239tXE1&trk=eml-email_job_alert_digest_01-null-0-null&trkEmail=eml-email_job_alert_digest_01-null-0-null-null-5bx38z~m7a0j5c6~6p-null-null&eid=5bx38z-m7a0j5c6-6p&otpToken=MTEwNzFjZTMxNzJlY2NjNWIxMjQwNGVkNDUxN2VmYjE4YmM4ZDQ0NDkwYWQ4ODYxNzBjNTA5NmM0NjUzNWZmNmY2ZDJkZmEwNmRmOWYwZmI1MGIzY2NiNDJkM2RmOWNkNjJlNWJmZGYyMzI4YTkyMzNkYjQzOSwxLDE%3D \\r\\nUnsubscribe: https://www.linkedin.com/job-alert-email-unsubscribe?savedSearchId=1728533845&lipi=urn%3Ali%3Apage%3Aemail_email_job_alert_digest_01%3BXzBVG9w3R8Wg5eP%2FBYaagg%3D%3D&midToken=AQEsx4nyGTXpHQ&midSig=0EKQFWn239tXE1&ek=email_job_alert_digest_01&e=5bx38z-m7a0j5c6-6p&eid=5bx38z-m7a0j5c6-6p&m=unsubscribe&ts=footerGlimmer&li=0&t=plh  \\xa0\\xa0·\\xa0\\xa0Help: https://www.linkedin.com/help/linkedin/answer/67?lang=en&lipi=urn%3Ali%3Apage%3Aemail_email_job_alert_digest_01%3BXzBVG9w3R8Wg5eP%2FBYaagg%3D%3D&midToken=AQEsx4nyGTXpHQ&midSig=0EKQFWn239tXE1&trk=eml-email_job_alert_digest_01-help-0-textfooterglimmer&trkEmail=eml-email_job_alert_digest_01-help-0-textfooterglimmer-null-5bx38z~m7a0j5c6~6p-null-null&eid=5bx38z-m7a0j5c6-6p&otpToken=MTEwNzFjZTMxNzJlY2NjNWIxMjQwNGVkNDUxN2VmYjE4YmM4ZDQ0NDkwYWQ4ODYxNzBjNTA5NmM0NjUzNWZmNmY2ZDJkZmEwNmRmOWYwZmI1MGIzY2NiNDJkM2RmOWNkNjJlNWJmZGYyMzI4YTkyMzNkYjQzOSwxLDE%3D\\r\\n\\r\\n© 2025 LinkedIn Corporation, 1zwnj000 West Maude Avenue, Sunnyvale, CA 94085.\\r\\nLinkedIn and the LinkedIn logo are registered trademarks of LinkedIn.')"
      ]
     },
     "execution_count": 10,
     "metadata": {},
     "output_type": "execute_result"
    }
   ],
   "source": [
    "emails[5]"
   ]
  },
  {
   "cell_type": "code",
   "execution_count": null,
   "metadata": {},
   "outputs": [],
   "source": [
    "        \n",
    "    conn.commit()\n",
    "    cursor.close()\n",
    "    conn.close()\n",
    "\n",
    "\n",
    "store_emails_in_db(emails)\n",
    "print(f\"Stored {len(emails)} emails in the database.\")"
   ]
  },
  {
   "cell_type": "code",
   "execution_count": null,
   "metadata": {},
   "outputs": [],
   "source": []
  },
  {
   "cell_type": "code",
   "execution_count": null,
   "metadata": {},
   "outputs": [],
   "source": []
  },
  {
   "cell_type": "code",
   "execution_count": 46,
   "metadata": {},
   "outputs": [
    {
     "ename": "TypeError",
     "evalue": "tuple indices must be integers or slices, not str",
     "output_type": "error",
     "traceback": [
      "\u001b[0;31m---------------------------------------------------------------------------\u001b[0m",
      "\u001b[0;31mTypeError\u001b[0m                                 Traceback (most recent call last)",
      "Cell \u001b[0;32mIn[46], line 1\u001b[0m\n\u001b[0;32m----> 1\u001b[0m vectorize_text(\u001b[43memails\u001b[49m\u001b[43m[\u001b[49m\u001b[38;5;241;43m0\u001b[39;49m\u001b[43m]\u001b[49m\u001b[43m[\u001b[49m\u001b[38;5;124;43m'\u001b[39;49m\u001b[38;5;124;43mbody\u001b[39;49m\u001b[38;5;124;43m'\u001b[39;49m\u001b[43m]\u001b[49m)\n",
      "\u001b[0;31mTypeError\u001b[0m: tuple indices must be integers or slices, not str"
     ]
    }
   ],
   "source": [
    "vectorize_text(emails[0]['body'])"
   ]
  },
  {
   "cell_type": "code",
   "execution_count": 47,
   "metadata": {},
   "outputs": [
    {
     "ename": "TypeError",
     "evalue": "tuple indices must be integers or slices, not str",
     "output_type": "error",
     "traceback": [
      "\u001b[0;31m---------------------------------------------------------------------------\u001b[0m",
      "\u001b[0;31mTypeError\u001b[0m                                 Traceback (most recent call last)",
      "Cell \u001b[0;32mIn[47], line 3\u001b[0m\n\u001b[1;32m      1\u001b[0m response \u001b[38;5;241m=\u001b[39m openai\u001b[38;5;241m.\u001b[39mEmbedding\u001b[38;5;241m.\u001b[39mcreate(\n\u001b[1;32m      2\u001b[0m     model\u001b[38;5;241m=\u001b[39m\u001b[38;5;124m\"\u001b[39m\u001b[38;5;124mtext-embedding-3-small\u001b[39m\u001b[38;5;124m\"\u001b[39m,  \n\u001b[0;32m----> 3\u001b[0m     \u001b[38;5;28minput\u001b[39m\u001b[38;5;241m=\u001b[39m\u001b[43memails\u001b[49m\u001b[43m[\u001b[49m\u001b[38;5;241;43m0\u001b[39;49m\u001b[43m]\u001b[49m\u001b[43m[\u001b[49m\u001b[38;5;124;43m'\u001b[39;49m\u001b[38;5;124;43mbody\u001b[39;49m\u001b[38;5;124;43m'\u001b[39;49m\u001b[43m]\u001b[49m\n\u001b[1;32m      4\u001b[0m )\n\u001b[1;32m      5\u001b[0m response[\u001b[38;5;124m'\u001b[39m\u001b[38;5;124mdata\u001b[39m\u001b[38;5;124m'\u001b[39m][\u001b[38;5;241m0\u001b[39m][\u001b[38;5;124m'\u001b[39m\u001b[38;5;124membedding\u001b[39m\u001b[38;5;124m'\u001b[39m]\n",
      "\u001b[0;31mTypeError\u001b[0m: tuple indices must be integers or slices, not str"
     ]
    }
   ],
   "source": [
    "response = openai.Embedding.create(\n",
    "    model=\"text-embedding-3-small\",  \n",
    "    input=emails[0]['body']\n",
    ")\n",
    "response['data'][0]['embedding']"
   ]
  },
  {
   "cell_type": "code",
   "execution_count": 60,
   "metadata": {},
   "outputs": [
    {
     "data": {
      "text/plain": [
       "'<!DOCTYPE html\\n  PUBLIC \"-//W3C//DTD XHTML 1.0 Transitional//EN\" \"http://www.w3.org/TR/xhtml1/DTD/xhtml1-transitional.dtd\">\\n\\n<html\\n  style=\"width:100%;font-family:helvetica, \\'helvetica neue\\', arial, verdana, sans-serif;-webkit-text-size-adjust:100%;-ms-text-size-adjust:100%;padding:0;Margin:0;\">\\n\\n<head>\\n  <meta charset=\"UTF-8\">\\n  <meta content=\"width=device-width, initial-scale=1\" name=\"viewport\">\\n  <meta name=\"x-apple-disable-message-reformatting\">\\n  <meta http-equiv=\"X-UA-Compatible\" content=\"IE=edge\">\\n  <meta content=\"telephone=no\" name=\"format-detection\">\\n  <title>Amelia Mink posted in Data Science for Sustainability</title>\\n  <!--[if (mso 16)]>\\n  <style type=\"text/css\">\\n    a {text-decoration: none;}\\n  </style>\\n  <![endif]-->\\n  <!--[if gte mso 9]>\\n  <style>sup { font-size: 100% !important; }</style>\\n  <![endif]-->\\n  <style type=\"text/css\" data-start-index=\"742\" data-end-index=\"765\">\\n    @font-face {\\n      font-family: \\'Graphik Medium\\';\\n      src: url(\\'https://www.meetup.com/mu_static/public/marketing/fonts/Graphik-Medium-Web.woff2\\') format(\"woff2\");\\n      font-style: normal;\\n      font-weight: normal;\\n    }\\n\\n    @font-face {\\n      font-family: \\'Graphik Regular\\';\\n      src: url(\\'https://www.meetup.com/mu_static/public/marketing/fonts/Graphik-Regular-Web.woff2\\') format(\"woff2\");\\n      font-style: normal;\\n      font-weight: normal;\\n    }\\n\\n    @font-face {\\n      font-family: \\'Graphik Meetup Semi\\';\\n      src: url(\\'https://www.meetup.com/mu_static/public/marketing/fonts/Graphik-Semibold-Web.woff2\\') format(\"woff2\");\\n      font-weight: 600;\\n      font-style: normal;\\n      font-stretch: normal;\\n    }\\n\\n    .padding-mobile {\\n      padding-left: 50px;\\n      padding-right: 50px;\\n    }\\n\\n    .mobile-image {\\n      display: none;\\n    }\\n\\n    @media only screen and (max-width:600px) {\\n      h3 {\\n        font-size: 20px !important;\\n        text-align: center;\\n        line-height: 120% !important\\n      }\\n\\n      h1 a {\\n        font-size: 30px !important\\n      }\\n\\n      h2 a {\\n        font-size: 26px !important\\n      }\\n\\n      h3 a {\\n        font-size: 20px !important\\n      }\\n\\n      .es-menu td a {\\n        font-size: 16px !important\\n      }\\n\\n      .es-header-body p,\\n      .es-header-body ul li,\\n      .es-header-body ol li,\\n      .es-header-body a {\\n        font-size: 16px !important\\n      }\\n\\n      .es-footer-body p,\\n      .es-footer-body ul li,\\n      .es-footer-body ol li,\\n      .es-footer-body a {\\n        font-size: 16px !important\\n      }\\n\\n      .es-infoblock p,\\n      .es-infoblock ul li,\\n      .es-infoblock ol li,\\n      .es-infoblock a {\\n        font-size: 12px !important\\n      }\\n\\n      *[class=\"gmail-fix\"] {\\n        display: none !important\\n      }\\n\\n      .es-m-txt-r img,\\n      .es-m-txt-c img,\\n      .es-m-txt-l img {\\n        display: inline !important\\n      }\\n\\n      .es-button-border {\\n        display: block !important\\n      }\\n\\n      a.es-button {\\n        display: block !important;\\n        border-width: 10px 0px 10px 0px !important\\n      }\\n\\n      .es-btn-fw {\\n        border-width: 10px 0px !important;\\n        text-align: center !important\\n      }\\n\\n      .es-adaptive table,\\n      .es-btn-fw,\\n      .es-btn-fw-brdr,\\n      .es-left,\\n      .es-right {\\n        width: 100% !important\\n      }\\n\\n      .es-content table,\\n      .es-header table,\\n      .es-footer table,\\n      .es-content,\\n      .es-footer,\\n      .es-header {\\n        width: 100% !important;\\n        max-width: 600px !important\\n      }\\n\\n      .es-adapt-td {\\n        display: block !important;\\n        width: 100% !important\\n      }\\n\\n      .adapt-img-logo {\\n        width: 50% !important;\\n        height: auto !important\\n      }\\n\\n      .adapt-img {\\n        width: 100% !important;\\n        height: auto !important\\n      }\\n\\n      .es-m-p0 {\\n        padding: 0px !important\\n      }\\n\\n      .es-m-p0r {\\n        padding-right: 0px !important\\n      }\\n\\n      .es-m-p0l {\\n        padding-left: 0px !important\\n      }\\n\\n      .es-m-p0t {\\n        padding-top: 0px !important\\n      }\\n\\n      .es-m-p0b {\\n        padding-bottom: 0 !important\\n      }\\n\\n      .es-m-p20b {\\n        padding-bottom: 20px !important\\n      }\\n\\n      .es-mobile-hidden,\\n      .es-hidden {\\n        display: none !important\\n      }\\n\\n      .es-desk-hidden {\\n        display: table-row !important;\\n        width: auto !important;\\n        overflow: visible !important;\\n        float: none !important;\\n        max-height: inherit !important;\\n        line-height: inherit !important\\n      }\\n\\n      .es-desk-menu-hidden {\\n        display: table-cell !important\\n      }\\n\\n      table.es-table-not-adapt,\\n      .esd-block-html table {\\n        width: auto !important\\n      }\\n\\n      table.es-social {\\n        display: inline-block !important\\n      }\\n\\n      table.es-social td {\\n        display: inline-block !important\\n      }\\n\\n      .padding-mobile {\\n        padding-left: 16px;\\n        padding-right: 16px;\\n      }\\n\\n      .description-right {\\n        display: none !important;\\n      }\\n\\n      .mobile-image {\\n        display: block !important;\\n      }\\n\\n      .mobilecontent {\\n        display: block !important;\\n        max-height: none !important;\\n      }\\n\\n      div[class=mobilecontent] {\\n        display: block !important;\\n        max-height: none !important;\\n      }\\n\\n      .desktop-block {\\n        display: none;\\n      }\\n\\n    }\\n\\n    /*end query*/\\n    #outlook a {\\n      padding: 0;\\n    }\\n\\n    .ExternalClass {\\n      width: 100%;\\n    }\\n\\n    .ExternalClass,\\n    .ExternalClass p,\\n    .ExternalClass span,\\n    .ExternalClass font,\\n    .ExternalClass td,\\n    .ExternalClass div {\\n      line-height: 100%;\\n    }\\n\\n    .es-button {\\n      mso-style-priority: 100 !important;\\n      text-decoration: none !important;\\n    }\\n\\n    a[x-apple-data-detectors] {\\n      color: inherit !important;\\n      text-decoration: none !important;\\n      font-size: inherit !important;\\n      font-family: inherit !important;\\n      font-weight: inherit !important;\\n      line-height: inherit !important;\\n    }\\n\\n    .es-desk-hidden {\\n      display: none;\\n      float: left;\\n      overflow: hidden;\\n      width: 0;\\n      max-height: 0;\\n      line-height: 0;\\n      mso-hide: all;\\n    }\\n\\n    .date {\\n      text-transform: uppercase;\\n      color: #947F5F;\\n      padding-bottom: 10px;\\n    }\\n\\n    .header-title {\\n      text-align: center;\\n      color: #0098AB\\n    }\\n\\n    @media screen and (max-device-width: 480px) {\\n      div[class=mobilecontent] {\\n        display: block !important;\\n        max-height: none !important;\\n      }\\n    }\\n\\n    td:empty {\\n      display: none;\\n    }\\n  </style>\\n</head>\\n\\n<body\\n  style=\"width:100%;font-family:helvetica, \\'helvetica neue\\', arial, verdana, sans-serif;-webkit-text-size-adjust:100%;-ms-text-size-adjust:100%;padding:0;Margin:0;\">\\r\\n<div style=\"color:transparent;visibility:hidden;opacity:0;font-size:0px;border:0;max-height:1px;width:1px;margin:0px;padding:0px;border-width:0px!important;display:none!important;line-height:0px!important;\"><img border=\"0\" width=\"1\" height=\"1\" src=\"https://email-analytics.meetup.com/q/MAU8L9WxfJl0VU0edOrkag~~/AADd_xA~/_laIC6jNFH-fvlHlEWeEKZDfckt6K4hE8UbrEutz50O6nzp3PQU2Wsm7MGmQzQxDOA13mHFPzvA8oSZy82AkIg~~\" alt=\"\"/></div>\\r\\n\\n  <div class=\"es-wrapper-color\" style=\"background-color:#F6F7F8;\">\\n    <!--[if gte mso 9]><v:background xmlns:v=\"urn:schemas-microsoft-com:vml\" fill=\"t\"><v:fill type=\"tile\" color=\"#f6f7f8\"></v:fill></v:background><![endif]-->\\n    <table class=\"es-wrapper\" width=\"100%\" cellspacing=\"0\" cellpadding=\"0\"\\n      style=\"mso-table-lspace:0pt;mso-table-rspace:0pt;border-collapse:collapse;border-spacing:0px;padding:0;Margin:0;width:100%;height:100%;background-repeat:repeat;background-position:center top;\">\\n      <tr style=\"border-collapse:collapse;\">\\n        <td valign=\"top\" style=\"padding:0;Margin:0;\">\\n          <table class=\"es-content\" cellspacing=\"0\" cellpadding=\"0\" align=\"center\"\\n            style=\"mso-table-lspace:0pt;mso-table-rspace:0pt;border-collapse:collapse;border-spacing:0px;table-layout:fixed !important;width:100%;\">\\n            <tr style=\"border-collapse:collapse;\">\\n              <td align=\"center\" style=\"padding:0;Margin:0;\">\\n                <table class=\"es-content-body\"\\n                  style=\"mso-table-lspace:0pt;mso-table-rspace:0pt;border-collapse:collapse;border-spacing:0px;background-color:transparent;\"\\n                  width=\"600\" cellspacing=\"0\" cellpadding=\"0\" align=\"center\">\\n                  <tr class=\"es-mobile-hidden\" style=\"border-collapse:collapse;\">\\n                    <td align=\"left\" style=\"padding:0;Margin:0;padding-top:20px;padding-left:20px;padding-right:20px;\">\\n                      <table cellpadding=\"0\" cellspacing=\"0\" width=\"100%\"\\n                        style=\"mso-table-lspace:0pt;mso-table-rspace:0pt;border-collapse:collapse;border-spacing:0px;\">\\n                        <tr style=\"border-collapse:collapse;\">\\n                          <td width=\"560\" align=\"center\" valign=\"top\" style=\"padding:0;Margin:0;\">\\n                            <table cellpadding=\"0\" cellspacing=\"0\" width=\"100%\"\\n                              style=\"mso-table-lspace:0pt;mso-table-rspace:0pt;border-collapse:collapse;border-spacing:0px;\">\\n                              <tr style=\"border-collapse:collapse;\">\\n                                <td align=\"center\"\\n                                  style=\"Margin:0;padding-left:20px;padding-right:20px;padding-top:30px;padding-bottom:30px;\">\\n                                  <table border=\"0\" width=\"100%\" height=\"100%\" cellpadding=\"0\" cellspacing=\"0\"\\n                                    style=\"mso-table-lspace:0pt;mso-table-rspace:0pt;border-collapse:collapse;border-spacing:0px;\">\\n                                    <tr style=\"border-collapse:collapse;\">\\n                                      <td\\n                                        style=\"padding:0;Margin:0px;border-bottom:0px solid #CCCCCC;background:none;height:1px;width:100%;margin:0px;\">\\n                                      </td>\\n                                    </tr>\\n                                  </table>\\n                                </td>\\n                              </tr>\\n                            </table>\\n                          </td>\\n                        </tr>\\n                      </table>\\n                    </td>\\n                  </tr>\\n                </table>\\n              </td>\\n            </tr>\\n          </table>\\n          <table class=\"es-content\" cellspacing=\"0\" cellpadding=\"0\" align=\"center\"\\n            style=\"mso-table-lspace:0pt;mso-table-rspace:0pt;border-collapse:collapse;border-spacing:0px;table-layout:fixed !important;width:100%;\">\\n            <tr style=\"border-collapse:collapse;\">\\n              <td align=\"center\" style=\"padding:0;Margin:0;\">\\n                <table class=\"es-content-body\" width=\"600\" cellspacing=\"0\" cellpadding=\"0\" bgcolor=\"#ffffff\"\\n                  align=\"center\"\\n                  style=\"mso-table-lspace:0pt;mso-table-rspace:0pt;border-collapse:collapse;border-spacing:0px;background-color:#FFFFFF;\">\\n                  <tr style=\"border-collapse:collapse;\">\\n                    <td align=\"left\"\\n                      style=\"Margin:0;padding-top:20px;padding-bottom:20px;padding-left:20px;padding-right:20px;\">\\n                      <table width=\"100%\" cellspacing=\"0\" cellpadding=\"0\"\\n                        style=\"mso-table-lspace:0pt;mso-table-rspace:0pt;border-collapse:collapse;border-spacing:0px;\">\\n                        <tr style=\"border-collapse:collapse;\">\\n                          <td width=\"560\" valign=\"top\" align=\"center\" style=\"padding:0;Margin:0;\">\\n                            <table width=\"100%\" cellspacing=\"0\" cellpadding=\"0\"\\n                              style=\"mso-table-lspace:0pt;mso-table-rspace:0pt;border-collapse:collapse;border-spacing:0px;\">\\n                              <tr style=\"border-collapse:collapse;\">\\n                                <td align=\"left\" class=\"es-m-txt-l\" style=\"padding:0;Margin:0;padding-left:5px;\"><img\\n                                    src=\"https://adigj.stripocdn.email/content/guids/CABINET_ccee1027ec1cc651cb3e28a2ae4c2b08/images/28571562104029468.png\"\\n                                    alt=\"meetup logo\"\\n                                    style=\"display:block;border:0;outline:none;text-decoration:none;-ms-interpolation-mode:bicubic;\"\\n                                    width=\"100\"></td>\\n                              </tr>\\n                              <tr style=\"border-collapse:collapse;\">\\n                                <td align=\"left\"\\n                                  style=\"padding:0;Margin:0;padding-left:10px;padding-right:10px;padding-top:20px;\">\\n                                  <p\\n                                    style=\"Margin:0;-webkit-text-size-adjust:none;-ms-text-size-adjust:none;mso-line-height-rule:exactly;font-size:21px;font-family:helvetica, \\'helvetica neue\\', arial, verdana, sans-serif;line-height:30px;color:#212121;\">\\n                                    <strong>Amelia Mink started a discussion in <a href=\"https://www.meetup.com/Data-Science-for-Sustainability/?utm_medium=email&utm_campaign=group-discussion-announce\">Data Science for Sustainability</a>.</strong>\\n                                  </p>\\n                                  <p\\n                                    style=\"Margin:0;-webkit-text-size-adjust:none;-ms-text-size-adjust:none;mso-line-height-rule:exactly;font-size:17px;font-family:helvetica, \\'helvetica neue\\', arial, verdana, sans-serif;line-height:26px;color:#212121;\">\\n                                    <br>\\n                                  </p>\\n                                                                      <a href=\"https://www.meetup.com/members/106737242\" style=\"display:block;border:none;\" border=\"0\">\\n                                      <img style=\"vertical-align:middle;border-radius:999px;object-fit:cover;background-color:#EEEEEE;\" src=\"https://secure.meetupstatic.com/photos/member/9/2/f/0/thumb_276457616.jpeg\" alt=\"Amelia Mink\" height=\"48\" width=\"48\" />\\n                                    </a>\\n                                                                    <p\\n                                    style=\"Margin:0;-webkit-text-size-adjust:none;-ms-text-size-adjust:none;mso-line-height-rule:exactly;font-size:17px;font-family:helvetica, \\'helvetica neue\\', arial, verdana, sans-serif;line-height:26px;color:#212121;\">\\n                                    <strong>Amelia Mink</strong>\\n                                  </p>\\n                                  <p\\n                                    style=\"Margin:0;-webkit-text-size-adjust:none;-ms-text-size-adjust:none;mso-line-height-rule:exactly;font-size:17px;font-family:helvetica, \\'helvetica neue\\', arial, verdana, sans-serif;line-height:26px;color:#212121;\">\\n                                    More AI, More Spending? Let’s Change That\\nScaling AI shouldn’t mean skyrocketing costs.\\nDiscover how to cut inefficiencies & boost performance in this live session on Feb 19 at 2PM ET.\\n🔗 Reserve your spot https://hubs.ly/Q03000v60\\n                                  </p>\\n                                </td>\\n                              </tr>\\n                              <tr style=\"border-collapse:collapse;\">\\n                                <td align=\"left\"\\n                                  style=\"Margin:0;padding-top:10px;padding-bottom:10px;padding-left:10px;padding-right:10px;\">\\n                                  <span class=\"es-button-border\"\\n                                    style=\"mso-style-priority:100 !important;text-decoration:none;-webkit-text-size-adjust:none;-ms-text-size-adjust:none;mso-line-height-rule:exactly;font-family:helvetica, \\'helvetica neue\\', arial, verdana, sans-serif;font-size:16px;color:#FFFFFF;border-style:solid;border-color:#F65858;border-width:10px 20px;display:inline-block;background:#F65858;border-radius:10px;font-weight:normal;font-style:normal;line-height:19px;width:auto;text-align:center;\">\\n                                    <a href=\"https://www.meetup.com/Data-Science-for-Sustainability//discussions/6755397672828119/?utm_medium=email&utm_campaign=group-discussion-announce\" class=\"es-button\" target=\"_blank\"\\n                                      style=\"color:#fff;\">View discussion</a>\\n                                  </span></td>\\n                              </tr>\\n                              <tr style=\"border-collapse:collapse;\">\\n                                <td align=\"center\"\\n                                  style=\"Margin:0;padding-top:10px;padding-bottom:10px;padding-left:20px;padding-right:20px;\">\\n                                  <table border=\"0\" width=\"100%\" height=\"100%\" cellpadding=\"0\" cellspacing=\"0\"\\n                                    style=\"mso-table-lspace:0pt;mso-table-rspace:0pt;border-collapse:collapse;border-spacing:0px;\">\\n                                    <tr style=\"border-collapse:collapse;\">\\n                                      <td\\n                                        style=\"padding:0;Margin:0px;border-bottom:0px solid #CCCCCC;background:none;height:1px;width:100%;margin:0px;\">\\n                                      </td>\\n                                    </tr>\\n                                  </table>\\n                                </td>\\n                              </tr>\\n                            </table>\\n                          </td>\\n                        </tr>\\n                      </table>\\n                    </td>\\n                  </tr>\\n                </table>\\n              </td>\\n            </tr>\\n          </table>\\n          <table class=\"es-footer\" cellspacing=\"0\" cellpadding=\"0\" align=\"center\"\\n            style=\"mso-table-lspace:0pt;mso-table-rspace:0pt;border-collapse:collapse;border-spacing:0px;table-layout:fixed !important;width:100%;background-color:transparent;background-repeat:repeat;background-position:center top;\">\\n            <tr style=\"border-collapse:collapse;\">\\n              <td align=\"center\" style=\"padding:0;Margin:0;\">\\n                <table class=\"es-footer-body\" width=\"600\" cellspacing=\"0\" cellpadding=\"0\" align=\"center\"\\n                  style=\"mso-table-lspace:0pt;mso-table-rspace:0pt;border-collapse:collapse;border-spacing:0px;background-color:transparent;\">\\n                  <tr style=\"border-collapse:collapse;\">\\n                    <td align=\"left\" style=\"padding:20px;Margin:0;\">\\n                      <table width=\"100%\" cellspacing=\"0\" cellpadding=\"0\"\\n                        style=\"mso-table-lspace:0pt;mso-table-rspace:0pt;border-collapse:collapse;border-spacing:0px;\">\\n                        <tr style=\"border-collapse:collapse;\">\\n                          <td width=\"560\" valign=\"top\" align=\"center\" style=\"padding:0;Margin:0;\">\\n                            <table width=\"100%\" cellspacing=\"0\" cellpadding=\"0\"\\n                              style=\"mso-table-lspace:0pt;mso-table-rspace:0pt;border-collapse:collapse;border-spacing:0px;\">\\n                              <tr style=\"border-collapse:collapse;\">\\n                                <td esdev-links-color=\"#666666\" align=\"center\"\\n                                  style=\"padding:0;Margin:0;padding-bottom:10px;\">\\n                                  <p\\n                                    style=\"Margin:0;-webkit-text-size-adjust:none;-ms-text-size-adjust:none;mso-line-height-rule:exactly;font-size:11px;font-family:helvetica, \\'helvetica neue\\', arial, verdana, sans-serif;line-height:17px;color:#666666;\">\\n                                    <br>\\n                                  </p>\\n                                  <p\\n                                    style=\"Margin:0;-webkit-text-size-adjust:none;-ms-text-size-adjust:none;mso-line-height-rule:exactly;font-size:11px;font-family:helvetica, \\'helvetica neue\\', arial, verdana, sans-serif;line-height:17px;color:#666666;\">\\n                                    <a target=\"_blank\"\\n                                      style=\"-webkit-text-size-adjust:none;-ms-text-size-adjust:none;mso-line-height-rule:exactly;font-family:helvetica, \\'helvetica neue\\', arial, verdana, sans-serif;font-size:11px;text-decoration:underline;color:#666666;\"\\n                                      href=\"https://www.meetup.com/email-unsubscribe/?mid=134541642&code=conversation_announce&group_id=7937352&eo=mca1&expires=1742455874137&sig=ffd8b6adf8f8af57617e43f309825930c424d3d8\">Unsubscribe</a> from these type of emails.\\n                                    </p>\\n                                  <p\\n                                    style=\"Margin:0;-webkit-text-size-adjust:none;-ms-text-size-adjust:none;mso-line-height-rule:exactly;font-size:11px;font-family:helvetica, \\'helvetica neue\\', arial, verdana, sans-serif;line-height:17px;color:#666666;\">\\n                                    Manage your <a target=\"_blank\"\\n                                      style=\"-webkit-text-size-adjust:none;-ms-text-size-adjust:none;mso-line-height-rule:exactly;font-family:helvetica, \\'helvetica neue\\', arial, verdana, sans-serif;font-size:11px;text-decoration:underline;color:#666666;\"\\n                                      href=\"https://www.meetup.com/account/comm/\">Email Notification Preferences</a>.\\n                                  </p>\\n                                  <p\\n                                    style=\"Margin:0;-webkit-text-size-adjust:none;-ms-text-size-adjust:none;mso-line-height-rule:exactly;font-size:11px;font-family:helvetica, \\'helvetica neue\\', arial, verdana, sans-serif;line-height:17px;color:#666666;\">\\n                                    Read our <a target=\"_blank\"\\n                                      style=\"-webkit-text-size-adjust:none;-ms-text-size-adjust:none;mso-line-height-rule:exactly;font-family:helvetica, \\'helvetica neue\\', arial, verdana, sans-serif;font-size:11px;text-decoration:underline;color:#666666;\"\\n                                      href=\"https://www.meetup.com/privacy\">Privacy\\n                                      Policy</a>.\\n                                  </p>\\n                                </td>\\n                              </tr>\\n                              <tr style=\"border-collapse:collapse;\">\\n                                <td esdev-links-color=\"#666666\" align=\"center\"\\n                                  style=\"padding:0;Margin:0;padding-bottom:10px;\">\\n                                  <p\\n                                    style=\"Margin:0;-webkit-text-size-adjust:none;-ms-text-size-adjust:none;mso-line-height-rule:exactly;font-size:11px;font-family:helvetica, \\'helvetica neue\\', arial, verdana, sans-serif;line-height:17px;color:#666666;\">\\n                                    Meetup LLC, POB 4668 #37895 New York NY USA 10163.</p>\\n                                </td>\\n                              </tr>\\n                            </table>\\n                          </td>\\n                        </tr>\\n                      </table>\\n                    </td>\\n                  </tr>\\n                </table>\\n              </td>\\n            </tr>\\n          </table>\\n        </td>\\n      </tr>\\n    </table>\\n  </div>\\n\\r\\n<img border=\"0\" width=\"1\" height=\"1\" alt=\"\" src=\"https://email-analytics.meetup.com/q/bwcvG0QOQb9GujlGt9Fq6w~~/AADd_xA~/gWcCdiBdj1TqUldLzzOEDjAboJzd5Z0FSpiygNkdJ1QQZxHacrjcvqK2OTEtkEv97eSurzO1pceL3A__-u4txw~~\">\\r\\n</body>\\n\\n\\n</html>\\n\\r\\n\\r\\n'"
      ]
     },
     "execution_count": 60,
     "metadata": {},
     "output_type": "execute_result"
    }
   ],
   "source": [
    "emails[0][-1]"
   ]
  },
  {
   "cell_type": "code",
   "execution_count": null,
   "metadata": {},
   "outputs": [],
   "source": []
  }
 ],
 "metadata": {
  "kernelspec": {
   "display_name": "venv_gmail_analytics",
   "language": "python",
   "name": "python3"
  },
  "language_info": {
   "codemirror_mode": {
    "name": "ipython",
    "version": 3
   },
   "file_extension": ".py",
   "mimetype": "text/x-python",
   "name": "python",
   "nbconvert_exporter": "python",
   "pygments_lexer": "ipython3",
   "version": "3.11.5"
  }
 },
 "nbformat": 4,
 "nbformat_minor": 2
}
