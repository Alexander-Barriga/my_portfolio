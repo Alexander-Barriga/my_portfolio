{
 "cells": [
  {
   "cell_type": "code",
   "execution_count": 1,
   "id": "713c3d4f-19fb-490f-9e1a-e86ea5cb9508",
   "metadata": {},
   "outputs": [],
   "source": [
    "%load_ext autoreload\n",
    "%autoreload 2\n",
    "%matplotlib inline\n",
    "\n",
    "# native tools\n",
    "import sys\n",
    "from copy import copy\n",
    "from collections import Counter\n",
    "from joblib import dump, load\n",
    "\n",
    "# for data analysis \n",
    "import numpy as np\n",
    "import pandas as pd\n",
    "import matplotlib.pyplot as plt\n",
    "\n",
    "# for feature selection\n",
    "from sklearn.feature_selection import VarianceThreshold\n",
    "\n",
    "# feature engineering \n",
    "from sklearn.decomposition import PCA\n",
    "from sklearn.preprocessing import StandardScaler\n",
    "\n",
    "# for outlier detection\n",
    "from sklearn.ensemble import IsolationForest\n",
    "from sklearn.svm import OneClassSVM\n",
    "\n",
    "# for imbalanced classes\n",
    "from imblearn.over_sampling import SMOTENC\n",
    "\n",
    "# linear models\n",
    "from sklearn.linear_model import LogisticRegression\n",
    "\n",
    "# non-linear models\n",
    "from sklearn.ensemble import RandomForestClassifier\n",
    "import lightgbm as lgb\n",
    "\n",
    "# modeling building tools\n",
    "from sklearn.pipeline import Pipeline\n",
    "from sklearn.compose import ColumnTransformer\n",
    "from sklearn.model_selection import GridSearchCV\n",
    "from sklearn.model_selection import train_test_split\n",
    "from keras.callbacks import EarlyStopping\n",
    "from sklearn.metrics import (accuracy_score, precision_score, recall_score, \n",
    "                             f1_score, precision_recall_curve, PrecisionRecallDisplay)\n",
    "\n",
    "\n",
    "# custom functions, classes, etc ... \n",
    "sys.path.append(\"../Scripts\")\n",
    "from deep_learning import BuildNeuralNetArchitecture\n",
    "from prep_data import PrepDataForModeling\n",
    "from train_models import TrainModels\n",
    "from tensorflow.keras.wrappers.scikit_learn import KerasClassifier\n"
   ]
  },
  {
   "cell_type": "markdown",
   "id": "e16181a1-ad22-44dd-b026-4dd6e68fa0b0",
   "metadata": {},
   "source": [
    "----\n",
    "\n",
    "# Prep data for modeling"
   ]
  },
  {
   "cell_type": "code",
   "execution_count": 2,
   "id": "541dcce3-80aa-49af-811a-b2f4a8977c0c",
   "metadata": {},
   "outputs": [
    {
     "name": "stderr",
     "output_type": "stream",
     "text": [
      "INFO:root:Loading data from ../Data/fraud_detection_bank_dataset.csv\n",
      "INFO:root:Number of features dropped 51. Number of features remaining 62\n",
      "INFO:root:Using statistical_outlier_removal to remove outliers\n",
      "INFO:root:Splitting data into training and test sets\n",
      "INFO:root:Using SMOTENC to balance out labels in train set only.\n",
      "INFO:root:Original imbalanced label count for training data Counter({0: 3498, 1: 1328})\n",
      "INFO:root:New balanced label count for training data Counter({0: 3498, 1: 3498})\n"
     ]
    }
   ],
   "source": [
    "data_path = \"../Data/fraud_detection_bank_dataset.csv\"\n",
    "prep_data = PrepDataForModeling(data_path, y_col='targets')\n",
    "\n",
    "X_train, y_train, X_test, y_test = prep_data.gen_model_ready_data(return_data=True)"
   ]
  },
  {
   "cell_type": "markdown",
   "id": "810ad797-d36f-4651-a369-508c12bf05ce",
   "metadata": {},
   "source": [
    "---\n",
    "# Build Models "
   ]
  },
  {
   "cell_type": "code",
   "execution_count": 3,
   "id": "a2d976cb-e862-48a8-a98d-e7acbbfed4cb",
   "metadata": {
    "tags": []
   },
   "outputs": [
    {
     "name": "stderr",
     "output_type": "stream",
     "text": [
      "INFO:root:Training LogisticRegression ...\n"
     ]
    },
    {
     "name": "stdout",
     "output_type": "stream",
     "text": [
      "Fitting 3 folds for each of 2 candidates, totalling 6 fits\n"
     ]
    },
    {
     "name": "stderr",
     "output_type": "stream",
     "text": [
      "INFO:root:Logging LogisticRegression as best performing model.\n",
      "INFO:root:Best LogisticRegression has test score 0.8935\n",
      "INFO:root:Training RandomForestClassifier ...\n"
     ]
    },
    {
     "name": "stdout",
     "output_type": "stream",
     "text": [
      "Fitting 3 folds for each of 6 candidates, totalling 18 fits\n"
     ]
    },
    {
     "name": "stderr",
     "output_type": "stream",
     "text": [
      "INFO:root:Logging RandomForestClassifier as best performing model.\n",
      "INFO:root:Best RandomForestClassifier has test score 0.9191\n",
      "INFO:root:Training LGBMClassifier ...\n"
     ]
    },
    {
     "name": "stdout",
     "output_type": "stream",
     "text": [
      "Fitting 3 folds for each of 16 candidates, totalling 48 fits\n"
     ]
    },
    {
     "name": "stderr",
     "output_type": "stream",
     "text": [
      "INFO:root:Logging LGBMClassifier as best performing model.\n",
      "INFO:root:Best LGBMClassifier has test score 0.9272\n"
     ]
    }
   ],
   "source": [
    "model_list = [\"LogisticRegression\", \n",
    "              \"RandomForestClassifier\",\n",
    "              \"LGBMClassifier\"\n",
    "             ]\n",
    "\n",
    "train_models = TrainModels(X_train, \n",
    "                           y_train, \n",
    "                           X_test, \n",
    "                           y_test)\n",
    "\n",
    "# Creates a data transform pipeline that handels categorical and numerical features differently\n",
    "train_models.create_transform_portion_of_pipeline(prep_data.df)\n",
    "\n",
    "#Performs a grid search for each pipeline object\n",
    "train_models.grid_search_models(model_list)\n",
    "\n",
    "best_pipeline = train_models.return_best_pipeline()"
   ]
  },
  {
   "cell_type": "code",
   "execution_count": 4,
   "id": "5738fe95-c68f-4f6a-8fd9-ff8e91c3222f",
   "metadata": {},
   "outputs": [
    {
     "data": {
      "text/plain": [
       "LGBMClassifier(reg_alpha=0.01)"
      ]
     },
     "execution_count": 4,
     "metadata": {},
     "output_type": "execute_result"
    }
   ],
   "source": [
    "# best_pipeline is a grid search object with a pipeline within it\n",
    "# we need to index for the model itself \n",
    "best_model = best_pipeline.best_estimator_[\"model\"]\n",
    "best_model"
   ]
  },
  {
   "cell_type": "markdown",
   "id": "1467812d-09d3-4791-a2fd-c433c1edf04d",
   "metadata": {},
   "source": [
    "----\n",
    "### Post Modeling Analysis"
   ]
  },
  {
   "cell_type": "code",
   "execution_count": 5,
   "id": "ac540243-224c-4d0b-9a11-f52cf9af4c3d",
   "metadata": {},
   "outputs": [
    {
     "data": {
      "text/html": [
       "<div>\n",
       "<style scoped>\n",
       "    .dataframe tbody tr th:only-of-type {\n",
       "        vertical-align: middle;\n",
       "    }\n",
       "\n",
       "    .dataframe tbody tr th {\n",
       "        vertical-align: top;\n",
       "    }\n",
       "\n",
       "    .dataframe thead th {\n",
       "        text-align: right;\n",
       "    }\n",
       "</style>\n",
       "<table border=\"1\" class=\"dataframe\">\n",
       "  <thead>\n",
       "    <tr style=\"text-align: right;\">\n",
       "      <th></th>\n",
       "      <th>Accuracy</th>\n",
       "      <th>Precision</th>\n",
       "      <th>Recall</th>\n",
       "      <th>F1_Score</th>\n",
       "    </tr>\n",
       "  </thead>\n",
       "  <tbody>\n",
       "    <tr>\n",
       "      <th>LogisticRegression</th>\n",
       "      <td>0.8935</td>\n",
       "      <td>0.8463</td>\n",
       "      <td>0.7575</td>\n",
       "      <td>0.7994</td>\n",
       "    </tr>\n",
       "    <tr>\n",
       "      <th>RandomForestClassifier</th>\n",
       "      <td>0.9191</td>\n",
       "      <td>0.8984</td>\n",
       "      <td>0.8018</td>\n",
       "      <td>0.8474</td>\n",
       "    </tr>\n",
       "    <tr>\n",
       "      <th>LGBMClassifier</th>\n",
       "      <td>0.9272</td>\n",
       "      <td>0.8857</td>\n",
       "      <td>0.8497</td>\n",
       "      <td>0.8673</td>\n",
       "    </tr>\n",
       "  </tbody>\n",
       "</table>\n",
       "</div>"
      ],
      "text/plain": [
       "                        Accuracy  Precision  Recall  F1_Score\n",
       "LogisticRegression        0.8935     0.8463  0.7575    0.7994\n",
       "RandomForestClassifier    0.9191     0.8984  0.8018    0.8474\n",
       "LGBMClassifier            0.9272     0.8857  0.8497    0.8673"
      ]
     },
     "execution_count": 5,
     "metadata": {},
     "output_type": "execute_result"
    }
   ],
   "source": [
    "train_models.create_metric_df()"
   ]
  },
  {
   "cell_type": "code",
   "execution_count": 6,
   "id": "1cb172c4-57f9-4fdb-9b8e-be139f7552af",
   "metadata": {},
   "outputs": [
    {
     "data": {
      "text/html": [
       "<div>\n",
       "<style scoped>\n",
       "    .dataframe tbody tr th:only-of-type {\n",
       "        vertical-align: middle;\n",
       "    }\n",
       "\n",
       "    .dataframe tbody tr th {\n",
       "        vertical-align: top;\n",
       "    }\n",
       "\n",
       "    .dataframe thead th {\n",
       "        text-align: right;\n",
       "    }\n",
       "</style>\n",
       "<table border=\"1\" class=\"dataframe\">\n",
       "  <thead>\n",
       "    <tr style=\"text-align: right;\">\n",
       "      <th></th>\n",
       "      <th>Accuracy</th>\n",
       "      <th>Precision</th>\n",
       "      <th>Recall</th>\n",
       "      <th>F1_Score</th>\n",
       "      <th>New_Threshold</th>\n",
       "    </tr>\n",
       "  </thead>\n",
       "  <tbody>\n",
       "    <tr>\n",
       "      <th>LogisticRegression</th>\n",
       "      <td>0.8885</td>\n",
       "      <td>0.7735</td>\n",
       "      <td>0.8510</td>\n",
       "      <td>0.8104</td>\n",
       "      <td>0.3476</td>\n",
       "    </tr>\n",
       "    <tr>\n",
       "      <th>RandomForestClassifier</th>\n",
       "      <td>0.9233</td>\n",
       "      <td>0.8565</td>\n",
       "      <td>0.8722</td>\n",
       "      <td>0.8643</td>\n",
       "      <td>0.3910</td>\n",
       "    </tr>\n",
       "    <tr>\n",
       "      <th>LGBMClassifier</th>\n",
       "      <td>0.9269</td>\n",
       "      <td>0.8570</td>\n",
       "      <td>0.8871</td>\n",
       "      <td>0.8718</td>\n",
       "      <td>0.3792</td>\n",
       "    </tr>\n",
       "  </tbody>\n",
       "</table>\n",
       "</div>"
      ],
      "text/plain": [
       "                        Accuracy  Precision  Recall  F1_Score  New_Threshold\n",
       "LogisticRegression        0.8885     0.7735  0.8510    0.8104         0.3476\n",
       "RandomForestClassifier    0.9233     0.8565  0.8722    0.8643         0.3910\n",
       "LGBMClassifier            0.9269     0.8570  0.8871    0.8718         0.3792"
      ]
     },
     "execution_count": 6,
     "metadata": {},
     "output_type": "execute_result"
    }
   ],
   "source": [
    "train_models.create_metric_df(adj_threshold=True)"
   ]
  },
  {
   "cell_type": "code",
   "execution_count": 17,
   "id": "eaa6993f-e29c-4e76-aa07-2def137cf249",
   "metadata": {},
   "outputs": [
    {
     "data": {
      "image/png": "[encoded data removed]",
      "text/plain": [
       "<Figure size 720x360 with 1 Axes>"
      ]
     },
     "metadata": {
      "needs_background": "light"
     },
     "output_type": "display_data"
    }
   ],
   "source": [
    "# TODO: create plot that displays all model curves \n",
    "df_gbt_pre_rec = train_models.create_precision_recall_df(best_model, plot=False)\n",
    "\n",
    "x = \"recall\"\n",
    "y = \"precision\"\n",
    "title = \"Precision vs. Recall\"\n",
    "df_gbt_pre_rec.plot(x=x, \n",
    "                    y=y,\n",
    "                    grid=True, \n",
    "                    figsize=(10,5), \n",
    "                    title=title, \n",
    "                    ylabel=y, \n",
    "                    legend=False);"
   ]
  },
  {
   "cell_type": "code",
   "execution_count": 18,
   "id": "745fbb62-5474-456a-b285-e10eb2b8ed9d",
   "metadata": {},
   "outputs": [
    {
     "data": {
      "image/png": "[encoded data removed]",
      "text/plain": [
       "<Figure size 1800x360 with 1 Axes>"
      ]
     },
     "metadata": {
      "needs_background": "light"
     },
     "output_type": "display_data"
    }
   ],
   "source": [
    "df_feat_importance = train_models.create_feature_importance_df(best_model, prep_data.x_cols)\n",
    "\n",
    "title = \"Feature Importance in detecting Fraud\"\n",
    "df_feat_importance.sort_values(\"feat_imp\", ascending=False).plot(kind=\"bar\", grid=True, legend=True,\n",
    "                                                          figsize=(25, 5), use_index=True, title=title);"
   ]
  }
 ],
 "metadata": {
  "kernelspec": {
   "display_name": "Python 3",
   "language": "python",
   "name": "python3"
  },
  "language_info": {
   "codemirror_mode": {
    "name": "ipython",
    "version": 3
   },
   "file_extension": ".py",
   "mimetype": "text/x-python",
   "name": "python",
   "nbconvert_exporter": "python",
   "pygments_lexer": "ipython3",
   "version": "3.8.10"
  }
 },
 "nbformat": 4,
 "nbformat_minor": 5
}
