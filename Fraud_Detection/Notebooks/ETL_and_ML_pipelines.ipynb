{
 "cells": [
  {
   "cell_type": "code",
   "execution_count": 46,
   "id": "713c3d4f-19fb-490f-9e1a-e86ea5cb9508",
   "metadata": {},
   "outputs": [
    {
     "name": "stdout",
     "output_type": "stream",
     "text": [
      "The autoreload extension is already loaded. To reload it, use:\n",
      "  %reload_ext autoreload\n"
     ]
    }
   ],
   "source": [
    "%load_ext autoreload\n",
    "%autoreload 2\n",
    "%matplotlib inline\n",
    "\n",
    "# native tools\n",
    "import sys\n",
    "from copy import copy\n",
    "from collections import Counter\n",
    "from joblib import dump, load\n",
    "\n",
    "# for data analysis \n",
    "import numpy as np\n",
    "import pandas as pd\n",
    "import matplotlib.pyplot as plt\n",
    "\n",
    "# statistical testing\n",
    "from scipy.stats import ttest_ind\n",
    "\n",
    "# for feature selection\n",
    "from sklearn.feature_selection import VarianceThreshold\n",
    "\n",
    "# feature engineering \n",
    "from sklearn.decomposition import PCA\n",
    "from sklearn.preprocessing import StandardScaler\n",
    "\n",
    "# for outlier detection\n",
    "from sklearn.ensemble import IsolationForest\n",
    "from sklearn.svm import OneClassSVM\n",
    "\n",
    "# for imbalanced classes\n",
    "from imblearn.over_sampling import SMOTENC\n",
    "\n",
    "# linear models\n",
    "from sklearn.linear_model import LogisticRegression\n",
    "\n",
    "# non-linear models\n",
    "from sklearn.ensemble import RandomForestClassifier\n",
    "import lightgbm as lgb\n",
    "\n",
    "# modeling building tools\n",
    "from sklearn.pipeline import Pipeline\n",
    "from sklearn.compose import ColumnTransformer\n",
    "from sklearn.model_selection import GridSearchCV\n",
    "from sklearn.model_selection import train_test_split\n",
    "from keras.callbacks import EarlyStopping\n",
    "from sklearn.metrics import (accuracy_score, precision_score, recall_score, \n",
    "                             f1_score, precision_recall_curve, PrecisionRecallDisplay)\n",
    "\n",
    "\n",
    "# custom functions, classes, etc ... \n",
    "sys.path.append(\"../Scripts\")\n",
    "from deep_learning import BuildNeuralNetArchitecture\n",
    "from prep_data import PrepDataForModeling\n",
    "from train_models import TrainModels\n",
    "from tensorflow.keras.wrappers.scikit_learn import KerasClassifier\n",
    "\n",
    "from tensorflow import keras\n",
    "from tensorflow.keras import layers\n",
    "from kerastuner.tuners import RandomSearch, sklearn_tuner\n",
    "import kerastuner as kt"
   ]
  },
  {
   "cell_type": "markdown",
   "id": "e16181a1-ad22-44dd-b026-4dd6e68fa0b0",
   "metadata": {
    "tags": []
   },
   "source": [
    "----\n",
    "# ML Pipeline \n",
    "\n",
    "The purpose of this notebook to show how one can use the `PrepDataForModeling` ETL pipeline and the `TrainModels` ML pipeline classes to build several models and visualize results with a few lines of code. \n",
    "\n"
   ]
  },
  {
   "cell_type": "markdown",
   "id": "1f4879ed-fedb-440c-86f3-2361fb32463b",
   "metadata": {},
   "source": [
    "---\n",
    "\n",
    "## ETL Pipeline"
   ]
  },
  {
   "cell_type": "code",
   "execution_count": 79,
   "id": "7c3e914c-6ab7-4c10-94dd-664e0f19d9e3",
   "metadata": {},
   "outputs": [
    {
     "name": "stderr",
     "output_type": "stream",
     "text": [
      "INFO:root:Loading data from ../Data/fraud_detection_bank_dataset.csv\n",
      "INFO:root:Number of features dropped 51. Number of features remaining 62\n",
      "INFO:root:Using statistical_outlier_removal to remove outliers\n",
      "INFO:root:statistical_outlier_removal reduced sample size from 20468 to 16088\n",
      "INFO:root:Splitting data into training and test sets\n",
      "INFO:root:Using SMOTENC to balance out labels in train set only.\n",
      "INFO:root:Original imbalanced label count for training data Counter({0: 5788, 1: 2256})\n",
      "INFO:root:New balanced label count for training data Counter({0: 5788, 1: 5788})\n"
     ]
    }
   ],
   "source": [
    "data_path = \"../Data/fraud_detection_bank_dataset.csv\"\n",
    "prep_data = PrepDataForModeling(data_path, y_col='targets', test_size=0.50)\n",
    "\n",
    "X_train, y_train, X_test, y_test = prep_data.gen_model_ready_data(return_data=True)"
   ]
  },
  {
   "cell_type": "markdown",
   "id": "ad9f8f98-1d37-434f-b393-78e74ad142e4",
   "metadata": {},
   "source": [
    "### Keras Tuner Gridsearch"
   ]
  },
  {
   "cell_type": "code",
   "execution_count": 38,
   "id": "783172df-ad63-4e32-9b44-7a5ffe5b289e",
   "metadata": {},
   "outputs": [],
   "source": [
    "# def build_model(hp):\n",
    "    \n",
    "#     model = keras.Sequential()\n",
    "#     model.add(layers.Dense(units=hp.Int('units',\n",
    "#                                         min_value=32,\n",
    "#                                         max_value=512,\n",
    "#                                         step=32),\n",
    "                           \n",
    "#                            activation='relu'))\n",
    "    \n",
    "#     model.add(layers.Dense(1, \n",
    "#                            activation='sigmoid'))\n",
    "#     model.compile(\n",
    "#         optimizer=keras.optimizers.Adam(\n",
    "#             hp.Choice('learning_rate',\n",
    "#                       values=[1.0,0.1, 0.01, 0.001])),\n",
    "#         loss='binary_crossentropy',\n",
    "#         metrics=['accuracy'])\n",
    "    \n",
    "#     return model\n",
    "  \n",
    "def build_model(hp):\n",
    "    \n",
    "    model_type = hp.Choice('model_type', ['random_forest', 'ridge'])\n",
    "\n",
    "    if model_type == 'random_forest':\n",
    "\n",
    "        model = ensemble.RandomForestClassifier(\n",
    "                n_estimators=hp.Int('n_estimators', 10, 50, step=10),\n",
    "                max_depth=hp.Int('max_depth', 3, 10)\n",
    "            )\n",
    "    else:\n",
    "        \n",
    "        model = linear_model.RidgeClassifier(\n",
    "                alpha=hp.Float('alpha', 1e-3, 1, sampling='log')\n",
    "        )\n",
    "        \n",
    "    return model"
   ]
  },
  {
   "cell_type": "code",
   "execution_count": null,
   "id": "c9df8037-9b13-40bd-9993-f43dbf7c5589",
   "metadata": {},
   "outputs": [],
   "source": []
  },
  {
   "cell_type": "code",
   "execution_count": 65,
   "id": "1ca16edf-84e1-4b23-ac86-c06f81e1c6e6",
   "metadata": {},
   "outputs": [],
   "source": [
    "import kerastuner as kt\n",
    "from sklearn import ensemble\n",
    "from sklearn import datasets\n",
    "from sklearn import linear_model\n",
    "from sklearn import metrics\n",
    "from sklearn import model_selection\n",
    "from sklearn.model_selection import KFold"
   ]
  },
  {
   "cell_type": "code",
   "execution_count": 57,
   "id": "d46c5de8-a4fa-4d34-affc-f5a00e0278d7",
   "metadata": {},
   "outputs": [],
   "source": [
    "def build_model(hp):\n",
    "\n",
    "    model = ensemble.RandomForestClassifier(\n",
    "            n_estimators=hp.Int('n_estimators', 10, 50, step=10),\n",
    "            max_depth=hp.Int('max_depth', 3, 10))\n",
    "  \n",
    "    return model"
   ]
  },
  {
   "cell_type": "code",
   "execution_count": 97,
   "id": "05157cdc-a02a-482f-b230-cfb4917b5913",
   "metadata": {},
   "outputs": [],
   "source": [
    "\n",
    "max_trials = 10\n",
    "num_initial_points = 3\n",
    "seed = 1234\n",
    "\n",
    "# oracle = kt.BayesianOptimization(\n",
    "#     build_model,\n",
    "#     objective=\"val_accuracy\",\n",
    "#     max_trials=max_trials,\n",
    "#     num_initial_points=num_initial_points,\n",
    "#     alpha=0.0001,\n",
    "#     beta=2.6,\n",
    "#     seed=seed,\n",
    "#     # hyperparameters are included in hyper model\n",
    "#     hyperparameters=None,\n",
    "# )\n",
    "\n",
    "orc = kt.Oracle(kt.Objective('score', direction='max'))\n",
    "sklearn_tunner = kt.tuners.Sklearn(\n",
    "                 orc,\n",
    "                 build_model,\n",
    "                 scoring=\"accuracy\",\n",
    "                 metrics=\"accuracy\",\n",
    "                 cv=KFold(n_splits=3, random_state=1234, shuffle=True))"
   ]
  },
  {
   "cell_type": "code",
   "execution_count": 98,
   "id": "44fe9f03-86e6-4646-9849-7d87a463b257",
   "metadata": {},
   "outputs": [
    {
     "ename": "NotImplementedError",
     "evalue": "",
     "output_type": "error",
     "traceback": [
      "\u001b[0;31m---------------------------------------------------------------------------\u001b[0m",
      "\u001b[0;31mNotImplementedError\u001b[0m                       Traceback (most recent call last)",
      "\u001b[0;32m/var/folders/_b/bg10lw5s3qv87q59tkf0hsrc0000gn/T/ipykernel_2871/2293352697.py\u001b[0m in \u001b[0;36m<module>\u001b[0;34m\u001b[0m\n\u001b[0;32m----> 1\u001b[0;31m \u001b[0msklearn_tunner\u001b[0m\u001b[0;34m.\u001b[0m\u001b[0msearch\u001b[0m\u001b[0;34m(\u001b[0m\u001b[0mX_train\u001b[0m\u001b[0;34m,\u001b[0m \u001b[0my_train\u001b[0m\u001b[0;34m)\u001b[0m\u001b[0;34m\u001b[0m\u001b[0;34m\u001b[0m\u001b[0m\n\u001b[0m",
      "\u001b[0;32m~/opt/anaconda3/lib/python3.8/site-packages/kerastuner/tuners/sklearn_tuner.py\u001b[0m in \u001b[0;36msearch\u001b[0;34m(self, X, y, sample_weight, groups)\u001b[0m\n\u001b[1;32m    125\u001b[0m         \"\"\"\n\u001b[1;32m    126\u001b[0m         \u001b[0;31m# Only overridden for the docstring.\u001b[0m\u001b[0;34m\u001b[0m\u001b[0;34m\u001b[0m\u001b[0;34m\u001b[0m\u001b[0m\n\u001b[0;32m--> 127\u001b[0;31m         return super(Sklearn, self).search(\n\u001b[0m\u001b[1;32m    128\u001b[0m             X, y, sample_weight=sample_weight, groups=groups)\n\u001b[1;32m    129\u001b[0m \u001b[0;34m\u001b[0m\u001b[0m\n",
      "\u001b[0;32m~/opt/anaconda3/lib/python3.8/site-packages/kerastuner/engine/base_tuner.py\u001b[0m in \u001b[0;36msearch\u001b[0;34m(self, *fit_args, **fit_kwargs)\u001b[0m\n\u001b[1;32m    119\u001b[0m         \u001b[0mself\u001b[0m\u001b[0;34m.\u001b[0m\u001b[0mon_search_begin\u001b[0m\u001b[0;34m(\u001b[0m\u001b[0;34m)\u001b[0m\u001b[0;34m\u001b[0m\u001b[0;34m\u001b[0m\u001b[0m\n\u001b[1;32m    120\u001b[0m         \u001b[0;32mwhile\u001b[0m \u001b[0;32mTrue\u001b[0m\u001b[0;34m:\u001b[0m\u001b[0;34m\u001b[0m\u001b[0;34m\u001b[0m\u001b[0m\n\u001b[0;32m--> 121\u001b[0;31m             \u001b[0mtrial\u001b[0m \u001b[0;34m=\u001b[0m \u001b[0mself\u001b[0m\u001b[0;34m.\u001b[0m\u001b[0moracle\u001b[0m\u001b[0;34m.\u001b[0m\u001b[0mcreate_trial\u001b[0m\u001b[0;34m(\u001b[0m\u001b[0mself\u001b[0m\u001b[0;34m.\u001b[0m\u001b[0mtuner_id\u001b[0m\u001b[0;34m)\u001b[0m\u001b[0;34m\u001b[0m\u001b[0;34m\u001b[0m\u001b[0m\n\u001b[0m\u001b[1;32m    122\u001b[0m             \u001b[0;32mif\u001b[0m \u001b[0mtrial\u001b[0m\u001b[0;34m.\u001b[0m\u001b[0mstatus\u001b[0m \u001b[0;34m==\u001b[0m \u001b[0mtrial_module\u001b[0m\u001b[0;34m.\u001b[0m\u001b[0mTrialStatus\u001b[0m\u001b[0;34m.\u001b[0m\u001b[0mSTOPPED\u001b[0m\u001b[0;34m:\u001b[0m\u001b[0;34m\u001b[0m\u001b[0;34m\u001b[0m\u001b[0m\n\u001b[1;32m    123\u001b[0m                 \u001b[0;31m# Oracle triggered exit.\u001b[0m\u001b[0;34m\u001b[0m\u001b[0;34m\u001b[0m\u001b[0;34m\u001b[0m\u001b[0m\n",
      "\u001b[0;32m~/opt/anaconda3/lib/python3.8/site-packages/kerastuner/engine/oracle.py\u001b[0m in \u001b[0;36mcreate_trial\u001b[0;34m(self, tuner_id)\u001b[0m\n\u001b[1;32m    163\u001b[0m             \u001b[0mvalues\u001b[0m \u001b[0;34m=\u001b[0m \u001b[0;32mNone\u001b[0m\u001b[0;34m\u001b[0m\u001b[0;34m\u001b[0m\u001b[0m\n\u001b[1;32m    164\u001b[0m         \u001b[0;32melse\u001b[0m\u001b[0;34m:\u001b[0m\u001b[0;34m\u001b[0m\u001b[0;34m\u001b[0m\u001b[0m\n\u001b[0;32m--> 165\u001b[0;31m             \u001b[0mresponse\u001b[0m \u001b[0;34m=\u001b[0m \u001b[0mself\u001b[0m\u001b[0;34m.\u001b[0m\u001b[0m_populate_space\u001b[0m\u001b[0;34m(\u001b[0m\u001b[0mtrial_id\u001b[0m\u001b[0;34m)\u001b[0m\u001b[0;34m\u001b[0m\u001b[0;34m\u001b[0m\u001b[0m\n\u001b[0m\u001b[1;32m    166\u001b[0m             \u001b[0mstatus\u001b[0m \u001b[0;34m=\u001b[0m \u001b[0mresponse\u001b[0m\u001b[0;34m[\u001b[0m\u001b[0;34m'status'\u001b[0m\u001b[0;34m]\u001b[0m\u001b[0;34m\u001b[0m\u001b[0;34m\u001b[0m\u001b[0m\n\u001b[1;32m    167\u001b[0m             \u001b[0mvalues\u001b[0m \u001b[0;34m=\u001b[0m \u001b[0mresponse\u001b[0m\u001b[0;34m[\u001b[0m\u001b[0;34m'values'\u001b[0m\u001b[0;34m]\u001b[0m \u001b[0;32mif\u001b[0m \u001b[0;34m'values'\u001b[0m \u001b[0;32min\u001b[0m \u001b[0mresponse\u001b[0m \u001b[0;32melse\u001b[0m \u001b[0;32mNone\u001b[0m\u001b[0;34m\u001b[0m\u001b[0;34m\u001b[0m\u001b[0m\n",
      "\u001b[0;32m~/opt/anaconda3/lib/python3.8/site-packages/kerastuner/engine/oracle.py\u001b[0m in \u001b[0;36m_populate_space\u001b[0;34m(self, trial_id)\u001b[0m\n\u001b[1;32m    122\u001b[0m             of \"RUNNING\", \"IDLE\", or \"STOPPED\").\n\u001b[1;32m    123\u001b[0m         \"\"\"\n\u001b[0;32m--> 124\u001b[0;31m         \u001b[0;32mraise\u001b[0m \u001b[0mNotImplementedError\u001b[0m\u001b[0;34m\u001b[0m\u001b[0;34m\u001b[0m\u001b[0m\n\u001b[0m\u001b[1;32m    125\u001b[0m \u001b[0;34m\u001b[0m\u001b[0m\n\u001b[1;32m    126\u001b[0m     \u001b[0;32mdef\u001b[0m \u001b[0m_score_trial\u001b[0m\u001b[0;34m(\u001b[0m\u001b[0mself\u001b[0m\u001b[0;34m,\u001b[0m \u001b[0mtrial\u001b[0m\u001b[0;34m)\u001b[0m\u001b[0;34m:\u001b[0m\u001b[0;34m\u001b[0m\u001b[0;34m\u001b[0m\u001b[0m\n",
      "\u001b[0;31mNotImplementedError\u001b[0m: "
     ]
    }
   ],
   "source": [
    "sklearn_tunner.search(X_train, y_train)"
   ]
  },
  {
   "cell_type": "code",
   "execution_count": null,
   "id": "930cc231-90dc-4d72-8471-acef624d62b4",
   "metadata": {},
   "outputs": [],
   "source": []
  },
  {
   "cell_type": "code",
   "execution_count": null,
   "id": "54711cfe-3156-4867-9469-d40a28276174",
   "metadata": {},
   "outputs": [],
   "source": []
  },
  {
   "cell_type": "code",
   "execution_count": 120,
   "id": "e2fd1912-0259-402d-b56c-063658588fe2",
   "metadata": {},
   "outputs": [
    {
     "name": "stdout",
     "output_type": "stream",
     "text": [
      "Trial 10 Complete [00h 00m 02s]\n",
      "score: 0.9333333333333332\n",
      "\n",
      "Best score So Far: 0.9416666666666667\n",
      "Total elapsed time: 00h 00m 11s\n",
      "INFO:tensorflow:Oracle triggered exit\n"
     ]
    },
    {
     "name": "stderr",
     "output_type": "stream",
     "text": [
      "INFO:tensorflow:Oracle triggered exit\n"
     ]
    }
   ],
   "source": [
    "import kerastuner as kt\n",
    "from sklearn import ensemble\n",
    "from sklearn import datasets\n",
    "from sklearn import linear_model\n",
    "from sklearn import metrics\n",
    "from sklearn import model_selection\n",
    "\n",
    "def build_model(hp):\n",
    "    model_type = hp.Choice('model_type', ['random_forest', 'ridge'])\n",
    "    \n",
    "    if model_type == 'random_forest':\n",
    "        model = ensemble.RandomForestClassifier(\n",
    "            n_estimators=hp.Int('n_estimators', min_value=10, \n",
    "                                                max_value=1100, \n",
    "                                                step=100),\n",
    "            \n",
    "            max_depth=hp.Int('max_depth', min_value=3,\n",
    "                                          max_value=15,\n",
    "                                          step=2)\n",
    "        )\n",
    "        \n",
    "    else:\n",
    "        model = linear_model.RidgeClassifier(\n",
    "            alpha = hp.Choice('alpha',\n",
    "                    values=[10.0,1.0,0.1,0.01,0.001]))\n",
    "    return model\n",
    "\n",
    "tuner = kt.tuners.Sklearn(\n",
    "    oracle=kt.oracles.BayesianOptimization(\n",
    "        objective=kt.Objective('score', 'max'),\n",
    "        max_trials=10),\n",
    "    hypermodel=build_model,\n",
    "    scoring=metrics.make_scorer(metrics.accuracy_score),\n",
    "    cv=model_selection.StratifiedKFold(n_splits=5),\n",
    "    directory='./keras_tunner_runs',\n",
    "    project_name='credit_fraud_3')\n",
    "\n",
    "\n",
    "tuner.search(X_train, y_train)\n",
    "\n",
    "best_model = tuner.get_best_models(num_models=1)[0]"
   ]
  },
  {
   "cell_type": "code",
   "execution_count": 123,
   "id": "26b69db7-f6fe-49c2-aa82-f7c6d7024b2f",
   "metadata": {},
   "outputs": [
    {
     "name": "stdout",
     "output_type": "stream",
     "text": [
      "Search space summary\n",
      "Default search space size: 4\n",
      "model_type (Choice)\n",
      "{'default': 'random_forest', 'conditions': [], 'values': ['random_forest', 'ridge'], 'ordered': False}\n",
      "n_estimators (Int)\n",
      "{'default': None, 'conditions': [], 'min_value': 10, 'max_value': 1100, 'step': 100, 'sampling': None}\n",
      "max_depth (Int)\n",
      "{'default': None, 'conditions': [], 'min_value': 3, 'max_value': 15, 'step': 2, 'sampling': None}\n",
      "alpha (Choice)\n",
      "{'default': 10.0, 'conditions': [], 'values': [10.0, 1.0, 0.1, 0.01, 0.001], 'ordered': True}\n"
     ]
    }
   ],
   "source": [
    "tuner.search_space_summary()"
   ]
  },
  {
   "cell_type": "code",
   "execution_count": 124,
   "id": "5e2aa93c-a17e-49d4-a8c5-4777f2d06dc9",
   "metadata": {},
   "outputs": [
    {
     "data": {
      "text/plain": [
       "RandomForestClassifier(max_depth=7, n_estimators=910)"
      ]
     },
     "execution_count": 124,
     "metadata": {},
     "output_type": "execute_result"
    }
   ],
   "source": [
    "best_model"
   ]
  },
  {
   "cell_type": "code",
   "execution_count": null,
   "id": "e9c85ca7-f4d3-4d67-bc72-67f1964e3c1d",
   "metadata": {},
   "outputs": [],
   "source": []
  },
  {
   "cell_type": "markdown",
   "id": "810ad797-d36f-4651-a369-508c12bf05ce",
   "metadata": {},
   "source": [
    "---\n",
    "## ML Pipeline"
   ]
  },
  {
   "cell_type": "code",
   "execution_count": null,
   "id": "2236b842-b72a-40b0-b457-efe55a4399c9",
   "metadata": {},
   "outputs": [],
   "source": [
    "# DITCH SKLEARN WARPPER AND USE KERAS TUNNER "
   ]
  },
  {
   "cell_type": "code",
   "execution_count": 3,
   "id": "a2d976cb-e862-48a8-a98d-e7acbbfed4cb",
   "metadata": {
    "tags": []
   },
   "outputs": [
    {
     "name": "stderr",
     "output_type": "stream",
     "text": [
      "INFO:root:Building data transformer portion of the pipeline...\n",
      "INFO:root:Training LogisticRegression ...\n"
     ]
    },
    {
     "name": "stdout",
     "output_type": "stream",
     "text": [
      "Fitting 3 folds for each of 2 candidates, totalling 6 fits\n"
     ]
    },
    {
     "name": "stderr",
     "output_type": "stream",
     "text": [
      "INFO:root:Logging LogisticRegression as best performing model.\n",
      "INFO:root:Best LogisticRegression has test score 0.8834\n",
      "INFO:root:Training dense_network ...\n"
     ]
    },
    {
     "name": "stdout",
     "output_type": "stream",
     "text": [
      "Fitting 3 folds for each of 1 candidates, totalling 3 fits\n"
     ]
    },
    {
     "ename": "ValueError",
     "evalue": "Invalid parameter activation for estimator Pipeline(steps=[('preprocessor',\n                 ColumnTransformer(remainder='passthrough',\n                                   transformers=[('num',\n                                                  Pipeline(steps=[('scaler',\n                                                                   StandardScaler())]),\n                                                  array([ True,  True,  True,  True,  True,  True,  True,  True, False,\n       False, False,  True,  True,  True,  True,  True,  True,  True,\n        True,  True,  True,  True,  True,  True,  True,  True,  True,\n        True,  True,  True,  True,  True,  True,  True,  True,  True,\n        True,  True,  True,  True, False,  True,  True,  True,  True,\n        True,  True,  True,  True,  True,  True,  True, False, False,\n       False, False,  True, False, False, False,  True]))])),\n                ('model',\n                 <tensorflow.python.keras.wrappers.scikit_learn.KerasClassifier object at 0x7fdd94a8b790>)]). Check the list of available parameters with `estimator.get_params().keys()`.",
     "output_type": "error",
     "traceback": [
      "\u001b[0;31m---------------------------------------------------------------------------\u001b[0m",
      "\u001b[0;31mValueError\u001b[0m                                Traceback (most recent call last)",
      "\u001b[0;32m/var/folders/_b/bg10lw5s3qv87q59tkf0hsrc0000gn/T/ipykernel_1021/1723467109.py\u001b[0m in \u001b[0;36m<module>\u001b[0;34m\u001b[0m\n\u001b[1;32m     17\u001b[0m \u001b[0;34m\u001b[0m\u001b[0m\n\u001b[1;32m     18\u001b[0m \u001b[0;31m#Performs a grid search for each pipeline object\u001b[0m\u001b[0;34m\u001b[0m\u001b[0;34m\u001b[0m\u001b[0;34m\u001b[0m\u001b[0m\n\u001b[0;32m---> 19\u001b[0;31m \u001b[0mtrain_models\u001b[0m\u001b[0;34m.\u001b[0m\u001b[0mgrid_search_models\u001b[0m\u001b[0;34m(\u001b[0m\u001b[0mmodel_list\u001b[0m\u001b[0;34m)\u001b[0m\u001b[0;34m\u001b[0m\u001b[0;34m\u001b[0m\u001b[0m\n\u001b[0m\u001b[1;32m     20\u001b[0m \u001b[0;34m\u001b[0m\u001b[0m\n\u001b[1;32m     21\u001b[0m \u001b[0mbest_pipeline\u001b[0m \u001b[0;34m=\u001b[0m \u001b[0mtrain_models\u001b[0m\u001b[0;34m.\u001b[0m\u001b[0mreturn_best_pipeline\u001b[0m\u001b[0;34m(\u001b[0m\u001b[0;34m)\u001b[0m\u001b[0;34m\u001b[0m\u001b[0;34m\u001b[0m\u001b[0m\n",
      "\u001b[0;32m~/Portfolio/Fraud_Detection/Notebooks/../Scripts/train_models.py\u001b[0m in \u001b[0;36mgrid_search_models\u001b[0;34m(self, model_list)\u001b[0m\n\u001b[1;32m    269\u001b[0m             \u001b[0mlogging\u001b[0m\u001b[0;34m.\u001b[0m\u001b[0minfo\u001b[0m\u001b[0;34m(\u001b[0m\u001b[0mmsg\u001b[0m\u001b[0;34m)\u001b[0m\u001b[0;34m\u001b[0m\u001b[0;34m\u001b[0m\u001b[0m\n\u001b[1;32m    270\u001b[0m \u001b[0;34m\u001b[0m\u001b[0m\n\u001b[0;32m--> 271\u001b[0;31m             \u001b[0mself\u001b[0m\u001b[0;34m.\u001b[0m\u001b[0mgrid_search_model\u001b[0m\u001b[0;34m(\u001b[0m\u001b[0mmodel\u001b[0m\u001b[0;34m,\u001b[0m \u001b[0mmodel_name\u001b[0m\u001b[0;34m,\u001b[0m \u001b[0mparam_dict\u001b[0m\u001b[0;34m)\u001b[0m\u001b[0;34m\u001b[0m\u001b[0;34m\u001b[0m\u001b[0m\n\u001b[0m\u001b[1;32m    272\u001b[0m \u001b[0;34m\u001b[0m\u001b[0m\n\u001b[1;32m    273\u001b[0m     \u001b[0;32mdef\u001b[0m \u001b[0mlog_best_scoring_pipeline\u001b[0m\u001b[0;34m(\u001b[0m\u001b[0mself\u001b[0m\u001b[0;34m,\u001b[0m \u001b[0mmodel_name\u001b[0m\u001b[0;34m,\u001b[0m \u001b[0mtest_score\u001b[0m\u001b[0;34m)\u001b[0m\u001b[0;34m:\u001b[0m\u001b[0;34m\u001b[0m\u001b[0;34m\u001b[0m\u001b[0m\n",
      "\u001b[0;32m~/Portfolio/Fraud_Detection/Notebooks/../Scripts/train_models.py\u001b[0m in \u001b[0;36mgrid_search_model\u001b[0;34m(self, model, model_name, params)\u001b[0m\n\u001b[1;32m    224\u001b[0m \u001b[0;34m\u001b[0m\u001b[0m\n\u001b[1;32m    225\u001b[0m         \u001b[0;31m# run grid search\u001b[0m\u001b[0;34m\u001b[0m\u001b[0;34m\u001b[0m\u001b[0;34m\u001b[0m\u001b[0m\n\u001b[0;32m--> 226\u001b[0;31m         \u001b[0mgs\u001b[0m\u001b[0;34m.\u001b[0m\u001b[0mfit\u001b[0m\u001b[0;34m(\u001b[0m\u001b[0mself\u001b[0m\u001b[0;34m.\u001b[0m\u001b[0mx_train\u001b[0m\u001b[0;34m,\u001b[0m \u001b[0mself\u001b[0m\u001b[0;34m.\u001b[0m\u001b[0my_train\u001b[0m\u001b[0;34m)\u001b[0m\u001b[0;34m\u001b[0m\u001b[0;34m\u001b[0m\u001b[0m\n\u001b[0m\u001b[1;32m    227\u001b[0m \u001b[0;34m\u001b[0m\u001b[0m\n\u001b[1;32m    228\u001b[0m         \u001b[0;31m# get results\u001b[0m\u001b[0;34m\u001b[0m\u001b[0;34m\u001b[0m\u001b[0;34m\u001b[0m\u001b[0m\n",
      "\u001b[0;32m~/opt/anaconda3/lib/python3.8/site-packages/sklearn/utils/validation.py\u001b[0m in \u001b[0;36minner_f\u001b[0;34m(*args, **kwargs)\u001b[0m\n\u001b[1;32m     61\u001b[0m             \u001b[0mextra_args\u001b[0m \u001b[0;34m=\u001b[0m \u001b[0mlen\u001b[0m\u001b[0;34m(\u001b[0m\u001b[0margs\u001b[0m\u001b[0;34m)\u001b[0m \u001b[0;34m-\u001b[0m \u001b[0mlen\u001b[0m\u001b[0;34m(\u001b[0m\u001b[0mall_args\u001b[0m\u001b[0;34m)\u001b[0m\u001b[0;34m\u001b[0m\u001b[0;34m\u001b[0m\u001b[0m\n\u001b[1;32m     62\u001b[0m             \u001b[0;32mif\u001b[0m \u001b[0mextra_args\u001b[0m \u001b[0;34m<=\u001b[0m \u001b[0;36m0\u001b[0m\u001b[0;34m:\u001b[0m\u001b[0;34m\u001b[0m\u001b[0;34m\u001b[0m\u001b[0m\n\u001b[0;32m---> 63\u001b[0;31m                 \u001b[0;32mreturn\u001b[0m \u001b[0mf\u001b[0m\u001b[0;34m(\u001b[0m\u001b[0;34m*\u001b[0m\u001b[0margs\u001b[0m\u001b[0;34m,\u001b[0m \u001b[0;34m**\u001b[0m\u001b[0mkwargs\u001b[0m\u001b[0;34m)\u001b[0m\u001b[0;34m\u001b[0m\u001b[0;34m\u001b[0m\u001b[0m\n\u001b[0m\u001b[1;32m     64\u001b[0m \u001b[0;34m\u001b[0m\u001b[0m\n\u001b[1;32m     65\u001b[0m             \u001b[0;31m# extra_args > 0\u001b[0m\u001b[0;34m\u001b[0m\u001b[0;34m\u001b[0m\u001b[0;34m\u001b[0m\u001b[0m\n",
      "\u001b[0;32m~/opt/anaconda3/lib/python3.8/site-packages/sklearn/model_selection/_search.py\u001b[0m in \u001b[0;36mfit\u001b[0;34m(self, X, y, groups, **fit_params)\u001b[0m\n\u001b[1;32m    839\u001b[0m                 \u001b[0;32mreturn\u001b[0m \u001b[0mresults\u001b[0m\u001b[0;34m\u001b[0m\u001b[0;34m\u001b[0m\u001b[0m\n\u001b[1;32m    840\u001b[0m \u001b[0;34m\u001b[0m\u001b[0m\n\u001b[0;32m--> 841\u001b[0;31m             \u001b[0mself\u001b[0m\u001b[0;34m.\u001b[0m\u001b[0m_run_search\u001b[0m\u001b[0;34m(\u001b[0m\u001b[0mevaluate_candidates\u001b[0m\u001b[0;34m)\u001b[0m\u001b[0;34m\u001b[0m\u001b[0;34m\u001b[0m\u001b[0m\n\u001b[0m\u001b[1;32m    842\u001b[0m \u001b[0;34m\u001b[0m\u001b[0m\n\u001b[1;32m    843\u001b[0m             \u001b[0;31m# multimetric is determined here because in the case of a callable\u001b[0m\u001b[0;34m\u001b[0m\u001b[0;34m\u001b[0m\u001b[0;34m\u001b[0m\u001b[0m\n",
      "\u001b[0;32m~/opt/anaconda3/lib/python3.8/site-packages/sklearn/model_selection/_search.py\u001b[0m in \u001b[0;36m_run_search\u001b[0;34m(self, evaluate_candidates)\u001b[0m\n\u001b[1;32m   1294\u001b[0m     \u001b[0;32mdef\u001b[0m \u001b[0m_run_search\u001b[0m\u001b[0;34m(\u001b[0m\u001b[0mself\u001b[0m\u001b[0;34m,\u001b[0m \u001b[0mevaluate_candidates\u001b[0m\u001b[0;34m)\u001b[0m\u001b[0;34m:\u001b[0m\u001b[0;34m\u001b[0m\u001b[0;34m\u001b[0m\u001b[0m\n\u001b[1;32m   1295\u001b[0m         \u001b[0;34m\"\"\"Search all candidates in param_grid\"\"\"\u001b[0m\u001b[0;34m\u001b[0m\u001b[0;34m\u001b[0m\u001b[0m\n\u001b[0;32m-> 1296\u001b[0;31m         \u001b[0mevaluate_candidates\u001b[0m\u001b[0;34m(\u001b[0m\u001b[0mParameterGrid\u001b[0m\u001b[0;34m(\u001b[0m\u001b[0mself\u001b[0m\u001b[0;34m.\u001b[0m\u001b[0mparam_grid\u001b[0m\u001b[0;34m)\u001b[0m\u001b[0;34m)\u001b[0m\u001b[0;34m\u001b[0m\u001b[0;34m\u001b[0m\u001b[0m\n\u001b[0m\u001b[1;32m   1297\u001b[0m \u001b[0;34m\u001b[0m\u001b[0m\n\u001b[1;32m   1298\u001b[0m \u001b[0;34m\u001b[0m\u001b[0m\n",
      "\u001b[0;32m~/opt/anaconda3/lib/python3.8/site-packages/sklearn/model_selection/_search.py\u001b[0m in \u001b[0;36mevaluate_candidates\u001b[0;34m(candidate_params, cv, more_results)\u001b[0m\n\u001b[1;32m    793\u001b[0m                               n_splits, n_candidates, n_candidates * n_splits))\n\u001b[1;32m    794\u001b[0m \u001b[0;34m\u001b[0m\u001b[0m\n\u001b[0;32m--> 795\u001b[0;31m                 out = parallel(delayed(_fit_and_score)(clone(base_estimator),\n\u001b[0m\u001b[1;32m    796\u001b[0m                                                        \u001b[0mX\u001b[0m\u001b[0;34m,\u001b[0m \u001b[0my\u001b[0m\u001b[0;34m,\u001b[0m\u001b[0;34m\u001b[0m\u001b[0;34m\u001b[0m\u001b[0m\n\u001b[1;32m    797\u001b[0m                                                        \u001b[0mtrain\u001b[0m\u001b[0;34m=\u001b[0m\u001b[0mtrain\u001b[0m\u001b[0;34m,\u001b[0m \u001b[0mtest\u001b[0m\u001b[0;34m=\u001b[0m\u001b[0mtest\u001b[0m\u001b[0;34m,\u001b[0m\u001b[0;34m\u001b[0m\u001b[0;34m\u001b[0m\u001b[0m\n",
      "\u001b[0;32m~/opt/anaconda3/lib/python3.8/site-packages/joblib/parallel.py\u001b[0m in \u001b[0;36m__call__\u001b[0;34m(self, iterable)\u001b[0m\n\u001b[1;32m   1052\u001b[0m \u001b[0;34m\u001b[0m\u001b[0m\n\u001b[1;32m   1053\u001b[0m             \u001b[0;32mwith\u001b[0m \u001b[0mself\u001b[0m\u001b[0;34m.\u001b[0m\u001b[0m_backend\u001b[0m\u001b[0;34m.\u001b[0m\u001b[0mretrieval_context\u001b[0m\u001b[0;34m(\u001b[0m\u001b[0;34m)\u001b[0m\u001b[0;34m:\u001b[0m\u001b[0;34m\u001b[0m\u001b[0;34m\u001b[0m\u001b[0m\n\u001b[0;32m-> 1054\u001b[0;31m                 \u001b[0mself\u001b[0m\u001b[0;34m.\u001b[0m\u001b[0mretrieve\u001b[0m\u001b[0;34m(\u001b[0m\u001b[0;34m)\u001b[0m\u001b[0;34m\u001b[0m\u001b[0;34m\u001b[0m\u001b[0m\n\u001b[0m\u001b[1;32m   1055\u001b[0m             \u001b[0;31m# Make sure that we get a last message telling us we are done\u001b[0m\u001b[0;34m\u001b[0m\u001b[0;34m\u001b[0m\u001b[0;34m\u001b[0m\u001b[0m\n\u001b[1;32m   1056\u001b[0m             \u001b[0melapsed_time\u001b[0m \u001b[0;34m=\u001b[0m \u001b[0mtime\u001b[0m\u001b[0;34m.\u001b[0m\u001b[0mtime\u001b[0m\u001b[0;34m(\u001b[0m\u001b[0;34m)\u001b[0m \u001b[0;34m-\u001b[0m \u001b[0mself\u001b[0m\u001b[0;34m.\u001b[0m\u001b[0m_start_time\u001b[0m\u001b[0;34m\u001b[0m\u001b[0;34m\u001b[0m\u001b[0m\n",
      "\u001b[0;32m~/opt/anaconda3/lib/python3.8/site-packages/joblib/parallel.py\u001b[0m in \u001b[0;36mretrieve\u001b[0;34m(self)\u001b[0m\n\u001b[1;32m    931\u001b[0m             \u001b[0;32mtry\u001b[0m\u001b[0;34m:\u001b[0m\u001b[0;34m\u001b[0m\u001b[0;34m\u001b[0m\u001b[0m\n\u001b[1;32m    932\u001b[0m                 \u001b[0;32mif\u001b[0m \u001b[0mgetattr\u001b[0m\u001b[0;34m(\u001b[0m\u001b[0mself\u001b[0m\u001b[0;34m.\u001b[0m\u001b[0m_backend\u001b[0m\u001b[0;34m,\u001b[0m \u001b[0;34m'supports_timeout'\u001b[0m\u001b[0;34m,\u001b[0m \u001b[0;32mFalse\u001b[0m\u001b[0;34m)\u001b[0m\u001b[0;34m:\u001b[0m\u001b[0;34m\u001b[0m\u001b[0;34m\u001b[0m\u001b[0m\n\u001b[0;32m--> 933\u001b[0;31m                     \u001b[0mself\u001b[0m\u001b[0;34m.\u001b[0m\u001b[0m_output\u001b[0m\u001b[0;34m.\u001b[0m\u001b[0mextend\u001b[0m\u001b[0;34m(\u001b[0m\u001b[0mjob\u001b[0m\u001b[0;34m.\u001b[0m\u001b[0mget\u001b[0m\u001b[0;34m(\u001b[0m\u001b[0mtimeout\u001b[0m\u001b[0;34m=\u001b[0m\u001b[0mself\u001b[0m\u001b[0;34m.\u001b[0m\u001b[0mtimeout\u001b[0m\u001b[0;34m)\u001b[0m\u001b[0;34m)\u001b[0m\u001b[0;34m\u001b[0m\u001b[0;34m\u001b[0m\u001b[0m\n\u001b[0m\u001b[1;32m    934\u001b[0m                 \u001b[0;32melse\u001b[0m\u001b[0;34m:\u001b[0m\u001b[0;34m\u001b[0m\u001b[0;34m\u001b[0m\u001b[0m\n\u001b[1;32m    935\u001b[0m                     \u001b[0mself\u001b[0m\u001b[0;34m.\u001b[0m\u001b[0m_output\u001b[0m\u001b[0;34m.\u001b[0m\u001b[0mextend\u001b[0m\u001b[0;34m(\u001b[0m\u001b[0mjob\u001b[0m\u001b[0;34m.\u001b[0m\u001b[0mget\u001b[0m\u001b[0;34m(\u001b[0m\u001b[0;34m)\u001b[0m\u001b[0;34m)\u001b[0m\u001b[0;34m\u001b[0m\u001b[0;34m\u001b[0m\u001b[0m\n",
      "\u001b[0;32m~/opt/anaconda3/lib/python3.8/site-packages/joblib/_parallel_backends.py\u001b[0m in \u001b[0;36mwrap_future_result\u001b[0;34m(future, timeout)\u001b[0m\n\u001b[1;32m    540\u001b[0m         AsyncResults.get from multiprocessing.\"\"\"\n\u001b[1;32m    541\u001b[0m         \u001b[0;32mtry\u001b[0m\u001b[0;34m:\u001b[0m\u001b[0;34m\u001b[0m\u001b[0;34m\u001b[0m\u001b[0m\n\u001b[0;32m--> 542\u001b[0;31m             \u001b[0;32mreturn\u001b[0m \u001b[0mfuture\u001b[0m\u001b[0;34m.\u001b[0m\u001b[0mresult\u001b[0m\u001b[0;34m(\u001b[0m\u001b[0mtimeout\u001b[0m\u001b[0;34m=\u001b[0m\u001b[0mtimeout\u001b[0m\u001b[0;34m)\u001b[0m\u001b[0;34m\u001b[0m\u001b[0;34m\u001b[0m\u001b[0m\n\u001b[0m\u001b[1;32m    543\u001b[0m         \u001b[0;32mexcept\u001b[0m \u001b[0mCfTimeoutError\u001b[0m \u001b[0;32mas\u001b[0m \u001b[0me\u001b[0m\u001b[0;34m:\u001b[0m\u001b[0;34m\u001b[0m\u001b[0;34m\u001b[0m\u001b[0m\n\u001b[1;32m    544\u001b[0m             \u001b[0;32mraise\u001b[0m \u001b[0mTimeoutError\u001b[0m \u001b[0;32mfrom\u001b[0m \u001b[0me\u001b[0m\u001b[0;34m\u001b[0m\u001b[0;34m\u001b[0m\u001b[0m\n",
      "\u001b[0;32m~/opt/anaconda3/lib/python3.8/concurrent/futures/_base.py\u001b[0m in \u001b[0;36mresult\u001b[0;34m(self, timeout)\u001b[0m\n\u001b[1;32m    442\u001b[0m                     \u001b[0;32mraise\u001b[0m \u001b[0mCancelledError\u001b[0m\u001b[0;34m(\u001b[0m\u001b[0;34m)\u001b[0m\u001b[0;34m\u001b[0m\u001b[0;34m\u001b[0m\u001b[0m\n\u001b[1;32m    443\u001b[0m                 \u001b[0;32melif\u001b[0m \u001b[0mself\u001b[0m\u001b[0;34m.\u001b[0m\u001b[0m_state\u001b[0m \u001b[0;34m==\u001b[0m \u001b[0mFINISHED\u001b[0m\u001b[0;34m:\u001b[0m\u001b[0;34m\u001b[0m\u001b[0;34m\u001b[0m\u001b[0m\n\u001b[0;32m--> 444\u001b[0;31m                     \u001b[0;32mreturn\u001b[0m \u001b[0mself\u001b[0m\u001b[0;34m.\u001b[0m\u001b[0m__get_result\u001b[0m\u001b[0;34m(\u001b[0m\u001b[0;34m)\u001b[0m\u001b[0;34m\u001b[0m\u001b[0;34m\u001b[0m\u001b[0m\n\u001b[0m\u001b[1;32m    445\u001b[0m                 \u001b[0;32melse\u001b[0m\u001b[0;34m:\u001b[0m\u001b[0;34m\u001b[0m\u001b[0;34m\u001b[0m\u001b[0m\n\u001b[1;32m    446\u001b[0m                     \u001b[0;32mraise\u001b[0m \u001b[0mTimeoutError\u001b[0m\u001b[0;34m(\u001b[0m\u001b[0;34m)\u001b[0m\u001b[0;34m\u001b[0m\u001b[0;34m\u001b[0m\u001b[0m\n",
      "\u001b[0;32m~/opt/anaconda3/lib/python3.8/concurrent/futures/_base.py\u001b[0m in \u001b[0;36m__get_result\u001b[0;34m(self)\u001b[0m\n\u001b[1;32m    387\u001b[0m         \u001b[0;32mif\u001b[0m \u001b[0mself\u001b[0m\u001b[0;34m.\u001b[0m\u001b[0m_exception\u001b[0m\u001b[0;34m:\u001b[0m\u001b[0;34m\u001b[0m\u001b[0;34m\u001b[0m\u001b[0m\n\u001b[1;32m    388\u001b[0m             \u001b[0;32mtry\u001b[0m\u001b[0;34m:\u001b[0m\u001b[0;34m\u001b[0m\u001b[0;34m\u001b[0m\u001b[0m\n\u001b[0;32m--> 389\u001b[0;31m                 \u001b[0;32mraise\u001b[0m \u001b[0mself\u001b[0m\u001b[0;34m.\u001b[0m\u001b[0m_exception\u001b[0m\u001b[0;34m\u001b[0m\u001b[0;34m\u001b[0m\u001b[0m\n\u001b[0m\u001b[1;32m    390\u001b[0m             \u001b[0;32mfinally\u001b[0m\u001b[0;34m:\u001b[0m\u001b[0;34m\u001b[0m\u001b[0;34m\u001b[0m\u001b[0m\n\u001b[1;32m    391\u001b[0m                 \u001b[0;31m# Break a reference cycle with the exception in self._exception\u001b[0m\u001b[0;34m\u001b[0m\u001b[0;34m\u001b[0m\u001b[0;34m\u001b[0m\u001b[0m\n",
      "\u001b[0;31mValueError\u001b[0m: Invalid parameter activation for estimator Pipeline(steps=[('preprocessor',\n                 ColumnTransformer(remainder='passthrough',\n                                   transformers=[('num',\n                                                  Pipeline(steps=[('scaler',\n                                                                   StandardScaler())]),\n                                                  array([ True,  True,  True,  True,  True,  True,  True,  True, False,\n       False, False,  True,  True,  True,  True,  True,  True,  True,\n        True,  True,  True,  True,  True,  True,  True,  True,  True,\n        True,  True,  True,  True,  True,  True,  True,  True,  True,\n        True,  True,  True,  True, False,  True,  True,  True,  True,\n        True,  True,  True,  True,  True,  True,  True, False, False,\n       False, False,  True, False, False, False,  True]))])),\n                ('model',\n                 <tensorflow.python.keras.wrappers.scikit_learn.KerasClassifier object at 0x7fdd94a8b790>)]). Check the list of available parameters with `estimator.get_params().keys()`."
     ]
    }
   ],
   "source": [
    "# model_list = [\"LogisticRegression\", \n",
    "#               \"RandomForestClassifier\",\n",
    "#               \"LGBMClassifier\"\n",
    "#               ]\n",
    "\n",
    "model_list = [\"LogisticRegression\", \n",
    "                \"dense_network\"\n",
    "              ]\n",
    "\n",
    "train_models = TrainModels(X_train, \n",
    "                           y_train, \n",
    "                           X_test, \n",
    "                           y_test)\n",
    "\n",
    "# Creates a data transform pipeline that handels categorical and numerical features differently\n",
    "train_models.create_transform_portion_of_pipeline(prep_data.df)\n",
    "\n",
    "#Performs a grid search for each pipeline object\n",
    "train_models.grid_search_models(model_list)\n",
    "\n",
    "best_pipeline = train_models.return_best_pipeline()"
   ]
  },
  {
   "cell_type": "markdown",
   "id": "1467812d-09d3-4791-a2fd-c433c1edf04d",
   "metadata": {},
   "source": [
    "----\n",
    "# Post Modeling Analysis\n",
    "\n",
    "### Naive Accuracy\n",
    "\n",
    "One way to know if our ML model's perdictions are any good is to compare their predictions with a naive baseline. \n",
    "The easiest and most intuitve baseline to create for classification models is a naive accuracy. \n",
    "\n",
    "Create a naive accuracy by calculating the percentage of samples that belong to the majority class in the test set (not fraud). This is the accuracy that we can expect if we were to just assume that all samples belong to the majority class. We would an accuracy far higher than 50% however we wouldn't actually be identifying any of the fraud cases this way. \n",
    "\n",
    "Let's see if our ML models produce an accuracy that is above this base line for comparison. "
   ]
  },
  {
   "cell_type": "code",
   "execution_count": 80,
   "id": "885538bb-db92-450f-9370-bb066418ffc0",
   "metadata": {},
   "outputs": [
    {
     "data": {
      "text/html": [
       "<div>\n",
       "<style scoped>\n",
       "    .dataframe tbody tr th:only-of-type {\n",
       "        vertical-align: middle;\n",
       "    }\n",
       "\n",
       "    .dataframe tbody tr th {\n",
       "        vertical-align: top;\n",
       "    }\n",
       "\n",
       "    .dataframe thead th {\n",
       "        text-align: right;\n",
       "    }\n",
       "</style>\n",
       "<table border=\"1\" class=\"dataframe\">\n",
       "  <thead>\n",
       "    <tr style=\"text-align: right;\">\n",
       "      <th></th>\n",
       "      <th>Accuracy</th>\n",
       "      <th>Precision</th>\n",
       "      <th>Recall</th>\n",
       "      <th>F1_Score</th>\n",
       "    </tr>\n",
       "  </thead>\n",
       "  <tbody>\n",
       "    <tr>\n",
       "      <th>LogisticRegression</th>\n",
       "      <td>0.8921</td>\n",
       "      <td>0.7704</td>\n",
       "      <td>0.8604</td>\n",
       "      <td>0.8129</td>\n",
       "    </tr>\n",
       "    <tr>\n",
       "      <th>RandomForestClassifier</th>\n",
       "      <td>0.9304</td>\n",
       "      <td>0.8856</td>\n",
       "      <td>0.8549</td>\n",
       "      <td>0.8700</td>\n",
       "    </tr>\n",
       "    <tr>\n",
       "      <th>LGBMClassifier</th>\n",
       "      <td>0.9331</td>\n",
       "      <td>0.8769</td>\n",
       "      <td>0.8777</td>\n",
       "      <td>0.8773</td>\n",
       "    </tr>\n",
       "    <tr>\n",
       "      <th>Naive Baseline</th>\n",
       "      <td>0.7275</td>\n",
       "      <td>NaN</td>\n",
       "      <td>NaN</td>\n",
       "      <td>NaN</td>\n",
       "    </tr>\n",
       "  </tbody>\n",
       "</table>\n",
       "</div>"
      ],
      "text/plain": [
       "                        Accuracy  Precision  Recall  F1_Score\n",
       "LogisticRegression        0.8921     0.7704  0.8604    0.8129\n",
       "RandomForestClassifier    0.9304     0.8856  0.8549    0.8700\n",
       "LGBMClassifier            0.9331     0.8769  0.8777    0.8773\n",
       "Naive Baseline            0.7275        NaN     NaN       NaN"
      ]
     },
     "execution_count": 80,
     "metadata": {},
     "output_type": "execute_result"
    }
   ],
   "source": [
    "train_models.create_metric_df()"
   ]
  },
  {
   "cell_type": "markdown",
   "id": "44729dab-7971-4f42-962e-449cd4ac46a7",
   "metadata": {},
   "source": [
    "### Adjust the Classification Threshold\n",
    "\n",
    "Binary classification models predict a value ranging from 0.0 to 1.0 which can be interpreted as a probability of class membership. \n",
    "\n",
    "If probability is above 0.5, then sample is assigned to the positive class (fraud). \n",
    "\n",
    "If probability is below 0.5, then sample is assigned to the negative class (no fraud). \n",
    "\n",
    "By changing the classification threshold to a value other than 0.5, we can change the model scores with respect to Precision and Recall. \n",
    "\n",
    "This is important because sometimes we prefer to minimize False Positive over False Negatives or vice versa. \n",
    "\n",
    "The `adj_threshold` parameter shows the results if we adjust the classification threshold to try to balance the Precision and Recall scores. \n",
    "\n",
    "Notice how there is now a `New_Threshold` column shows the new classification threshold that is responsible for the adjusted Precision and Recall scores. "
   ]
  },
  {
   "cell_type": "code",
   "execution_count": 81,
   "id": "1cb172c4-57f9-4fdb-9b8e-be139f7552af",
   "metadata": {},
   "outputs": [
    {
     "data": {
      "text/html": [
       "<div>\n",
       "<style scoped>\n",
       "    .dataframe tbody tr th:only-of-type {\n",
       "        vertical-align: middle;\n",
       "    }\n",
       "\n",
       "    .dataframe tbody tr th {\n",
       "        vertical-align: top;\n",
       "    }\n",
       "\n",
       "    .dataframe thead th {\n",
       "        text-align: right;\n",
       "    }\n",
       "</style>\n",
       "<table border=\"1\" class=\"dataframe\">\n",
       "  <thead>\n",
       "    <tr style=\"text-align: right;\">\n",
       "      <th></th>\n",
       "      <th>Accuracy</th>\n",
       "      <th>Precision</th>\n",
       "      <th>Recall</th>\n",
       "      <th>F1_Score</th>\n",
       "      <th>New_Threshold</th>\n",
       "    </tr>\n",
       "  </thead>\n",
       "  <tbody>\n",
       "    <tr>\n",
       "      <th>LogisticRegression</th>\n",
       "      <td>0.8968</td>\n",
       "      <td>0.7873</td>\n",
       "      <td>0.8513</td>\n",
       "      <td>0.8181</td>\n",
       "      <td>0.5295</td>\n",
       "    </tr>\n",
       "    <tr>\n",
       "      <th>RandomForestClassifier</th>\n",
       "      <td>0.9306</td>\n",
       "      <td>0.8758</td>\n",
       "      <td>0.8686</td>\n",
       "      <td>0.8722</td>\n",
       "      <td>0.4800</td>\n",
       "    </tr>\n",
       "    <tr>\n",
       "      <th>LGBMClassifier</th>\n",
       "      <td>0.9334</td>\n",
       "      <td>0.8613</td>\n",
       "      <td>0.9005</td>\n",
       "      <td>0.8805</td>\n",
       "      <td>0.4268</td>\n",
       "    </tr>\n",
       "    <tr>\n",
       "      <th>Naive Baseline</th>\n",
       "      <td>0.7275</td>\n",
       "      <td>NaN</td>\n",
       "      <td>NaN</td>\n",
       "      <td>NaN</td>\n",
       "      <td>NaN</td>\n",
       "    </tr>\n",
       "  </tbody>\n",
       "</table>\n",
       "</div>"
      ],
      "text/plain": [
       "                        Accuracy  Precision  Recall  F1_Score  New_Threshold\n",
       "LogisticRegression        0.8968     0.7873  0.8513    0.8181         0.5295\n",
       "RandomForestClassifier    0.9306     0.8758  0.8686    0.8722         0.4800\n",
       "LGBMClassifier            0.9334     0.8613  0.9005    0.8805         0.4268\n",
       "Naive Baseline            0.7275        NaN     NaN       NaN            NaN"
      ]
     },
     "execution_count": 81,
     "metadata": {},
     "output_type": "execute_result"
    }
   ],
   "source": [
    "train_models.create_metric_df(adj_threshold=True)"
   ]
  },
  {
   "cell_type": "markdown",
   "id": "33fd62dd-e0c4-47e0-a28c-3bfef02152a2",
   "metadata": {},
   "source": [
    "## Are Feature Importances Statistically Significant?\n",
    "\n",
    "A very nice attribute of tree ensemble models is that they rank the importance of features by the amount of information gain they provide during the feature splitting that occurs during the training of the models. \n",
    "\n",
    "Although our dataset is anonymized, we can imagine being curious if these so called importance features have differing values between the classes that are statistically significant. If so, we can feel much more confident in the modeling results and create anti-fraud software using these results. "
   ]
  },
  {
   "cell_type": "code",
   "execution_count": 119,
   "id": "745fbb62-5474-456a-b285-e10eb2b8ed9d",
   "metadata": {},
   "outputs": [
    {
     "data": {
      "image/png": "[encoded data removed]",
      "text/plain": [
       "<Figure size 1800x288 with 1 Axes>"
      ]
     },
     "metadata": {
      "needs_background": "light"
     },
     "output_type": "display_data"
    }
   ],
   "source": [
    "df_feat_importance = train_models.create_feature_importance_df(best_model, prep_data.x_cols)\n",
    "\n",
    "title = \"Feature Importance in detecting Fraud\"\n",
    "df_feat_importance.sort_values(\"feat_imp\", ascending=False).plot(kind=\"bar\", grid=True, legend=True,\n",
    "                                                          figsize=(25, 4), use_index=True, title=title);"
   ]
  },
  {
   "cell_type": "code",
   "execution_count": 129,
   "id": "625c0761-dc94-4d17-a669-09c7a0677757",
   "metadata": {},
   "outputs": [
    {
     "data": {
      "image/png": "[encoded data removed]",
      "text/plain": [
       "<Figure size 1440x288 with 1 Axes>"
      ]
     },
     "metadata": {
      "needs_background": "light"
     },
     "output_type": "display_data"
    }
   ],
   "source": [
    "most_imp_feat = df_feat_importance.sort_values(\"feat_imp\", ascending=False).index[0]\n",
    "\n",
    "fraud_mask = prep_data.df_outliers_removed.targets == 1 \n",
    "not_fraud_mask = prep_data.df_outliers_removed.targets == 0\n",
    "\n",
    "fraud = prep_data.df_outliers_removed[fraud_mask][most_imp_feat]\n",
    "no_fraud = prep_data.df_outliers_removed[not_fraud_mask][most_imp_feat]\n",
    "\n",
    "title = \"{} dist split between fraud and non-fraud cases\".format(most_imp_feat)\n",
    "plt.title(title)\n",
    "fraud.hist(alpha=0.3, figsize=(20,4), bins=60, label=\"Fraud dist\")\n",
    "no_fraud.hist(alpha=0.3, figsize=(20,4), bins=60, label=\"Not Fraud dist\");\n",
    "plt.legend();"
   ]
  },
  {
   "cell_type": "markdown",
   "id": "da9cf436-917b-4e99-902a-9129e73277d5",
   "metadata": {},
   "source": [
    "## Hypothesis Testing \n",
    "\n",
    "Let's split values from the most important feature into two distributions - fraud and not fraud - and see if the resulting distributions have a difference in mean that is statistically different. \n",
    "\n",
    "- Null: means are the same\n",
    "- Alter: Means are not the same\n",
    "- p-value < 0.5 -> We reject the Null\n",
    "- p-value > 0.5 -> we fail to refect the Null\n"
   ]
  },
  {
   "cell_type": "code",
   "execution_count": 118,
   "id": "ef030310-1041-46c3-b078-6aff0e758ddf",
   "metadata": {},
   "outputs": [
    {
     "data": {
      "text/plain": [
       "(5981.460315648677, 25989.26397565096)"
      ]
     },
     "execution_count": 118,
     "metadata": {},
     "output_type": "execute_result"
    }
   ],
   "source": [
    "# these means are very different but let's run the test anyways\n",
    "fraud.mean(), no_fraud.mean()"
   ]
  },
  {
   "cell_type": "code",
   "execution_count": 117,
   "id": "a7d55eab-c558-4192-a1c6-29b364d8d37f",
   "metadata": {},
   "outputs": [
    {
     "data": {
      "text/plain": [
       "1.7782304388797554e-66"
      ]
     },
     "execution_count": 117,
     "metadata": {},
     "output_type": "execute_result"
    }
   ],
   "source": [
    "_ , p_value = ttest_ind(fraud, no_fraud)\n",
    "p_value"
   ]
  },
  {
   "cell_type": "markdown",
   "id": "110f3a21-bfed-4893-acd6-49047c742421",
   "metadata": {},
   "source": [
    "### Future Work\n",
    "\n",
    "The distribution of values from `col_67` between fraud and non-fraud cases have a statistically significatn difference in their mean. This means that, whatever col_67 represents, fraud and non-fraud cases have, in this case, very different characteristics that we should be able to see in the data inself - abscent any predictive models. \n",
    "\n",
    "- One potential path forward is to circle back to EDA and investigate the details of these differences. \n",
    "- Another potential path forward is to start applying business logic to these differences and create action plans for bettering understand the characteristics of fraud and prevent it. "
   ]
  }
 ],
 "metadata": {
  "kernelspec": {
   "display_name": "Python 3 (ipykernel)",
   "language": "python",
   "name": "python3"
  },
  "language_info": {
   "codemirror_mode": {
    "name": "ipython",
    "version": 3
   },
   "file_extension": ".py",
   "mimetype": "text/x-python",
   "name": "python",
   "nbconvert_exporter": "python",
   "pygments_lexer": "ipython3",
   "version": "3.8.11"
  }
 },
 "nbformat": 4,
 "nbformat_minor": 5
}
