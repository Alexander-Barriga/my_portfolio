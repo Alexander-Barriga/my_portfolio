{
 "cells": [
  {
   "cell_type": "code",
   "execution_count": 1,
   "id": "309425a5-a45d-425a-a048-7ba72592d16c",
   "metadata": {},
   "outputs": [],
   "source": [
    "%load_ext autoreload\n",
    "%autoreload 2\n",
    "%matplotlib inline\n",
    "\n",
    "# native tools\n",
    "import sys\n",
    "from copy import copy\n",
    "from collections import Counter\n",
    "from joblib import dump, load\n",
    "\n",
    "# for data analysis \n",
    "import numpy as np\n",
    "import pandas as pd\n",
    "import matplotlib.pyplot as plt\n",
    "\n",
    "# for feature selection\n",
    "from sklearn.feature_selection import VarianceThreshold\n",
    "\n",
    "# feature engineering \n",
    "from sklearn.decomposition import PCA\n",
    "from sklearn.preprocessing import StandardScaler\n",
    "\n",
    "# for outlier detection\n",
    "from sklearn.ensemble import IsolationForest\n",
    "from sklearn.svm import OneClassSVM\n",
    "\n",
    "# for imbalanced classes\n",
    "from imblearn.over_sampling import SMOTENC\n",
    "\n",
    "# linear models\n",
    "from sklearn.linear_model import LogisticRegression\n",
    "\n",
    "# non-linear models\n",
    "from sklearn.ensemble import RandomForestClassifier\n",
    "import lightgbm as lgb\n",
    "\n",
    "# modeling building tools\n",
    "from sklearn.pipeline import Pipeline\n",
    "from sklearn.compose import ColumnTransformer\n",
    "from sklearn.model_selection import GridSearchCV\n",
    "from sklearn.model_selection import train_test_split\n",
    "from keras.callbacks import EarlyStopping\n",
    "from sklearn.metrics import (accuracy_score, precision_score, recall_score, \n",
    "                             f1_score, precision_recall_curve, PrecisionRecallDisplay)\n",
    "\n",
    "\n",
    "# custom functions, classes, etc ... \n",
    "sys.path.append(\"../Scripts\")\n",
    "from deep_learning import BuildNeuralNetArchitecture\n",
    "from prep_data import PrepDataForModeling\n",
    "from train_models import TrainModels\n",
    "from tensorflow.keras.wrappers.scikit_learn import KerasClassifier"
   ]
  },
  {
   "cell_type": "code",
   "execution_count": null,
   "id": "8bd3b161-5d30-44ec-9b61-e9f630aea00f",
   "metadata": {},
   "outputs": [],
   "source": []
  },
  {
   "cell_type": "code",
   "execution_count": null,
   "id": "0ea86a63-1b71-4624-afa6-35629ff8c9fa",
   "metadata": {},
   "outputs": [],
   "source": []
  },
  {
   "cell_type": "code",
   "execution_count": null,
   "id": "f124b4db-78e1-4fbe-ad30-8a1deb573cf8",
   "metadata": {},
   "outputs": [],
   "source": []
  },
  {
   "cell_type": "code",
   "execution_count": null,
   "id": "a6cfe309-67ee-4618-a711-01c7bf0ce69c",
   "metadata": {},
   "outputs": [],
   "source": []
  },
  {
   "cell_type": "code",
   "execution_count": null,
   "id": "9c984aa4-16e7-4917-a0f8-1c4dc3848fc1",
   "metadata": {},
   "outputs": [],
   "source": []
  }
 ],
 "metadata": {
  "kernelspec": {
   "display_name": "Python 3 (ipykernel)",
   "language": "python",
   "name": "python3"
  },
  "language_info": {
   "codemirror_mode": {
    "name": "ipython",
    "version": 3
   },
   "file_extension": ".py",
   "mimetype": "text/x-python",
   "name": "python",
   "nbconvert_exporter": "python",
   "pygments_lexer": "ipython3",
   "version": "3.8.11"
  }
 },
 "nbformat": 4,
 "nbformat_minor": 5
}
