{
 "cells": [
  {
   "cell_type": "code",
   "execution_count": 3,
   "metadata": {},
   "outputs": [],
   "source": [
    "# import LLM \n",
    "from langchain_openai import ChatOpenAI\n",
    "# guide response using template \n",
    "from langchain_core.prompts import ChatPromptTemplate\n",
    "# let's work with strings in the output\n",
    "from langchain_core.output_parsers import StrOutputParser\n",
    "# import embedding models\n",
    "from langchain_openai import OpenAIEmbeddings\n",
    "# import pdf reader\n",
    "from langchain_community.document_loaders import PyPDFLoader\n",
    "# import vectorstore \n",
    "from langchain_community.vectorstores import FAISS\n",
    "# import multiple document text splitter\n",
    "from langchain_text_splitters import RecursiveCharacterTextSplitter\n",
    "# import document template for answer retrieval \n",
    "from langchain.chains.combine_documents import create_stuff_documents_chain\n",
    "# retrieval chain helper\n",
    "from langchain.chains import create_retrieval_chain"
   ]
  },
  {
   "cell_type": "code",
   "execution_count": 4,
   "metadata": {},
   "outputs": [
    {
     "data": {
      "text/plain": [
       "False"
      ]
     },
     "execution_count": 4,
     "metadata": {},
     "output_type": "execute_result"
    }
   ],
   "source": [
    "import os\n",
    "from dotenv import load_dotenv # used to load env variables \n",
    "load_dotenv()\n"
   ]
  },
  {
   "cell_type": "code",
   "execution_count": 1,
   "metadata": {},
   "outputs": [],
   "source": [
    "# Retrieval Augmented Generation\n",
    "\n",
    "class medical_chatbot():\n",
    "    def __init__(self):\n",
    "            # load llm\n",
    "        self.llm = ChatOpenAI() \n",
    "        self.n_docs_retrieve = 10\n",
    "        self.embeddings = OpenAIEmbeddings()\n",
    "        \n",
    "        self.__load_docs()\n",
    "        self.__set_prompt()\n",
    "        \n",
    "    def __load_docs(self):\n",
    "        docs = []\n",
    "        for doc in os.listdir(os.getenv(\"PDF_FOLDER_PATH\")):\n",
    "            if doc.endswith('.pdf'):\n",
    "                pdf_path = os.path.join(os.getenv(\"PDF_FOLDER_PATH\"), doc)\n",
    "                loader = PyPDFLoader(pdf_path)\n",
    "                docs.extend(loader.load_and_split())\n",
    "        \n",
    "        self.faiss_index = FAISS.from_documents(docs, self.embeddings) \n",
    "        \n",
    "    def __set_prompt(self):\n",
    "        # set up the chain that takes a question and the retrieved documents and generates an answer.\n",
    "        self.prompt = ChatPromptTemplate.from_template(\"\"\"Your role is to provide information regarding melanoma. \n",
    "        Attempt to answer the following question based only on the provided context:\n",
    "\n",
    "            <context>\n",
    "            {context}\n",
    "            </context>\n",
    "            \n",
    "        If the context doesn't provide an answer, provide an answer from your own knowledge.\n",
    "        Question: {input}\"\"\")\n",
    "        \n",
    "\n",
    "    def get_retrieval_augmented_answer(self, query):\n",
    "        \n",
    "        docs = self.faiss_index.similarity_search(query, k=self.n_docs_retrieve) # find docs sim to prompt\n",
    "\n",
    "        text_splitter = RecursiveCharacterTextSplitter()\n",
    "        documents = text_splitter.split_documents(docs)\n",
    "        vector = FAISS.from_documents(documents, self.embeddings) # we have this data indexed in a vectorstore\n",
    "        \n",
    "\n",
    "        document_chain = create_stuff_documents_chain(self.llm, self.prompt)\n",
    "        \n",
    "        # create retrieval \n",
    "        retriever = vector.as_retriever() \n",
    "        retrieval_chain = create_retrieval_chain(retriever, document_chain)\n",
    "        \n",
    "        # get response for prompt\n",
    "        self.response = retrieval_chain.invoke({\"input\": query})\n",
    "        return self.response[\"answer\"]"
   ]
  },
  {
   "cell_type": "code",
   "execution_count": 2,
   "metadata": {},
   "outputs": [
    {
     "ename": "NameError",
     "evalue": "name 'ChatOpenAI' is not defined",
     "output_type": "error",
     "traceback": [
      "\u001b[0;31m---------------------------------------------------------------------------\u001b[0m",
      "\u001b[0;31mNameError\u001b[0m                                 Traceback (most recent call last)",
      "Cell \u001b[0;32mIn[2], line 1\u001b[0m\n\u001b[0;32m----> 1\u001b[0m chatbot \u001b[38;5;241m=\u001b[39m medical_chatbot()\n",
      "Cell \u001b[0;32mIn[1], line 6\u001b[0m, in \u001b[0;36mmedical_chatbot.__init__\u001b[0;34m(self)\u001b[0m\n\u001b[1;32m      4\u001b[0m \u001b[38;5;28;01mdef\u001b[39;00m \u001b[38;5;21m__init__\u001b[39m(\u001b[38;5;28mself\u001b[39m):\n\u001b[1;32m      5\u001b[0m         \u001b[38;5;66;03m# load llm\u001b[39;00m\n\u001b[0;32m----> 6\u001b[0m     \u001b[38;5;28mself\u001b[39m\u001b[38;5;241m.\u001b[39mllm \u001b[38;5;241m=\u001b[39m ChatOpenAI() \n\u001b[1;32m      7\u001b[0m     \u001b[38;5;28mself\u001b[39m\u001b[38;5;241m.\u001b[39mn_docs_retrieve \u001b[38;5;241m=\u001b[39m \u001b[38;5;241m10\u001b[39m\n\u001b[1;32m      8\u001b[0m     \u001b[38;5;28mself\u001b[39m\u001b[38;5;241m.\u001b[39membeddings \u001b[38;5;241m=\u001b[39m OpenAIEmbeddings()\n",
      "\u001b[0;31mNameError\u001b[0m: name 'ChatOpenAI' is not defined"
     ]
    }
   ],
   "source": [
    "chatbot = medical_chatbot()"
   ]
  },
  {
   "cell_type": "code",
   "execution_count": 22,
   "metadata": {},
   "outputs": [
    {
     "data": {
      "text/plain": [
       "\"Melanoma is a type of skin cancer that develops in the skin cells called melanocytes. It is considered the most serious form of skin cancer because it is more likely to spread to other parts of the body, especially if not found early. Melanoma most often develops in areas that have been exposed to the sun, but it can also start in areas that don't receive much sun, such as the eye, nasal passages, mouth, genitals, soles of the feet, palms of the hands, and under the nails.\""
      ]
     },
     "execution_count": 22,
     "metadata": {},
     "output_type": "execute_result"
    }
   ],
   "source": [
    "\n",
    "query = 'What is melanoma?'\n",
    "chatbot.get_retrieval_augmented_answer(query)"
   ]
  },
  {
   "cell_type": "code",
   "execution_count": 23,
   "metadata": {},
   "outputs": [
    {
     "data": {
      "text/plain": [
       "'Nodular melanoma is a type of melanoma of the skin that often grows quickly. It is categorized by its clinical and pathological appearance and is one of the less common types of melanoma. Unlike other types of melanoma that may follow the ABCD signs, nodular melanoma may not fit these guidelines. It is important to be aware of the signs and symptoms of nodular melanoma, such as a rapidly growing raised bump on the skin, and to seek medical attention if any suspicious changes are noticed.'"
      ]
     },
     "execution_count": 23,
     "metadata": {},
     "output_type": "execute_result"
    }
   ],
   "source": [
    "query = 'What is nodular melanoma?' \n",
    "chatbot.get_retrieval_augmented_answer(query)"
   ]
  },
  {
   "cell_type": "code",
   "execution_count": 24,
   "metadata": {},
   "outputs": [
    {
     "data": {
      "text/plain": [
       "'The probability of death from early detection of melanoma is significantly lower compared to cases where melanoma is detected at a later stage. Early detection allows for prompt treatment and a higher chance of successful outcomes. In general, the prognosis for melanoma is more favorable when it is caught and treated in its early stages before it has spread to deeper layers of the skin or other organs. It is important to regularly check your skin for any changes and to seek medical attention if you notice any suspicious moles or spots.'"
      ]
     },
     "execution_count": 24,
     "metadata": {},
     "output_type": "execute_result"
    }
   ],
   "source": [
    "query = 'What is the probability of death of early detection of melanoma?' \n",
    "chatbot.get_retrieval_augmented_answer(query)"
   ]
  }
 ],
 "metadata": {
  "kernelspec": {
   "display_name": "base",
   "language": "python",
   "name": "python3"
  },
  "language_info": {
   "codemirror_mode": {
    "name": "ipython",
    "version": 3
   },
   "file_extension": ".py",
   "mimetype": "text/x-python",
   "name": "python",
   "nbconvert_exporter": "python",
   "pygments_lexer": "ipython3",
   "version": "3.11.5"
  }
 },
 "nbformat": 4,
 "nbformat_minor": 2
}
