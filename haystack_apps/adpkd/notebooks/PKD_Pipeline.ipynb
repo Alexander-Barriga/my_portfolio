{
 "cells": [
  {
   "cell_type": "code",
   "execution_count": 1,
   "metadata": {},
   "outputs": [
    {
     "name": "stderr",
     "output_type": "stream",
     "text": [
      "/Users/alexanderbarriga/my_portfolio/lang_learning_app/lang_learn_app_venv/lib/python3.10/site-packages/tqdm/auto.py:21: TqdmWarning: IProgress not found. Please update jupyter and ipywidgets. See https://ipywidgets.readthedocs.io/en/stable/user_install.html\n",
      "  from .autonotebook import tqdm as notebook_tqdm\n",
      "/Users/alexanderbarriga/my_portfolio/lang_learning_app/lang_learn_app_venv/lib/python3.10/site-packages/threadpoolctl.py:1214: RuntimeWarning: \n",
      "Found Intel OpenMP ('libiomp') and LLVM OpenMP ('libomp') loaded at\n",
      "the same time. Both libraries are known to be incompatible and this\n",
      "can cause random crashes or deadlocks on Linux when loaded in the\n",
      "same Python program.\n",
      "Using threadpoolctl may cause crashes or deadlocks. For more\n",
      "information and possible workarounds, please see\n",
      "    https://github.com/joblib/threadpoolctl/blob/master/multiple_openmp.md\n",
      "\n",
      "  warnings.warn(msg, RuntimeWarning)\n"
     ]
    }
   ],
   "source": [
    "from pprint import pprint\n",
    "from os import listdir\n",
    "from os.path import isfile, join\n",
    "from haystack import Document\n",
    "from haystack import Pipeline\n",
    "from haystack.document_stores.in_memory import InMemoryDocumentStore\n",
    "from haystack.components.builders.prompt_builder import PromptBuilder\n",
    "from haystack.components.generators import OpenAIGenerator\n",
    "from haystack.components.retrievers.in_memory import InMemoryBM25Retriever\n",
    "from haystack.components.converters import PyPDFToDocument\n",
    "from haystack.components.preprocessors import DocumentCleaner, DocumentSplitter\n",
    "from haystack.components.writers import DocumentWriter\n",
    "from haystack.components.routers import FileTypeRouter\n",
    "\n",
    "from haystack.components.routers import ConditionalRouter\n",
    "from haystack.components.websearch.serper_dev import SerperDevWebSearch\n",
    "\n",
    "# from haystack.components.embedders import SentenceTransformersTextEmbedder\n",
    "# from haystack.components.retrievers.in_memory import InMemoryEmbeddingRetriever\n",
    "# from haystack.components.builders.answer_builder import AnswerBuilder\n",
    "\n",
    "\n",
    "# load env vars\n",
    "from dotenv import load_dotenv\n",
    "assert load_dotenv() == True "
   ]
  },
  {
   "cell_type": "code",
   "execution_count": 34,
   "metadata": {},
   "outputs": [],
   "source": [
    "class Retrieval_System():\n",
    "    def __init__(self, doc_dir):\n",
    "        self.doc_dir = doc_dir\n",
    "        self.__setup()\n",
    "        \n",
    "    def __setup(self):\n",
    "        self.__retrieve_doc_paths()\n",
    "        self.__set_prompts()\n",
    "        self.__set_document_store()\n",
    "        self.__set_router()\n",
    "        self.__set_preprocess_pipeline()\n",
    "        self.__set_rag_pipeline()\n",
    "        \n",
    "    def __retrieve_doc_paths(self):\n",
    "        self.doc_paths = [self.doc_dir+f for f in listdir(self.doc_dir) if isfile(join(self.doc_dir, f))]\n",
    "        \n",
    "    def __set_prompts(self):\n",
    "        self.prompt = \"\"\"\n",
    "        Answer the following query given the documents.\n",
    "        Your answer should explicitly state that your answer was generated from database documents.\n",
    "        If the answer is not contained within the documents reply exclusively with 'no_answer'\n",
    "        \n",
    "        Query: {{query}}\n",
    "        Documents:\n",
    "        {% for document in documents %}\n",
    "        {{document.content}}\n",
    "        {% endfor %}\n",
    "        \"\"\"\n",
    "        # self.prompt = \"\"\"\n",
    "        # Answer the following query given the documents.\n",
    "        # Your answer should explicitly state that your answer was generated from database documents.\n",
    "        # If the answer is not contained within the documents reply exclusively with 'no_answer'\n",
    "        \n",
    "        # Query: {{query}}\n",
    "        # Documents:\n",
    "        # {% for document in documents %}\n",
    "        # {{document.content}}\n",
    "        # {% endfor %}\n",
    "        \n",
    "        # \\nQuestion: {{query}}\n",
    "        # \\nAnswer:\n",
    "        # \"\"\"\n",
    "            \n",
    "        self.prompt_builder = PromptBuilder(template=self.prompt)\n",
    "        self.llm = OpenAIGenerator(model=\"gpt-3.5-turbo\")\n",
    "        \n",
    "        self.prompt_for_websearch = \"\"\"\n",
    "        Answer the following query given the documents retrieved from the web.\n",
    "        Explicitly state in your answer that your answer was was generated using online sources.\n",
    "\n",
    "        Query: {{query}}\n",
    "        Documents:\n",
    "        {% for document in documents %}\n",
    "        {{document.content}}\n",
    "        {% endfor %}\n",
    "    \n",
    "        \"\"\"\n",
    "        \n",
    "        \n",
    "        # self.prompt_for_websearch = \"\"\"\n",
    "        # Answer the following query given the documents retrieved from the web.\n",
    "        # Explicitly state in your answer that your answer was was generated using online sources.\n",
    "\n",
    "        # Query: {{query}}\n",
    "        # Documents:\n",
    "        # {% for document in documents %}\n",
    "        # {{document.content}}\n",
    "        # {% endfor %}\n",
    "        \n",
    "        # \\nQuestion: {{query}}\n",
    "        # \\nAnswer:\n",
    "        # \"\"\"\n",
    "\n",
    "        self.prompt_builder_for_websearch = PromptBuilder(template=self.prompt_for_websearch)\n",
    "        \n",
    "        self.websearch = SerperDevWebSearch()\n",
    "        self.llm_for_websearch = OpenAIGenerator(model=\"gpt-3.5-turbo\")\n",
    "        \n",
    "    def __set_router(self):\n",
    "        routes = [\n",
    "            {\n",
    "                \"condition\": \"{{'no_answer' in replies[0]}}\",\n",
    "                \"output\": \"{{query}}\",\n",
    "                \"output_name\": \"go_to_websearch\",\n",
    "                \"output_type\": str,\n",
    "            },\n",
    "            {\n",
    "                \"condition\": \"{{'no_answer' not in replies[0]}}\",\n",
    "                \"output\": \"{{replies[0]}}\",\n",
    "                \"output_name\": \"answer\",\n",
    "                \"output_type\": str,\n",
    "            },\n",
    "        ]\n",
    "        self.router = ConditionalRouter(routes)\n",
    "\n",
    "            \n",
    "    def __set_document_store(self):\n",
    "        self.document_store = InMemoryDocumentStore()\n",
    "        self.file_type_router = FileTypeRouter(mime_types=[\"application/pdf\"])\n",
    "\n",
    "        self.pdf_converter = PyPDFToDocument()\n",
    "        self.document_cleaner = DocumentCleaner()\n",
    "        self.document_splitter = DocumentSplitter(\n",
    "            split_by = \"passage\",\n",
    "            split_length = 500,\n",
    "            split_overlap = 50\n",
    "        ) \n",
    "        self.document_writer = DocumentWriter(self.document_store)\n",
    "    \n",
    "    def __set_preprocess_pipeline(self):\n",
    "        self.preprocessing_pipeline = Pipeline()\n",
    "        self.preprocessing_pipeline.add_component(instance=self.file_type_router, name=\"file_type_router\")\n",
    "        self.preprocessing_pipeline.add_component(instance=self.pdf_converter, name=\"pypdf_converter\")\n",
    "        self.preprocessing_pipeline.add_component(instance=self.document_cleaner, name=\"document_cleaner\")\n",
    "        self.preprocessing_pipeline.add_component(instance=self.document_splitter, name=\"document_splitter\")\n",
    "        self.preprocessing_pipeline.add_component(instance=self.document_writer, name=\"document_writer\")\n",
    "\n",
    "        self.preprocessing_pipeline.connect(\"file_type_router.application/pdf\", \"pypdf_converter.sources\")\n",
    "        self.preprocessing_pipeline.connect(\"pypdf_converter\", \"document_cleaner\")\n",
    "        self.preprocessing_pipeline.connect(\"document_cleaner\", \"document_splitter\")\n",
    "        self.preprocessing_pipeline.connect(\"document_splitter\", \"document_writer\")\n",
    "        \n",
    "        self.preprocessing_pipeline.run({\"file_type_router\": {\"sources\":self.doc_paths}})\n",
    "        \n",
    "    def __set_rag_pipeline(self):\n",
    "        self.pipeline = Pipeline()\n",
    "        \n",
    "        self.pipeline.add_component(instance=InMemoryBM25Retriever(document_store=self.document_store), name=\"retriever\")\n",
    "        \n",
    "        self.pipeline.add_component(instance=self.llm, name=\"llm\")\n",
    "        self.pipeline.add_component(instance=self.router, name=\"router\")\n",
    "        self.pipeline.add_component(instance=self.websearch, name=\"websearch\")\n",
    "        self.pipeline.add_component(instance=self.prompt_builder, name=\"prompt_builder\")\n",
    "        self.pipeline.add_component(instance=self.prompt_builder_for_websearch, name=\"prompt_builder_for_websearch\")\n",
    "        self.pipeline.add_component(instance=self.llm_for_websearch, name=\"llm_for_websearch\")\n",
    "\n",
    "        # datastore and retriever\n",
    "        # llm and prompt for RAG\n",
    "        self.pipeline.connect(\"prompt_builder\", \"llm\")\n",
    "        self.pipeline.connect(\"llm.replies\", \"router.replies\")\n",
    "        # llm and prompt for websearch\n",
    "        self.pipeline.connect(\"router.go_to_websearch\", \"websearch.query\")\n",
    "        self.pipeline.connect(\"router.go_to_websearch\", \"prompt_builder_for_websearch.query\")\n",
    "        self.pipeline.connect(\"websearch.documents\", \"prompt_builder_for_websearch.documents\")\n",
    "        self.pipeline.connect(\"prompt_builder_for_websearch\", \"llm_for_websearch\")\n",
    "        \n",
    "        # aggregate all responses for final output \n",
    "        # self.pipeline.connect(\"llm.replies\", \"answer_builder.replies\")\n",
    "        # self.pipeline.connect(\"llm_for_websearch\", \"answer_builder.replies\")\n",
    "        \n",
    "        # self.pipeline.connect(\"llm.replies\", \"joiner\")\n",
    "        # self.pipeline.connect(\"llm_for_websearch.replies\", \"joiner\")\n",
    "        # self.pipeline.connect(\"joiner\", \"answer_builder.replies\")\n",
    "        # self.pipeline.connect(\"llm.meta\", \"answer_builder.meta\")\n",
    "        # self.pipeline.connect(\"retriever\", \"answer_builder.documents\")\n",
    "\n",
    "        \n",
    "        \n",
    "    def run(self, query):\n",
    "        results = self.pipeline.run(\n",
    "        {\n",
    "        \"retriever\": {\"query\": query},\n",
    "        \"prompt_builder\": {\"query\": query},\n",
    "        #\"prompt_builder_for_websearch\": {\"query\": query}, # already sent by router\n",
    "        # \"answer_builder\": {\"query\": query}, \n",
    "        \"router\": {\"query\": query}\n",
    "        }\n",
    "        )\n",
    "        \n",
    "        if 'router' in results.keys():\n",
    "            #return results\n",
    "            return results['router']['answer']\n",
    "        #return results\n",
    "        return results['llm_for_websearch']['replies']\n",
    "        "
   ]
  },
  {
   "cell_type": "code",
   "execution_count": 35,
   "metadata": {},
   "outputs": [],
   "source": [
    "pipe = Retrieval_System(doc_dir = \"../PKD_PDFs/\")"
   ]
  },
  {
   "cell_type": "code",
   "execution_count": 36,
   "metadata": {},
   "outputs": [
    {
     "name": "stdout",
     "output_type": "stream",
     "text": [
      "['Based on the information retrieved from online sources, autosomal dominant '\n",
      " 'PKD (polycystic kidney disease) is a genetic disorder where individuals can '\n",
      " 'inherit the disease-causing genetic variation from only one parent. This '\n",
      " 'means that if one parent has the disease, each child will have a 50 percent '\n",
      " 'chance of inheriting it. ADPKD is characterized by the development of '\n",
      " 'fluid-filled cysts within the kidneys and is considered one of the most '\n",
      " 'common and life-threatening genetic diseases. It is a progressive disorder '\n",
      " 'that can lead to various complications due to the cyst formation in multiple '\n",
      " 'organs.']\n"
     ]
    }
   ],
   "source": [
    "# response should be taken from RAG\n",
    "query = \"What is autosomal dominate PKD?\"\n",
    "response = pipe.run(query)\n",
    "pprint(response)"
   ]
  },
  {
   "cell_type": "code",
   "execution_count": 37,
   "metadata": {},
   "outputs": [
    {
     "name": "stdout",
     "output_type": "stream",
     "text": [
      "('From database documents, the symptoms of autosomal dominant PKD are:\\n'\n",
      " '- High blood pressure\\n'\n",
      " '- Back or side pain\\n'\n",
      " '- Headache\\n'\n",
      " '- Frequent urination\\n'\n",
      " '- Blood in urine\\n'\n",
      " '- Kidney stones\\n'\n",
      " '- Pain or tenderness in the abdomen')\n"
     ]
    }
   ],
   "source": [
    "# response should be taken from RAG\n",
    "query = \"What are the symptoms of autosomal dominant PKD?\"\n",
    "response = pipe.run(query)\n",
    "pprint(response)"
   ]
  },
  {
   "cell_type": "code",
   "execution_count": 38,
   "metadata": {},
   "outputs": [
    {
     "name": "stdout",
     "output_type": "stream",
     "text": [
      "('Answer: Yes, exercise is recommended for people with PKD according to '\n",
      " 'document 3.')\n"
     ]
    }
   ],
   "source": [
    "# response should be taken from RAG\n",
    "query = \"Is exercise recommended for people with PKD?\"\n",
    "response = pipe.run(query)\n",
    "pprint(response)"
   ]
  },
  {
   "cell_type": "code",
   "execution_count": 39,
   "metadata": {},
   "outputs": [
    {
     "name": "stdout",
     "output_type": "stream",
     "text": [
      "['Based on the documents retrieved from online sources, the most famous '\n",
      " 'building in the United States is the Empire State Building in New York City, '\n",
      " 'NY. It is considered one of the most famous buildings in the world and is '\n",
      " 'the flagship of the New York skyline. Other notable mentions include the '\n",
      " \"White House in Washington, D.C., which is also considered one of America's \"\n",
      " 'favorites, and the Gateway Arch in St. Louis, Montana.']\n"
     ]
    }
   ],
   "source": [
    "# response should be web based\n",
    "query = \"What is the most famous building in the United States?\"\n",
    "response = pipe.run(query)\n",
    "pprint(response)"
   ]
  },
  {
   "cell_type": "code",
   "execution_count": 40,
   "metadata": {},
   "outputs": [
    {
     "name": "stdout",
     "output_type": "stream",
     "text": [
      "['Based on the information provided in the documents retrieved from the web, '\n",
      " 'the weather in Glendale, California on July 4th, 2024 is expected to be '\n",
      " 'mostly clear with a high of around 84-86°F. The average daily high '\n",
      " 'temperature in Glendale during July is typically around 84-86°F, and it is '\n",
      " 'mentioned that there is a low chance of overcast or mostly cloudy weather. \\n'\n",
      " '\\n'\n",
      " 'This answer was generated using online sources.']\n"
     ]
    }
   ],
   "source": [
    "# response should be web based\n",
    "query = \"What will the weather in Glendale, California be on July 4th, 2024?\"\n",
    "response = pipe.run(query)\n",
    "pprint(response)"
   ]
  },
  {
   "cell_type": "code",
   "execution_count": null,
   "metadata": {},
   "outputs": [],
   "source": []
  },
  {
   "cell_type": "code",
   "execution_count": null,
   "metadata": {},
   "outputs": [],
   "source": []
  },
  {
   "cell_type": "code",
   "execution_count": null,
   "metadata": {},
   "outputs": [],
   "source": []
  }
 ],
 "metadata": {
  "kernelspec": {
   "display_name": "lang_learn_app_venv",
   "language": "python",
   "name": "python3"
  },
  "language_info": {
   "codemirror_mode": {
    "name": "ipython",
    "version": 3
   },
   "file_extension": ".py",
   "mimetype": "text/x-python",
   "name": "python",
   "nbconvert_exporter": "python",
   "pygments_lexer": "ipython3",
   "version": "3.10.13"
  }
 },
 "nbformat": 4,
 "nbformat_minor": 2
}
